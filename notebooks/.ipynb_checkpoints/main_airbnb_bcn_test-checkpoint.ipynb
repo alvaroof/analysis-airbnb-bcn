{
 "cells": [
  {
   "cell_type": "markdown",
   "metadata": {},
   "source": [
    "# Test Script for Airbnb project - Using data from 09 November, 2019 at first, then several snapshots\n",
    "\n",
    "**Author**: Álvaro Ortiz (ortiz.fernandez.alvaro@gmail.com)<br>\n",
    "**Date**: 2019-12-21\n",
    "\n",
    "This is not the main notebook for this project. This notebook is intended to serve as a playground for me, a place where I can test new ideas and write code as I go. To take a look at the actual project and its findings, please head to \n",
    "**airbnb_main_bcn.ipynb**\n",
    "\n",
    "This notebook also serves as a template for the main script, therefore some content is duplicated between these two notebooks."
   ]
  },
  {
   "cell_type": "code",
   "execution_count": 150,
   "metadata": {},
   "outputs": [],
   "source": [
    "import pandas as pd\n",
    "import numpy as np\n",
    "import matplotlib.pyplot as plt\n",
    "import seaborn as sns\n",
    "import os\n",
    "import json\n",
    "\n",
    "\n",
    "%matplotlib notebook"
   ]
  },
  {
   "cell_type": "code",
   "execution_count": 151,
   "metadata": {},
   "outputs": [],
   "source": [
    "from shapely.geometry import Point, Polygon\n",
    "import geopandas as gpd\n",
    "import geojsonio"
   ]
  },
  {
   "cell_type": "markdown",
   "metadata": {},
   "source": [
    "# Table of Contents\n",
    "\n",
    "1. Research Questions\n",
    "2. Loading and understanding data\n",
    "3. Data Preparation\n",
    "4. Analysis\n",
    "5. Results"
   ]
  },
  {
   "cell_type": "markdown",
   "metadata": {},
   "source": [
    "# 1. Research Questions\n",
    "\n",
    "The following are some questions we have identified to be of interest and that could potentially be answered by the data\n",
    "\n",
    "* **What percentage of listings might actually be businesses as of last snapshot (Nov 2019)?** Airbnb claims that they offer a platform for the people to share their homes but what if this is not actually true? Hosts listing entire apartments for a long time, or multiple apartments at the same time might be running a business instead of benefiting from the 'sharing' economy.<br>\n",
    "* **Which are the neighborhoods that concentrate the greater number of multiple listings with the same host?** If we accept as truth (because let's not fool ourselves, this is probably the case) that many people run businesses in Airbnb can we identidy which are the most affected neighborhoods? These are the most likely to have housing problems derived from Airbnb activities.\n",
    "* **Has the trend in available listings affected the number of rental contracts signed in Barcelona over the years?** An upward trend in number of listings, and a downward trend in number of rental contracts signed in Barcelona, might be a indicator that there is a housing problem derived from Airbnb activities. The same moment that landlords realize that they can better monetize a whole apartment in Airbnb, rather than renting it to a long-term tenant, the moment we should be seeing a negative effect in available housing, which could be reflected in number of rental contracts."
   ]
  },
  {
   "cell_type": "markdown",
   "metadata": {},
   "source": [
    "# 2. Loading and understanding the data\n",
    "\n",
    "The data essentially comes from the two sources listed in the [README](https://github.com/alvaroof/analysis-airbnb-bcn/blob/master/README.md) file. We will load it and make some exploratory analysis, but be aware that this is not intended to serve as part of the analysis we will conduct to generate the results."
   ]
  },
  {
   "cell_type": "markdown",
   "metadata": {},
   "source": [
    "### Load the Data from [Inside Airbnb](http://insideairbnb.com/) related to Airbnb housing market in Barcelona"
   ]
  },
  {
   "cell_type": "code",
   "execution_count": 152,
   "metadata": {},
   "outputs": [],
   "source": [
    "listings = pd.read_csv('../data/listings_summary_2019_11.csv')\n",
    "# listings_all = pd.read_csv('data/listings.csv')\n",
    "# calendar = pd.read_csv('../data/calendar.csv')\n",
    "reviews = pd.read_csv('../data/reviews_2019_11.csv')\n",
    "neighbourhoods = pd.read_csv('../data/neighbourhoods.csv')"
   ]
  },
  {
   "cell_type": "code",
   "execution_count": 153,
   "metadata": {},
   "outputs": [
    {
     "name": "stdout",
     "output_type": "stream",
     "text": [
      "(20428, 16)\n",
      "(740992, 2)\n",
      "(73, 2)\n"
     ]
    }
   ],
   "source": [
    "print(listings.shape)\n",
    "# print(calendar.shape)\n",
    "# print(listings_all.shape)\n",
    "print(reviews.shape)\n",
    "print(neighbourhoods.shape)"
   ]
  },
  {
   "cell_type": "code",
   "execution_count": 154,
   "metadata": {},
   "outputs": [],
   "source": [
    "gpd_barcelona = gpd.read_file('../data/neighbourhoods.geojson')\n",
    "json_barcelona = gpd_barcelona.to_json()"
   ]
  },
  {
   "cell_type": "markdown",
   "metadata": {},
   "source": [
    "### Load data from [Barcelona's Open Data Portal](https://opendata-ajuntament.barcelona.cat/en/) related to standard housing market (only rentings)"
   ]
  },
  {
   "cell_type": "code",
   "execution_count": 155,
   "metadata": {},
   "outputs": [],
   "source": [
    "cont = pd.DataFrame() # this list contains csv counting number of rented homes in Barcelona for the given period\n",
    "preu = pd.DataFrame() # this list contains csv with the mean price of rented homes in Barcelona for the given period\n",
    "\n",
    "for i,file in enumerate(os.listdir('../data')):\n",
    "    if 'lloguer_cont' in file:\n",
    "        file = os.path.basename(file)\n",
    "        file = '../data/' + file\n",
    "        cont = pd.concat([cont,pd.read_csv(file)])\n",
    "    elif 'lloguer_preu' in file:\n",
    "        file = os.path.basename(file)\n",
    "        file = '../data/' + file\n",
    "        preu = pd.concat([preu,pd.read_csv(file)])\n",
    "        \n",
    "preu = preu.loc[preu['Lloguer_mitja']=='Lloguer mitjà mensual (Euros/mes)'].drop(columns=['Lloguer_mitja'])\n",
    "cont = cont.drop(columns=['Contractes'])\n",
    "\n",
    "cols_to_join = preu.columns[preu.columns != 'Preu'].tolist()\n",
    "\n",
    "housing_info_barcelona = preu.merge(cont, left_on=cols_to_join, right_on=cols_to_join)"
   ]
  },
  {
   "cell_type": "code",
   "execution_count": 156,
   "metadata": {},
   "outputs": [
    {
     "data": {
      "text/html": [
       "<div>\n",
       "<style scoped>\n",
       "    .dataframe tbody tr th:only-of-type {\n",
       "        vertical-align: middle;\n",
       "    }\n",
       "\n",
       "    .dataframe tbody tr th {\n",
       "        vertical-align: top;\n",
       "    }\n",
       "\n",
       "    .dataframe thead th {\n",
       "        text-align: right;\n",
       "    }\n",
       "</style>\n",
       "<table border=\"1\" class=\"dataframe\">\n",
       "  <thead>\n",
       "    <tr style=\"text-align: right;\">\n",
       "      <th></th>\n",
       "      <th>id</th>\n",
       "      <th>name</th>\n",
       "      <th>host_id</th>\n",
       "      <th>host_name</th>\n",
       "      <th>neighbourhood_group</th>\n",
       "      <th>neighbourhood</th>\n",
       "      <th>latitude</th>\n",
       "      <th>longitude</th>\n",
       "      <th>room_type</th>\n",
       "      <th>price</th>\n",
       "      <th>minimum_nights</th>\n",
       "      <th>number_of_reviews</th>\n",
       "      <th>last_review</th>\n",
       "      <th>reviews_per_month</th>\n",
       "      <th>calculated_host_listings_count</th>\n",
       "      <th>availability_365</th>\n",
       "    </tr>\n",
       "  </thead>\n",
       "  <tbody>\n",
       "    <tr>\n",
       "      <th>0</th>\n",
       "      <td>18666</td>\n",
       "      <td>Flat with Sunny Terrace</td>\n",
       "      <td>71615</td>\n",
       "      <td>Mireia And Maria</td>\n",
       "      <td>Sant Martí</td>\n",
       "      <td>el Camp de l'Arpa del Clot</td>\n",
       "      <td>41.40889</td>\n",
       "      <td>2.18555</td>\n",
       "      <td>Entire home/apt</td>\n",
       "      <td>130</td>\n",
       "      <td>3</td>\n",
       "      <td>1</td>\n",
       "      <td>2015-10-10</td>\n",
       "      <td>0.02</td>\n",
       "      <td>30</td>\n",
       "      <td>304</td>\n",
       "    </tr>\n",
       "    <tr>\n",
       "      <th>1</th>\n",
       "      <td>18674</td>\n",
       "      <td>Huge flat for 8 people close to Sagrada Familia</td>\n",
       "      <td>71615</td>\n",
       "      <td>Mireia And Maria</td>\n",
       "      <td>Eixample</td>\n",
       "      <td>la Sagrada Família</td>\n",
       "      <td>41.40420</td>\n",
       "      <td>2.17306</td>\n",
       "      <td>Entire home/apt</td>\n",
       "      <td>60</td>\n",
       "      <td>1</td>\n",
       "      <td>20</td>\n",
       "      <td>2019-10-19</td>\n",
       "      <td>0.25</td>\n",
       "      <td>30</td>\n",
       "      <td>312</td>\n",
       "    </tr>\n",
       "  </tbody>\n",
       "</table>\n",
       "</div>"
      ],
      "text/plain": [
       "      id                                             name  host_id  \\\n",
       "0  18666                          Flat with Sunny Terrace    71615   \n",
       "1  18674  Huge flat for 8 people close to Sagrada Familia    71615   \n",
       "\n",
       "          host_name neighbourhood_group               neighbourhood  latitude  \\\n",
       "0  Mireia And Maria          Sant Martí  el Camp de l'Arpa del Clot  41.40889   \n",
       "1  Mireia And Maria            Eixample          la Sagrada Família  41.40420   \n",
       "\n",
       "   longitude        room_type  price  minimum_nights  number_of_reviews  \\\n",
       "0    2.18555  Entire home/apt    130               3                  1   \n",
       "1    2.17306  Entire home/apt     60               1                 20   \n",
       "\n",
       "  last_review  reviews_per_month  calculated_host_listings_count  \\\n",
       "0  2015-10-10               0.02                              30   \n",
       "1  2019-10-19               0.25                              30   \n",
       "\n",
       "   availability_365  \n",
       "0               304  \n",
       "1               312  "
      ]
     },
     "execution_count": 156,
     "metadata": {},
     "output_type": "execute_result"
    }
   ],
   "source": [
    "listings.head(2)"
   ]
  },
  {
   "cell_type": "code",
   "execution_count": 157,
   "metadata": {},
   "outputs": [
    {
     "data": {
      "text/html": [
       "<div>\n",
       "<style scoped>\n",
       "    .dataframe tbody tr th:only-of-type {\n",
       "        vertical-align: middle;\n",
       "    }\n",
       "\n",
       "    .dataframe tbody tr th {\n",
       "        vertical-align: top;\n",
       "    }\n",
       "\n",
       "    .dataframe thead th {\n",
       "        text-align: right;\n",
       "    }\n",
       "</style>\n",
       "<table border=\"1\" class=\"dataframe\">\n",
       "  <thead>\n",
       "    <tr style=\"text-align: right;\">\n",
       "      <th></th>\n",
       "      <th>neighbourhood_group</th>\n",
       "      <th>neighbourhood</th>\n",
       "    </tr>\n",
       "  </thead>\n",
       "  <tbody>\n",
       "    <tr>\n",
       "      <th>0</th>\n",
       "      <td>Ciutat Vella</td>\n",
       "      <td>el Barri Gòtic</td>\n",
       "    </tr>\n",
       "    <tr>\n",
       "      <th>1</th>\n",
       "      <td>Ciutat Vella</td>\n",
       "      <td>el Raval</td>\n",
       "    </tr>\n",
       "    <tr>\n",
       "      <th>2</th>\n",
       "      <td>Ciutat Vella</td>\n",
       "      <td>la Barceloneta</td>\n",
       "    </tr>\n",
       "    <tr>\n",
       "      <th>3</th>\n",
       "      <td>Ciutat Vella</td>\n",
       "      <td>Sant Pere, Santa Caterina i la Ribera</td>\n",
       "    </tr>\n",
       "    <tr>\n",
       "      <th>4</th>\n",
       "      <td>Eixample</td>\n",
       "      <td>el Fort Pienc</td>\n",
       "    </tr>\n",
       "  </tbody>\n",
       "</table>\n",
       "</div>"
      ],
      "text/plain": [
       "  neighbourhood_group                          neighbourhood\n",
       "0        Ciutat Vella                         el Barri Gòtic\n",
       "1        Ciutat Vella                               el Raval\n",
       "2        Ciutat Vella                         la Barceloneta\n",
       "3        Ciutat Vella  Sant Pere, Santa Caterina i la Ribera\n",
       "4            Eixample                          el Fort Pienc"
      ]
     },
     "execution_count": 157,
     "metadata": {},
     "output_type": "execute_result"
    }
   ],
   "source": [
    "neighbourhoods.head()"
   ]
  },
  {
   "cell_type": "code",
   "execution_count": 158,
   "metadata": {},
   "outputs": [
    {
     "data": {
      "text/html": [
       "<div>\n",
       "<style scoped>\n",
       "    .dataframe tbody tr th:only-of-type {\n",
       "        vertical-align: middle;\n",
       "    }\n",
       "\n",
       "    .dataframe tbody tr th {\n",
       "        vertical-align: top;\n",
       "    }\n",
       "\n",
       "    .dataframe thead th {\n",
       "        text-align: right;\n",
       "    }\n",
       "</style>\n",
       "<table border=\"1\" class=\"dataframe\">\n",
       "  <thead>\n",
       "    <tr style=\"text-align: right;\">\n",
       "      <th></th>\n",
       "      <th>listing_id</th>\n",
       "      <th>date</th>\n",
       "    </tr>\n",
       "  </thead>\n",
       "  <tbody>\n",
       "    <tr>\n",
       "      <th>0</th>\n",
       "      <td>18666</td>\n",
       "      <td>2015-10-10</td>\n",
       "    </tr>\n",
       "    <tr>\n",
       "      <th>1</th>\n",
       "      <td>18674</td>\n",
       "      <td>2013-05-27</td>\n",
       "    </tr>\n",
       "  </tbody>\n",
       "</table>\n",
       "</div>"
      ],
      "text/plain": [
       "   listing_id        date\n",
       "0       18666  2015-10-10\n",
       "1       18674  2013-05-27"
      ]
     },
     "execution_count": 158,
     "metadata": {},
     "output_type": "execute_result"
    }
   ],
   "source": [
    "reviews.head(2)"
   ]
  },
  {
   "cell_type": "markdown",
   "metadata": {},
   "source": [
    "### are the neighbourhoods listed in BCN open data portal and in Airbnb named the same?"
   ]
  },
  {
   "cell_type": "code",
   "execution_count": 159,
   "metadata": {},
   "outputs": [],
   "source": [
    "bcn_districts = set(housing_info_barcelona['Nom_Districte'].unique())"
   ]
  },
  {
   "cell_type": "code",
   "execution_count": 160,
   "metadata": {},
   "outputs": [],
   "source": [
    "airbnb_districs = set(listings['neighbourhood_group'].unique())"
   ]
  },
  {
   "cell_type": "code",
   "execution_count": 161,
   "metadata": {},
   "outputs": [
    {
     "data": {
      "text/plain": [
       "set()"
      ]
     },
     "execution_count": 161,
     "metadata": {},
     "output_type": "execute_result"
    }
   ],
   "source": [
    "bcn_districts.difference(airbnb_districs)"
   ]
  },
  {
   "cell_type": "code",
   "execution_count": 162,
   "metadata": {},
   "outputs": [],
   "source": [
    "bcn_neighbourhoods = set(housing_info_barcelona['Nom_Barri'].unique())"
   ]
  },
  {
   "cell_type": "code",
   "execution_count": 163,
   "metadata": {},
   "outputs": [],
   "source": [
    "airbnb_neighbourhoods = set(listings['neighbourhood'].unique())"
   ]
  },
  {
   "cell_type": "code",
   "execution_count": 164,
   "metadata": {},
   "outputs": [
    {
     "name": "stdout",
     "output_type": "stream",
     "text": [
      "{'la Clota', 'Vallbona'}\n"
     ]
    }
   ],
   "source": [
    "if len(bcn_neighbourhoods) > len(airbnb_neighbourhoods):\n",
    "    print(bcn_neighbourhoods.difference(airbnb_neighbourhoods))\n",
    "elif len(bcn_neighbourhoods) < len(airbnb_neighbourhoods):\n",
    "    print(airbnb_neighbourhoods.difference(bcn_neighbourhoods))"
   ]
  },
  {
   "cell_type": "markdown",
   "metadata": {},
   "source": [
    "Seem that the neighbourhood are correctly mapped in the airbnb data and therefore a comparison with the data provided in the open bcn website can be made. Only two neighborhoods do not appear in airbnb data, lucky them!"
   ]
  },
  {
   "cell_type": "markdown",
   "metadata": {},
   "source": [
    "### Checking that each listing only have one row assigned in the dataset"
   ]
  },
  {
   "cell_type": "code",
   "execution_count": 204,
   "metadata": {},
   "outputs": [
    {
     "data": {
      "text/plain": [
       "True"
      ]
     },
     "execution_count": 204,
     "metadata": {},
     "output_type": "execute_result"
    }
   ],
   "source": [
    "listings['id'].nunique() == listings.shape[0]"
   ]
  },
  {
   "cell_type": "markdown",
   "metadata": {},
   "source": [
    "# 3. Data Preparation"
   ]
  },
  {
   "cell_type": "markdown",
   "metadata": {},
   "source": [
    "## Handle categorical and missing data\n",
    "\n",
    "Probably the most critical aspect of our dataset is having a good, direct relationship between neighborhoods in airbnb data and those officially recognized by the Barcelona City Council. We checked before in this notebook that fortunately that's the case. As we are going to use only descriptive methods to handle our questions no further processing of categorical variables is needed.\n",
    "\n",
    "Let's take a look into missing data instead."
   ]
  },
  {
   "cell_type": "code",
   "execution_count": 165,
   "metadata": {},
   "outputs": [
    {
     "data": {
      "text/plain": [
       "id                                   0\n",
       "name                                15\n",
       "host_id                              0\n",
       "host_name                           17\n",
       "neighbourhood_group                  0\n",
       "neighbourhood                        0\n",
       "latitude                             0\n",
       "longitude                            0\n",
       "room_type                            0\n",
       "price                                0\n",
       "minimum_nights                       0\n",
       "number_of_reviews                    0\n",
       "last_review                       4276\n",
       "reviews_per_month                 4276\n",
       "calculated_host_listings_count       0\n",
       "availability_365                     0\n",
       "dtype: int64"
      ]
     },
     "execution_count": 165,
     "metadata": {},
     "output_type": "execute_result"
    }
   ],
   "source": [
    "listings.isna().sum()"
   ]
  },
  {
   "cell_type": "code",
   "execution_count": 166,
   "metadata": {},
   "outputs": [
    {
     "data": {
      "text/plain": [
       "listing_id    0\n",
       "date          0\n",
       "dtype: int64"
      ]
     },
     "execution_count": 166,
     "metadata": {},
     "output_type": "execute_result"
    }
   ],
   "source": [
    "reviews.isna().sum()"
   ]
  },
  {
   "cell_type": "markdown",
   "metadata": {},
   "source": [
    "As we can see, we do not really care about the missing data in this file. Missing last_reviews and reviews_per_month suggest that given listing does not actually have reviews on the airbnb website. Missing values for **name** and **host_name** might be more worrying, but remember that we are only interested in the listing attributes and the associated **host_id**, which is filled for every listing in the dataset"
   ]
  },
  {
   "cell_type": "markdown",
   "metadata": {},
   "source": [
    "# 4. Analysis"
   ]
  },
  {
   "cell_type": "markdown",
   "metadata": {},
   "source": [
    "## 4.1. What percentage of listings might actually be businesses as of last snapshot?\n",
    "\n",
    "Airbnb claims that they offer a platform for the people to share their homes but what if this is not actually true? Hosts listing entire apartments for a long time, or multiple apartments at the same time might be running a business instead of benefiting from the 'sharing' economy.<br>"
   ]
  },
  {
   "cell_type": "markdown",
   "metadata": {},
   "source": [
    "We are only insterested in studying the active listings. It is possible that some hosts has a multiple listings in the platform but only one is actually being shared/rented. Also, in the sake of being conservative, we will only consider full flats. It is difficult to run a business renting only rooms, and renting only rooms falls under what Airbnb claims they enable people to do in this 'sharing' economy they promote. \n",
    "\n",
    "We therefore define **active listings** as those that have only been rented recently (according to how the do the analysis in Inside Airbnb, those are listings reviewed at least once in the last 6 months), and are being rented regularly (number of nights per year greater than the threshold for that city, as we do not know the number for Barcelona, we will consider 30 days)."
   ]
  },
  {
   "cell_type": "code",
   "execution_count": 191,
   "metadata": {},
   "outputs": [],
   "source": [
    "# We need to also check that they are listing tht have received at least one review in the last 6 months\n",
    "\n",
    "import datetime\n",
    "from dateutil.relativedelta import relativedelta\n",
    "\n",
    "# the function we will pass over the reviews file, to known whether a listing has a review falling in that date range\n",
    "# or not.\n",
    "\n",
    "def review_last_n_months(review_date, snapshot_day=30, snapshot_month=11, snapshot_year=2019, n=6):\n",
    "    # we first define the range from 6 months ago up to snapshot date\n",
    "    if type(review_date) != 'datetime.datetime':\n",
    "        review_date = datetime.datetime.strptime(review_date, '%Y-%m-%d')\n",
    "    snapshot_date = datetime.datetime(day=snapshot_day,month=snapshot_month,year=snapshot_year)\n",
    "    start = snapshot_date + relativedelta(months=-n)\n",
    "    \n",
    "    return(start <= review_date <= snapshot_date)"
   ]
  },
  {
   "cell_type": "code",
   "execution_count": 170,
   "metadata": {},
   "outputs": [],
   "source": [
    "# convert all dates to datetime allows us to later apply the max() in groupby and know which is the latest review by listing\n",
    "\n",
    "reviews['date_revised'] = reviews['date'].map(lambda d: datetime.datetime.strptime(d, '%Y-%m-%d'))"
   ]
  },
  {
   "cell_type": "code",
   "execution_count": 187,
   "metadata": {},
   "outputs": [],
   "source": [
    "## no need, there is already a field called 'last_review' in the dataset\n",
    "last_reviews = reviews.groupby('listing_id').max()['date_revised']"
   ]
  },
  {
   "cell_type": "code",
   "execution_count": 188,
   "metadata": {},
   "outputs": [],
   "source": [
    "last_reviews = last_reviews.map(lambda d: str(d)[0:10])"
   ]
  },
  {
   "cell_type": "code",
   "execution_count": 189,
   "metadata": {},
   "outputs": [
    {
     "data": {
      "text/plain": [
       "listing_id\n",
       "18666       2015-10-10\n",
       "18674       2019-10-19\n",
       "23197       2019-09-29\n",
       "25786       2019-11-06\n",
       "31958       2019-10-16\n",
       "               ...    \n",
       "39790142    2019-11-07\n",
       "39802148    2019-11-03\n",
       "39830187    2019-11-05\n",
       "39864550    2019-11-05\n",
       "39924414    2019-11-08\n",
       "Name: date_revised, Length: 16152, dtype: object"
      ]
     },
     "execution_count": 189,
     "metadata": {},
     "output_type": "execute_result"
    }
   ],
   "source": [
    "last_reviews"
   ]
  },
  {
   "cell_type": "code",
   "execution_count": 218,
   "metadata": {},
   "outputs": [
    {
     "data": {
      "text/plain": [
       "listing_id\n",
       "18666    False\n",
       "18674     True\n",
       "23197     True\n",
       "25786     True\n",
       "31958     True\n",
       "Name: date_revised, dtype: bool"
      ]
     },
     "execution_count": 218,
     "metadata": {},
     "output_type": "execute_result"
    }
   ],
   "source": [
    "last_reviews_within_6_months = last_reviews.map(lambda d: review_last_n_months(d))\n",
    "last_reviews_within_6_months.head()"
   ]
  },
  {
   "cell_type": "code",
   "execution_count": 228,
   "metadata": {},
   "outputs": [
    {
     "data": {
      "text/html": [
       "<div>\n",
       "<style scoped>\n",
       "    .dataframe tbody tr th:only-of-type {\n",
       "        vertical-align: middle;\n",
       "    }\n",
       "\n",
       "    .dataframe tbody tr th {\n",
       "        vertical-align: top;\n",
       "    }\n",
       "\n",
       "    .dataframe thead th {\n",
       "        text-align: right;\n",
       "    }\n",
       "</style>\n",
       "<table border=\"1\" class=\"dataframe\">\n",
       "  <thead>\n",
       "    <tr style=\"text-align: right;\">\n",
       "      <th></th>\n",
       "      <th>listing_id</th>\n",
       "      <th>has_review_six_months</th>\n",
       "    </tr>\n",
       "  </thead>\n",
       "  <tbody>\n",
       "    <tr>\n",
       "      <th>0</th>\n",
       "      <td>18666</td>\n",
       "      <td>False</td>\n",
       "    </tr>\n",
       "    <tr>\n",
       "      <th>1</th>\n",
       "      <td>18674</td>\n",
       "      <td>True</td>\n",
       "    </tr>\n",
       "    <tr>\n",
       "      <th>2</th>\n",
       "      <td>23197</td>\n",
       "      <td>True</td>\n",
       "    </tr>\n",
       "    <tr>\n",
       "      <th>3</th>\n",
       "      <td>25786</td>\n",
       "      <td>True</td>\n",
       "    </tr>\n",
       "    <tr>\n",
       "      <th>4</th>\n",
       "      <td>31958</td>\n",
       "      <td>True</td>\n",
       "    </tr>\n",
       "    <tr>\n",
       "      <th>...</th>\n",
       "      <td>...</td>\n",
       "      <td>...</td>\n",
       "    </tr>\n",
       "    <tr>\n",
       "      <th>16147</th>\n",
       "      <td>39790142</td>\n",
       "      <td>True</td>\n",
       "    </tr>\n",
       "    <tr>\n",
       "      <th>16148</th>\n",
       "      <td>39802148</td>\n",
       "      <td>True</td>\n",
       "    </tr>\n",
       "    <tr>\n",
       "      <th>16149</th>\n",
       "      <td>39830187</td>\n",
       "      <td>True</td>\n",
       "    </tr>\n",
       "    <tr>\n",
       "      <th>16150</th>\n",
       "      <td>39864550</td>\n",
       "      <td>True</td>\n",
       "    </tr>\n",
       "    <tr>\n",
       "      <th>16151</th>\n",
       "      <td>39924414</td>\n",
       "      <td>True</td>\n",
       "    </tr>\n",
       "  </tbody>\n",
       "</table>\n",
       "<p>16152 rows × 2 columns</p>\n",
       "</div>"
      ],
      "text/plain": [
       "       listing_id  has_review_six_months\n",
       "0           18666                  False\n",
       "1           18674                   True\n",
       "2           23197                   True\n",
       "3           25786                   True\n",
       "4           31958                   True\n",
       "...           ...                    ...\n",
       "16147    39790142                   True\n",
       "16148    39802148                   True\n",
       "16149    39830187                   True\n",
       "16150    39864550                   True\n",
       "16151    39924414                   True\n",
       "\n",
       "[16152 rows x 2 columns]"
      ]
     },
     "execution_count": 228,
     "metadata": {},
     "output_type": "execute_result"
    }
   ],
   "source": [
    "pd.DataFrame(last_reviews_within_6_months).reset_index().rename(columns={'date_revised':'has_review_six_months'})"
   ]
  },
  {
   "cell_type": "code",
   "execution_count": 296,
   "metadata": {},
   "outputs": [
    {
     "data": {
      "text/plain": [
       "array([   18674,    23197,    25786, ..., 39830187, 39864550, 39924414],\n",
       "      dtype=int64)"
      ]
     },
     "execution_count": 296,
     "metadata": {},
     "output_type": "execute_result"
    }
   ],
   "source": [
    "tmp = pd.DataFrame(last_reviews_within_6_months).reset_index().rename(columns={'date_revised':'has_review_six_months'}) \n",
    "list_of_active_listings = tmp.loc[tmp['has_review_six_months'] == True].loc[:,'listing_id'].values\n",
    "list_of_active_listings"
   ]
  },
  {
   "cell_type": "code",
   "execution_count": 243,
   "metadata": {},
   "outputs": [
    {
     "data": {
      "text/plain": [
       "Private room       10387\n",
       "Entire home/apt     9268\n",
       "Hotel room           615\n",
       "Shared room          158\n",
       "Name: room_type, dtype: int64"
      ]
     },
     "execution_count": 243,
     "metadata": {},
     "output_type": "execute_result"
    }
   ],
   "source": [
    "# How many entire apartment are for renting. We will consider also hotel rooms, because, well, they are businesses.\n",
    "listings['room_type'].value_counts(dropna=False)"
   ]
  },
  {
   "cell_type": "code",
   "execution_count": 244,
   "metadata": {},
   "outputs": [
    {
     "data": {
      "text/plain": [
       "(9883, 16)"
      ]
     },
     "execution_count": 244,
     "metadata": {},
     "output_type": "execute_result"
    }
   ],
   "source": [
    "active_listings = listings[listings['room_type'].isin(['Entire home/apt','Hotel room'])]\n",
    "active_listings.shape"
   ]
  },
  {
   "cell_type": "code",
   "execution_count": 253,
   "metadata": {},
   "outputs": [],
   "source": [
    "active_listings = active_listings.loc[active_listings.id.isin(list_of_active_listings)]"
   ]
  },
  {
   "cell_type": "code",
   "execution_count": 254,
   "metadata": {},
   "outputs": [
    {
     "name": "stdout",
     "output_type": "stream",
     "text": [
      "We can see that the number of entire apartments/hotel rooms available to rent on Airbnb in Barcelona and that we consider to be active is 6652\n"
     ]
    }
   ],
   "source": [
    "print('We can see that the number of entire apartments/hotel rooms available to rent on Airbnb in Barcelona and that we consider to be active is {}'.format(active_listings.shape[0]))"
   ]
  },
  {
   "cell_type": "markdown",
   "metadata": {},
   "source": [
    "Up to here we have filtered the dataset to obtain the subset of listings that we consider to be active (at least a review in the last six months) and that are either the entire apartment or an hotel room, as they are most likely to belong to a business (Remember that Airbnb claims that they only empower users to share their homes, which technicalyl would mean that either the user rent a room in the same hourse they live in and for a short amount of time; or that they rent the entire apartment/house in the exceptional case that they are travelling).\n",
    "\n",
    "Be that as it may; as we want to be **really conservative** in our estimates, we will go one step further and consider only those listings that belong to host who also have other listings posted on airbnb."
   ]
  },
  {
   "cell_type": "code",
   "execution_count": 255,
   "metadata": {},
   "outputs": [],
   "source": [
    "# Calculate number of different hosts\n",
    "no_active_hosts = active_listings['host_id'].nunique()\n",
    "no_active_listings = active_listings.shape[0]"
   ]
  },
  {
   "cell_type": "code",
   "execution_count": 256,
   "metadata": {},
   "outputs": [
    {
     "name": "stdout",
     "output_type": "stream",
     "text": [
      "There are 2545 different hosts in Barcelona at the time of the snapshot. 09 November, 2019\n"
     ]
    }
   ],
   "source": [
    "print('There are {} different hosts in Barcelona for the listings considered above at the time of the snapshot. 09 November, 2019'.format(no_active_hosts))"
   ]
  },
  {
   "cell_type": "code",
   "execution_count": 33,
   "metadata": {},
   "outputs": [],
   "source": [
    "# listings.drop_duplicates(subset=['host_id','id']).shape"
   ]
  },
  {
   "cell_type": "code",
   "execution_count": 78,
   "metadata": {},
   "outputs": [],
   "source": [
    "# listings[['host_id','id']].drop_duplicates().groupby('host_id').size().hist(bins=100);"
   ]
  },
  {
   "cell_type": "code",
   "execution_count": 257,
   "metadata": {},
   "outputs": [
    {
     "data": {
      "text/plain": [
       "host_id\n",
       "102947901    143\n",
       "4459553      130\n",
       "158023606    110\n",
       "1391607       79\n",
       "32037490      73\n",
       "299462        54\n",
       "396363        50\n",
       "6099660       46\n",
       "10380563      43\n",
       "128959838     42\n",
       "dtype: int64"
      ]
     },
     "execution_count": 257,
     "metadata": {},
     "output_type": "execute_result"
    }
   ],
   "source": [
    "number_listing_per_host = active_listings.groupby('host_id').size().sort_values(ascending=False)\n",
    "number_listing_per_host.head(10)"
   ]
  },
  {
   "cell_type": "markdown",
   "metadata": {},
   "source": [
    "### What percentage of listings the hosts in the top 5% of the list of those owning more listings own?"
   ]
  },
  {
   "cell_type": "code",
   "execution_count": 258,
   "metadata": {},
   "outputs": [],
   "source": [
    "perc5 = int(np.floor(no_active_hosts*0.05))\n",
    "perc5_host = number_listing_per_host.index[0:perc5]\n",
    "perc5_listings = number_listing_per_host.iloc[0:perc5].sum()"
   ]
  },
  {
   "cell_type": "code",
   "execution_count": 261,
   "metadata": {},
   "outputs": [
    {
     "name": "stdout",
     "output_type": "stream",
     "text": [
      "The top 5% hosts own an anything but ridiculous 41.30% of the total active entire apt/hotel room listings\n"
     ]
    }
   ],
   "source": [
    "100*perc5_listings/no_active_listings\n",
    "print('The top 5% hosts own an anything but ridiculous {:2.2f}% of the total active entire apt/hotel room listings'.format(100*perc5_listings/no_active_listings))"
   ]
  },
  {
   "cell_type": "markdown",
   "metadata": {},
   "source": [
    "### How many hosts have more than 1 listing?"
   ]
  },
  {
   "cell_type": "code",
   "execution_count": 262,
   "metadata": {},
   "outputs": [
    {
     "name": "stdout",
     "output_type": "stream",
     "text": [
      "The percentage of hosts that own more than one active listing is 30.49%\n"
     ]
    }
   ],
   "source": [
    "hosts_more_than_one_listing = (number_listing_per_host > 1).sum()\n",
    "print('The percentage of hosts that own more than one active listing is {:2.2f}%'.format(100*hosts_more_than_one_listing/no_active_hosts))"
   ]
  },
  {
   "cell_type": "markdown",
   "metadata": {},
   "source": [
    "### How many of those active entire apt/hotel room listings belong to owners with multiple listings?"
   ]
  },
  {
   "cell_type": "code",
   "execution_count": 283,
   "metadata": {},
   "outputs": [],
   "source": [
    "tmp = number_listing_per_host.reset_index().rename(columns={0:'listings_count'})\n",
    "host_list = tmp.loc[tmp['listings_count']>1,'host_id'].values\n",
    "listing_host_multiple = active_listings.loc[active_listings['host_id'].isin(host_list)]\n",
    "number_listing_host_multiple = listing_host_multiple.loc[:,'id'].nunique()"
   ]
  },
  {
   "cell_type": "code",
   "execution_count": 284,
   "metadata": {},
   "outputs": [
    {
     "name": "stdout",
     "output_type": "stream",
     "text": [
      "And, as we may have anticipated, the percentage of active entire apt/hotel room that belong to hosts with multiple listings is 73.41%\n",
      "This represents 4883 out of 6652 active entire apt/hotel room listings\n"
     ]
    }
   ],
   "source": [
    "print('And, as we may have anticipated, the percentage of active entire apt/hotel room that belong to hosts with multiple listings is {:2.2f}%'.format(100*number_listing_host_multiple/no_active_listings))\n",
    "print('This represents {} out of {} active entire apt/hotel room listings'.format(number_listing_host_multiple, no_active_listings))"
   ]
  },
  {
   "cell_type": "code",
   "execution_count": 285,
   "metadata": {},
   "outputs": [
    {
     "name": "stdout",
     "output_type": "stream",
     "text": [
      "If we want to compare with all the active listings, including also rooms and shared rooms. Then the percentage would be 36.37%\n"
     ]
    }
   ],
   "source": [
    "print('If we want to compare with all the active listings, including also rooms and shared rooms. Then the percentage would be {:2.2f}%'.format(100*number_listing_host_multiple/len(list_of_active_listings)))"
   ]
  },
  {
   "cell_type": "markdown",
   "metadata": {},
   "source": [
    "## 4.2. Which are the neighborhoods that concentrate the greater number of multiple listings with the same host?\n",
    "\n",
    "If we accept as truth (because let's not fool ourselves, this is probably the case) that many people run businesses in Airbnb can we identidy which are the most affected neighborhoods? These are the most likely to have housing problems derived from Airbnb activities.\n",
    "\n",
    "We will take a look both in absolute numbers, and in percentage; but obviously, we could expect the most touristic neighborhoods to be flooded with this kind of businesses, taking advantage of it."
   ]
  },
  {
   "cell_type": "code",
   "execution_count": 300,
   "metadata": {},
   "outputs": [],
   "source": [
    "# This dataset includes all active listings (also room, shared room, etc..)\n",
    "all_active_listings = listings.loc[listings['id'].isin(list_of_active_listings)]"
   ]
  },
  {
   "cell_type": "code",
   "execution_count": 309,
   "metadata": {},
   "outputs": [],
   "source": [
    "all_active_listings_by_neighborhood = all_active_listings.groupby('neighbourhood').size().sort_values(ascending=False)"
   ]
  },
  {
   "cell_type": "code",
   "execution_count": 310,
   "metadata": {},
   "outputs": [],
   "source": [
    "listings_host_multiple_by_neighborhood = listing_host_multiple.groupby('neighbourhood').size().sort_values(ascending=False)"
   ]
  },
  {
   "cell_type": "code",
   "execution_count": 330,
   "metadata": {},
   "outputs": [],
   "source": [
    "comparison_by_neighborhood = pd.DataFrame({'perc_possible_businesses':listings_host_multiple_by_neighborhood/all_active_listings_by_neighborhood,\\\n",
    "                                          'active_listings':all_active_listings_by_neighborhood}).dropna()"
   ]
  },
  {
   "cell_type": "code",
   "execution_count": 333,
   "metadata": {},
   "outputs": [
    {
     "data": {
      "text/html": [
       "<div>\n",
       "<style scoped>\n",
       "    .dataframe tbody tr th:only-of-type {\n",
       "        vertical-align: middle;\n",
       "    }\n",
       "\n",
       "    .dataframe tbody tr th {\n",
       "        vertical-align: top;\n",
       "    }\n",
       "\n",
       "    .dataframe thead th {\n",
       "        text-align: right;\n",
       "    }\n",
       "</style>\n",
       "<table border=\"1\" class=\"dataframe\">\n",
       "  <thead>\n",
       "    <tr style=\"text-align: right;\">\n",
       "      <th></th>\n",
       "      <th>perc_possible_businesses</th>\n",
       "      <th>active_listings</th>\n",
       "    </tr>\n",
       "  </thead>\n",
       "  <tbody>\n",
       "    <tr>\n",
       "      <th>la Dreta de l'Eixample</th>\n",
       "      <td>0.622058</td>\n",
       "      <td>1487</td>\n",
       "    </tr>\n",
       "    <tr>\n",
       "      <th>el Raval</th>\n",
       "      <td>0.233653</td>\n",
       "      <td>1147</td>\n",
       "    </tr>\n",
       "    <tr>\n",
       "      <th>el Barri Gòtic</th>\n",
       "      <td>0.233216</td>\n",
       "      <td>849</td>\n",
       "    </tr>\n",
       "    <tr>\n",
       "      <th>Sant Pere, Santa Caterina i la Ribera</th>\n",
       "      <td>0.282776</td>\n",
       "      <td>778</td>\n",
       "    </tr>\n",
       "    <tr>\n",
       "      <th>el Poble Sec</th>\n",
       "      <td>0.409814</td>\n",
       "      <td>754</td>\n",
       "    </tr>\n",
       "    <tr>\n",
       "      <th>la Sagrada Família</th>\n",
       "      <td>0.489305</td>\n",
       "      <td>748</td>\n",
       "    </tr>\n",
       "    <tr>\n",
       "      <th>l'Antiga Esquerra de l'Eixample</th>\n",
       "      <td>0.437500</td>\n",
       "      <td>736</td>\n",
       "    </tr>\n",
       "    <tr>\n",
       "      <th>la Vila de Gràcia</th>\n",
       "      <td>0.484463</td>\n",
       "      <td>708</td>\n",
       "    </tr>\n",
       "    <tr>\n",
       "      <th>Sant Antoni</th>\n",
       "      <td>0.382646</td>\n",
       "      <td>703</td>\n",
       "    </tr>\n",
       "    <tr>\n",
       "      <th>la Nova Esquerra de l'Eixample</th>\n",
       "      <td>0.274411</td>\n",
       "      <td>594</td>\n",
       "    </tr>\n",
       "  </tbody>\n",
       "</table>\n",
       "</div>"
      ],
      "text/plain": [
       "                                       perc_possible_businesses  \\\n",
       "la Dreta de l'Eixample                                 0.622058   \n",
       "el Raval                                               0.233653   \n",
       "el Barri Gòtic                                         0.233216   \n",
       "Sant Pere, Santa Caterina i la Ribera                  0.282776   \n",
       "el Poble Sec                                           0.409814   \n",
       "la Sagrada Família                                     0.489305   \n",
       "l'Antiga Esquerra de l'Eixample                        0.437500   \n",
       "la Vila de Gràcia                                      0.484463   \n",
       "Sant Antoni                                            0.382646   \n",
       "la Nova Esquerra de l'Eixample                         0.274411   \n",
       "\n",
       "                                       active_listings  \n",
       "la Dreta de l'Eixample                            1487  \n",
       "el Raval                                          1147  \n",
       "el Barri Gòtic                                     849  \n",
       "Sant Pere, Santa Caterina i la Ribera              778  \n",
       "el Poble Sec                                       754  \n",
       "la Sagrada Família                                 748  \n",
       "l'Antiga Esquerra de l'Eixample                    736  \n",
       "la Vila de Gràcia                                  708  \n",
       "Sant Antoni                                        703  \n",
       "la Nova Esquerra de l'Eixample                     594  "
      ]
     },
     "execution_count": 333,
     "metadata": {},
     "output_type": "execute_result"
    }
   ],
   "source": [
    "comparison_by_neighborhood.sort_values(by='active_listings', ascending=False).head(10)"
   ]
  },
  {
   "cell_type": "code",
   "execution_count": 332,
   "metadata": {},
   "outputs": [
    {
     "data": {
      "application/javascript": [
       "/* Put everything inside the global mpl namespace */\n",
       "window.mpl = {};\n",
       "\n",
       "\n",
       "mpl.get_websocket_type = function() {\n",
       "    if (typeof(WebSocket) !== 'undefined') {\n",
       "        return WebSocket;\n",
       "    } else if (typeof(MozWebSocket) !== 'undefined') {\n",
       "        return MozWebSocket;\n",
       "    } else {\n",
       "        alert('Your browser does not have WebSocket support.' +\n",
       "              'Please try Chrome, Safari or Firefox ≥ 6. ' +\n",
       "              'Firefox 4 and 5 are also supported but you ' +\n",
       "              'have to enable WebSockets in about:config.');\n",
       "    };\n",
       "}\n",
       "\n",
       "mpl.figure = function(figure_id, websocket, ondownload, parent_element) {\n",
       "    this.id = figure_id;\n",
       "\n",
       "    this.ws = websocket;\n",
       "\n",
       "    this.supports_binary = (this.ws.binaryType != undefined);\n",
       "\n",
       "    if (!this.supports_binary) {\n",
       "        var warnings = document.getElementById(\"mpl-warnings\");\n",
       "        if (warnings) {\n",
       "            warnings.style.display = 'block';\n",
       "            warnings.textContent = (\n",
       "                \"This browser does not support binary websocket messages. \" +\n",
       "                    \"Performance may be slow.\");\n",
       "        }\n",
       "    }\n",
       "\n",
       "    this.imageObj = new Image();\n",
       "\n",
       "    this.context = undefined;\n",
       "    this.message = undefined;\n",
       "    this.canvas = undefined;\n",
       "    this.rubberband_canvas = undefined;\n",
       "    this.rubberband_context = undefined;\n",
       "    this.format_dropdown = undefined;\n",
       "\n",
       "    this.image_mode = 'full';\n",
       "\n",
       "    this.root = $('<div/>');\n",
       "    this._root_extra_style(this.root)\n",
       "    this.root.attr('style', 'display: inline-block');\n",
       "\n",
       "    $(parent_element).append(this.root);\n",
       "\n",
       "    this._init_header(this);\n",
       "    this._init_canvas(this);\n",
       "    this._init_toolbar(this);\n",
       "\n",
       "    var fig = this;\n",
       "\n",
       "    this.waiting = false;\n",
       "\n",
       "    this.ws.onopen =  function () {\n",
       "            fig.send_message(\"supports_binary\", {value: fig.supports_binary});\n",
       "            fig.send_message(\"send_image_mode\", {});\n",
       "            if (mpl.ratio != 1) {\n",
       "                fig.send_message(\"set_dpi_ratio\", {'dpi_ratio': mpl.ratio});\n",
       "            }\n",
       "            fig.send_message(\"refresh\", {});\n",
       "        }\n",
       "\n",
       "    this.imageObj.onload = function() {\n",
       "            if (fig.image_mode == 'full') {\n",
       "                // Full images could contain transparency (where diff images\n",
       "                // almost always do), so we need to clear the canvas so that\n",
       "                // there is no ghosting.\n",
       "                fig.context.clearRect(0, 0, fig.canvas.width, fig.canvas.height);\n",
       "            }\n",
       "            fig.context.drawImage(fig.imageObj, 0, 0);\n",
       "        };\n",
       "\n",
       "    this.imageObj.onunload = function() {\n",
       "        fig.ws.close();\n",
       "    }\n",
       "\n",
       "    this.ws.onmessage = this._make_on_message_function(this);\n",
       "\n",
       "    this.ondownload = ondownload;\n",
       "}\n",
       "\n",
       "mpl.figure.prototype._init_header = function() {\n",
       "    var titlebar = $(\n",
       "        '<div class=\"ui-dialog-titlebar ui-widget-header ui-corner-all ' +\n",
       "        'ui-helper-clearfix\"/>');\n",
       "    var titletext = $(\n",
       "        '<div class=\"ui-dialog-title\" style=\"width: 100%; ' +\n",
       "        'text-align: center; padding: 3px;\"/>');\n",
       "    titlebar.append(titletext)\n",
       "    this.root.append(titlebar);\n",
       "    this.header = titletext[0];\n",
       "}\n",
       "\n",
       "\n",
       "\n",
       "mpl.figure.prototype._canvas_extra_style = function(canvas_div) {\n",
       "\n",
       "}\n",
       "\n",
       "\n",
       "mpl.figure.prototype._root_extra_style = function(canvas_div) {\n",
       "\n",
       "}\n",
       "\n",
       "mpl.figure.prototype._init_canvas = function() {\n",
       "    var fig = this;\n",
       "\n",
       "    var canvas_div = $('<div/>');\n",
       "\n",
       "    canvas_div.attr('style', 'position: relative; clear: both; outline: 0');\n",
       "\n",
       "    function canvas_keyboard_event(event) {\n",
       "        return fig.key_event(event, event['data']);\n",
       "    }\n",
       "\n",
       "    canvas_div.keydown('key_press', canvas_keyboard_event);\n",
       "    canvas_div.keyup('key_release', canvas_keyboard_event);\n",
       "    this.canvas_div = canvas_div\n",
       "    this._canvas_extra_style(canvas_div)\n",
       "    this.root.append(canvas_div);\n",
       "\n",
       "    var canvas = $('<canvas/>');\n",
       "    canvas.addClass('mpl-canvas');\n",
       "    canvas.attr('style', \"left: 0; top: 0; z-index: 0; outline: 0\")\n",
       "\n",
       "    this.canvas = canvas[0];\n",
       "    this.context = canvas[0].getContext(\"2d\");\n",
       "\n",
       "    var backingStore = this.context.backingStorePixelRatio ||\n",
       "\tthis.context.webkitBackingStorePixelRatio ||\n",
       "\tthis.context.mozBackingStorePixelRatio ||\n",
       "\tthis.context.msBackingStorePixelRatio ||\n",
       "\tthis.context.oBackingStorePixelRatio ||\n",
       "\tthis.context.backingStorePixelRatio || 1;\n",
       "\n",
       "    mpl.ratio = (window.devicePixelRatio || 1) / backingStore;\n",
       "\n",
       "    var rubberband = $('<canvas/>');\n",
       "    rubberband.attr('style', \"position: absolute; left: 0; top: 0; z-index: 1;\")\n",
       "\n",
       "    var pass_mouse_events = true;\n",
       "\n",
       "    canvas_div.resizable({\n",
       "        start: function(event, ui) {\n",
       "            pass_mouse_events = false;\n",
       "        },\n",
       "        resize: function(event, ui) {\n",
       "            fig.request_resize(ui.size.width, ui.size.height);\n",
       "        },\n",
       "        stop: function(event, ui) {\n",
       "            pass_mouse_events = true;\n",
       "            fig.request_resize(ui.size.width, ui.size.height);\n",
       "        },\n",
       "    });\n",
       "\n",
       "    function mouse_event_fn(event) {\n",
       "        if (pass_mouse_events)\n",
       "            return fig.mouse_event(event, event['data']);\n",
       "    }\n",
       "\n",
       "    rubberband.mousedown('button_press', mouse_event_fn);\n",
       "    rubberband.mouseup('button_release', mouse_event_fn);\n",
       "    // Throttle sequential mouse events to 1 every 20ms.\n",
       "    rubberband.mousemove('motion_notify', mouse_event_fn);\n",
       "\n",
       "    rubberband.mouseenter('figure_enter', mouse_event_fn);\n",
       "    rubberband.mouseleave('figure_leave', mouse_event_fn);\n",
       "\n",
       "    canvas_div.on(\"wheel\", function (event) {\n",
       "        event = event.originalEvent;\n",
       "        event['data'] = 'scroll'\n",
       "        if (event.deltaY < 0) {\n",
       "            event.step = 1;\n",
       "        } else {\n",
       "            event.step = -1;\n",
       "        }\n",
       "        mouse_event_fn(event);\n",
       "    });\n",
       "\n",
       "    canvas_div.append(canvas);\n",
       "    canvas_div.append(rubberband);\n",
       "\n",
       "    this.rubberband = rubberband;\n",
       "    this.rubberband_canvas = rubberband[0];\n",
       "    this.rubberband_context = rubberband[0].getContext(\"2d\");\n",
       "    this.rubberband_context.strokeStyle = \"#000000\";\n",
       "\n",
       "    this._resize_canvas = function(width, height) {\n",
       "        // Keep the size of the canvas, canvas container, and rubber band\n",
       "        // canvas in synch.\n",
       "        canvas_div.css('width', width)\n",
       "        canvas_div.css('height', height)\n",
       "\n",
       "        canvas.attr('width', width * mpl.ratio);\n",
       "        canvas.attr('height', height * mpl.ratio);\n",
       "        canvas.attr('style', 'width: ' + width + 'px; height: ' + height + 'px;');\n",
       "\n",
       "        rubberband.attr('width', width);\n",
       "        rubberband.attr('height', height);\n",
       "    }\n",
       "\n",
       "    // Set the figure to an initial 600x600px, this will subsequently be updated\n",
       "    // upon first draw.\n",
       "    this._resize_canvas(600, 600);\n",
       "\n",
       "    // Disable right mouse context menu.\n",
       "    $(this.rubberband_canvas).bind(\"contextmenu\",function(e){\n",
       "        return false;\n",
       "    });\n",
       "\n",
       "    function set_focus () {\n",
       "        canvas.focus();\n",
       "        canvas_div.focus();\n",
       "    }\n",
       "\n",
       "    window.setTimeout(set_focus, 100);\n",
       "}\n",
       "\n",
       "mpl.figure.prototype._init_toolbar = function() {\n",
       "    var fig = this;\n",
       "\n",
       "    var nav_element = $('<div/>')\n",
       "    nav_element.attr('style', 'width: 100%');\n",
       "    this.root.append(nav_element);\n",
       "\n",
       "    // Define a callback function for later on.\n",
       "    function toolbar_event(event) {\n",
       "        return fig.toolbar_button_onclick(event['data']);\n",
       "    }\n",
       "    function toolbar_mouse_event(event) {\n",
       "        return fig.toolbar_button_onmouseover(event['data']);\n",
       "    }\n",
       "\n",
       "    for(var toolbar_ind in mpl.toolbar_items) {\n",
       "        var name = mpl.toolbar_items[toolbar_ind][0];\n",
       "        var tooltip = mpl.toolbar_items[toolbar_ind][1];\n",
       "        var image = mpl.toolbar_items[toolbar_ind][2];\n",
       "        var method_name = mpl.toolbar_items[toolbar_ind][3];\n",
       "\n",
       "        if (!name) {\n",
       "            // put a spacer in here.\n",
       "            continue;\n",
       "        }\n",
       "        var button = $('<button/>');\n",
       "        button.addClass('ui-button ui-widget ui-state-default ui-corner-all ' +\n",
       "                        'ui-button-icon-only');\n",
       "        button.attr('role', 'button');\n",
       "        button.attr('aria-disabled', 'false');\n",
       "        button.click(method_name, toolbar_event);\n",
       "        button.mouseover(tooltip, toolbar_mouse_event);\n",
       "\n",
       "        var icon_img = $('<span/>');\n",
       "        icon_img.addClass('ui-button-icon-primary ui-icon');\n",
       "        icon_img.addClass(image);\n",
       "        icon_img.addClass('ui-corner-all');\n",
       "\n",
       "        var tooltip_span = $('<span/>');\n",
       "        tooltip_span.addClass('ui-button-text');\n",
       "        tooltip_span.html(tooltip);\n",
       "\n",
       "        button.append(icon_img);\n",
       "        button.append(tooltip_span);\n",
       "\n",
       "        nav_element.append(button);\n",
       "    }\n",
       "\n",
       "    var fmt_picker_span = $('<span/>');\n",
       "\n",
       "    var fmt_picker = $('<select/>');\n",
       "    fmt_picker.addClass('mpl-toolbar-option ui-widget ui-widget-content');\n",
       "    fmt_picker_span.append(fmt_picker);\n",
       "    nav_element.append(fmt_picker_span);\n",
       "    this.format_dropdown = fmt_picker[0];\n",
       "\n",
       "    for (var ind in mpl.extensions) {\n",
       "        var fmt = mpl.extensions[ind];\n",
       "        var option = $(\n",
       "            '<option/>', {selected: fmt === mpl.default_extension}).html(fmt);\n",
       "        fmt_picker.append(option)\n",
       "    }\n",
       "\n",
       "    // Add hover states to the ui-buttons\n",
       "    $( \".ui-button\" ).hover(\n",
       "        function() { $(this).addClass(\"ui-state-hover\");},\n",
       "        function() { $(this).removeClass(\"ui-state-hover\");}\n",
       "    );\n",
       "\n",
       "    var status_bar = $('<span class=\"mpl-message\"/>');\n",
       "    nav_element.append(status_bar);\n",
       "    this.message = status_bar[0];\n",
       "}\n",
       "\n",
       "mpl.figure.prototype.request_resize = function(x_pixels, y_pixels) {\n",
       "    // Request matplotlib to resize the figure. Matplotlib will then trigger a resize in the client,\n",
       "    // which will in turn request a refresh of the image.\n",
       "    this.send_message('resize', {'width': x_pixels, 'height': y_pixels});\n",
       "}\n",
       "\n",
       "mpl.figure.prototype.send_message = function(type, properties) {\n",
       "    properties['type'] = type;\n",
       "    properties['figure_id'] = this.id;\n",
       "    this.ws.send(JSON.stringify(properties));\n",
       "}\n",
       "\n",
       "mpl.figure.prototype.send_draw_message = function() {\n",
       "    if (!this.waiting) {\n",
       "        this.waiting = true;\n",
       "        this.ws.send(JSON.stringify({type: \"draw\", figure_id: this.id}));\n",
       "    }\n",
       "}\n",
       "\n",
       "\n",
       "mpl.figure.prototype.handle_save = function(fig, msg) {\n",
       "    var format_dropdown = fig.format_dropdown;\n",
       "    var format = format_dropdown.options[format_dropdown.selectedIndex].value;\n",
       "    fig.ondownload(fig, format);\n",
       "}\n",
       "\n",
       "\n",
       "mpl.figure.prototype.handle_resize = function(fig, msg) {\n",
       "    var size = msg['size'];\n",
       "    if (size[0] != fig.canvas.width || size[1] != fig.canvas.height) {\n",
       "        fig._resize_canvas(size[0], size[1]);\n",
       "        fig.send_message(\"refresh\", {});\n",
       "    };\n",
       "}\n",
       "\n",
       "mpl.figure.prototype.handle_rubberband = function(fig, msg) {\n",
       "    var x0 = msg['x0'] / mpl.ratio;\n",
       "    var y0 = (fig.canvas.height - msg['y0']) / mpl.ratio;\n",
       "    var x1 = msg['x1'] / mpl.ratio;\n",
       "    var y1 = (fig.canvas.height - msg['y1']) / mpl.ratio;\n",
       "    x0 = Math.floor(x0) + 0.5;\n",
       "    y0 = Math.floor(y0) + 0.5;\n",
       "    x1 = Math.floor(x1) + 0.5;\n",
       "    y1 = Math.floor(y1) + 0.5;\n",
       "    var min_x = Math.min(x0, x1);\n",
       "    var min_y = Math.min(y0, y1);\n",
       "    var width = Math.abs(x1 - x0);\n",
       "    var height = Math.abs(y1 - y0);\n",
       "\n",
       "    fig.rubberband_context.clearRect(\n",
       "        0, 0, fig.canvas.width, fig.canvas.height);\n",
       "\n",
       "    fig.rubberband_context.strokeRect(min_x, min_y, width, height);\n",
       "}\n",
       "\n",
       "mpl.figure.prototype.handle_figure_label = function(fig, msg) {\n",
       "    // Updates the figure title.\n",
       "    fig.header.textContent = msg['label'];\n",
       "}\n",
       "\n",
       "mpl.figure.prototype.handle_cursor = function(fig, msg) {\n",
       "    var cursor = msg['cursor'];\n",
       "    switch(cursor)\n",
       "    {\n",
       "    case 0:\n",
       "        cursor = 'pointer';\n",
       "        break;\n",
       "    case 1:\n",
       "        cursor = 'default';\n",
       "        break;\n",
       "    case 2:\n",
       "        cursor = 'crosshair';\n",
       "        break;\n",
       "    case 3:\n",
       "        cursor = 'move';\n",
       "        break;\n",
       "    }\n",
       "    fig.rubberband_canvas.style.cursor = cursor;\n",
       "}\n",
       "\n",
       "mpl.figure.prototype.handle_message = function(fig, msg) {\n",
       "    fig.message.textContent = msg['message'];\n",
       "}\n",
       "\n",
       "mpl.figure.prototype.handle_draw = function(fig, msg) {\n",
       "    // Request the server to send over a new figure.\n",
       "    fig.send_draw_message();\n",
       "}\n",
       "\n",
       "mpl.figure.prototype.handle_image_mode = function(fig, msg) {\n",
       "    fig.image_mode = msg['mode'];\n",
       "}\n",
       "\n",
       "mpl.figure.prototype.updated_canvas_event = function() {\n",
       "    // Called whenever the canvas gets updated.\n",
       "    this.send_message(\"ack\", {});\n",
       "}\n",
       "\n",
       "// A function to construct a web socket function for onmessage handling.\n",
       "// Called in the figure constructor.\n",
       "mpl.figure.prototype._make_on_message_function = function(fig) {\n",
       "    return function socket_on_message(evt) {\n",
       "        if (evt.data instanceof Blob) {\n",
       "            /* FIXME: We get \"Resource interpreted as Image but\n",
       "             * transferred with MIME type text/plain:\" errors on\n",
       "             * Chrome.  But how to set the MIME type?  It doesn't seem\n",
       "             * to be part of the websocket stream */\n",
       "            evt.data.type = \"image/png\";\n",
       "\n",
       "            /* Free the memory for the previous frames */\n",
       "            if (fig.imageObj.src) {\n",
       "                (window.URL || window.webkitURL).revokeObjectURL(\n",
       "                    fig.imageObj.src);\n",
       "            }\n",
       "\n",
       "            fig.imageObj.src = (window.URL || window.webkitURL).createObjectURL(\n",
       "                evt.data);\n",
       "            fig.updated_canvas_event();\n",
       "            fig.waiting = false;\n",
       "            return;\n",
       "        }\n",
       "        else if (typeof evt.data === 'string' && evt.data.slice(0, 21) == \"data:image/png;base64\") {\n",
       "            fig.imageObj.src = evt.data;\n",
       "            fig.updated_canvas_event();\n",
       "            fig.waiting = false;\n",
       "            return;\n",
       "        }\n",
       "\n",
       "        var msg = JSON.parse(evt.data);\n",
       "        var msg_type = msg['type'];\n",
       "\n",
       "        // Call the  \"handle_{type}\" callback, which takes\n",
       "        // the figure and JSON message as its only arguments.\n",
       "        try {\n",
       "            var callback = fig[\"handle_\" + msg_type];\n",
       "        } catch (e) {\n",
       "            console.log(\"No handler for the '\" + msg_type + \"' message type: \", msg);\n",
       "            return;\n",
       "        }\n",
       "\n",
       "        if (callback) {\n",
       "            try {\n",
       "                // console.log(\"Handling '\" + msg_type + \"' message: \", msg);\n",
       "                callback(fig, msg);\n",
       "            } catch (e) {\n",
       "                console.log(\"Exception inside the 'handler_\" + msg_type + \"' callback:\", e, e.stack, msg);\n",
       "            }\n",
       "        }\n",
       "    };\n",
       "}\n",
       "\n",
       "// from http://stackoverflow.com/questions/1114465/getting-mouse-location-in-canvas\n",
       "mpl.findpos = function(e) {\n",
       "    //this section is from http://www.quirksmode.org/js/events_properties.html\n",
       "    var targ;\n",
       "    if (!e)\n",
       "        e = window.event;\n",
       "    if (e.target)\n",
       "        targ = e.target;\n",
       "    else if (e.srcElement)\n",
       "        targ = e.srcElement;\n",
       "    if (targ.nodeType == 3) // defeat Safari bug\n",
       "        targ = targ.parentNode;\n",
       "\n",
       "    // jQuery normalizes the pageX and pageY\n",
       "    // pageX,Y are the mouse positions relative to the document\n",
       "    // offset() returns the position of the element relative to the document\n",
       "    var x = e.pageX - $(targ).offset().left;\n",
       "    var y = e.pageY - $(targ).offset().top;\n",
       "\n",
       "    return {\"x\": x, \"y\": y};\n",
       "};\n",
       "\n",
       "/*\n",
       " * return a copy of an object with only non-object keys\n",
       " * we need this to avoid circular references\n",
       " * http://stackoverflow.com/a/24161582/3208463\n",
       " */\n",
       "function simpleKeys (original) {\n",
       "  return Object.keys(original).reduce(function (obj, key) {\n",
       "    if (typeof original[key] !== 'object')\n",
       "        obj[key] = original[key]\n",
       "    return obj;\n",
       "  }, {});\n",
       "}\n",
       "\n",
       "mpl.figure.prototype.mouse_event = function(event, name) {\n",
       "    var canvas_pos = mpl.findpos(event)\n",
       "\n",
       "    if (name === 'button_press')\n",
       "    {\n",
       "        this.canvas.focus();\n",
       "        this.canvas_div.focus();\n",
       "    }\n",
       "\n",
       "    var x = canvas_pos.x * mpl.ratio;\n",
       "    var y = canvas_pos.y * mpl.ratio;\n",
       "\n",
       "    this.send_message(name, {x: x, y: y, button: event.button,\n",
       "                             step: event.step,\n",
       "                             guiEvent: simpleKeys(event)});\n",
       "\n",
       "    /* This prevents the web browser from automatically changing to\n",
       "     * the text insertion cursor when the button is pressed.  We want\n",
       "     * to control all of the cursor setting manually through the\n",
       "     * 'cursor' event from matplotlib */\n",
       "    event.preventDefault();\n",
       "    return false;\n",
       "}\n",
       "\n",
       "mpl.figure.prototype._key_event_extra = function(event, name) {\n",
       "    // Handle any extra behaviour associated with a key event\n",
       "}\n",
       "\n",
       "mpl.figure.prototype.key_event = function(event, name) {\n",
       "\n",
       "    // Prevent repeat events\n",
       "    if (name == 'key_press')\n",
       "    {\n",
       "        if (event.which === this._key)\n",
       "            return;\n",
       "        else\n",
       "            this._key = event.which;\n",
       "    }\n",
       "    if (name == 'key_release')\n",
       "        this._key = null;\n",
       "\n",
       "    var value = '';\n",
       "    if (event.ctrlKey && event.which != 17)\n",
       "        value += \"ctrl+\";\n",
       "    if (event.altKey && event.which != 18)\n",
       "        value += \"alt+\";\n",
       "    if (event.shiftKey && event.which != 16)\n",
       "        value += \"shift+\";\n",
       "\n",
       "    value += 'k';\n",
       "    value += event.which.toString();\n",
       "\n",
       "    this._key_event_extra(event, name);\n",
       "\n",
       "    this.send_message(name, {key: value,\n",
       "                             guiEvent: simpleKeys(event)});\n",
       "    return false;\n",
       "}\n",
       "\n",
       "mpl.figure.prototype.toolbar_button_onclick = function(name) {\n",
       "    if (name == 'download') {\n",
       "        this.handle_save(this, null);\n",
       "    } else {\n",
       "        this.send_message(\"toolbar_button\", {name: name});\n",
       "    }\n",
       "};\n",
       "\n",
       "mpl.figure.prototype.toolbar_button_onmouseover = function(tooltip) {\n",
       "    this.message.textContent = tooltip;\n",
       "};\n",
       "mpl.toolbar_items = [[\"Home\", \"Reset original view\", \"fa fa-home icon-home\", \"home\"], [\"Back\", \"Back to  previous view\", \"fa fa-arrow-left icon-arrow-left\", \"back\"], [\"Forward\", \"Forward to next view\", \"fa fa-arrow-right icon-arrow-right\", \"forward\"], [\"\", \"\", \"\", \"\"], [\"Pan\", \"Pan axes with left mouse, zoom with right\", \"fa fa-arrows icon-move\", \"pan\"], [\"Zoom\", \"Zoom to rectangle\", \"fa fa-square-o icon-check-empty\", \"zoom\"], [\"\", \"\", \"\", \"\"], [\"Download\", \"Download plot\", \"fa fa-floppy-o icon-save\", \"download\"]];\n",
       "\n",
       "mpl.extensions = [\"eps\", \"jpeg\", \"pdf\", \"png\", \"ps\", \"raw\", \"svg\", \"tif\"];\n",
       "\n",
       "mpl.default_extension = \"png\";var comm_websocket_adapter = function(comm) {\n",
       "    // Create a \"websocket\"-like object which calls the given IPython comm\n",
       "    // object with the appropriate methods. Currently this is a non binary\n",
       "    // socket, so there is still some room for performance tuning.\n",
       "    var ws = {};\n",
       "\n",
       "    ws.close = function() {\n",
       "        comm.close()\n",
       "    };\n",
       "    ws.send = function(m) {\n",
       "        //console.log('sending', m);\n",
       "        comm.send(m);\n",
       "    };\n",
       "    // Register the callback with on_msg.\n",
       "    comm.on_msg(function(msg) {\n",
       "        //console.log('receiving', msg['content']['data'], msg);\n",
       "        // Pass the mpl event to the overriden (by mpl) onmessage function.\n",
       "        ws.onmessage(msg['content']['data'])\n",
       "    });\n",
       "    return ws;\n",
       "}\n",
       "\n",
       "mpl.mpl_figure_comm = function(comm, msg) {\n",
       "    // This is the function which gets called when the mpl process\n",
       "    // starts-up an IPython Comm through the \"matplotlib\" channel.\n",
       "\n",
       "    var id = msg.content.data.id;\n",
       "    // Get hold of the div created by the display call when the Comm\n",
       "    // socket was opened in Python.\n",
       "    var element = $(\"#\" + id);\n",
       "    var ws_proxy = comm_websocket_adapter(comm)\n",
       "\n",
       "    function ondownload(figure, format) {\n",
       "        window.open(figure.imageObj.src);\n",
       "    }\n",
       "\n",
       "    var fig = new mpl.figure(id, ws_proxy,\n",
       "                           ondownload,\n",
       "                           element.get(0));\n",
       "\n",
       "    // Call onopen now - mpl needs it, as it is assuming we've passed it a real\n",
       "    // web socket which is closed, not our websocket->open comm proxy.\n",
       "    ws_proxy.onopen();\n",
       "\n",
       "    fig.parent_element = element.get(0);\n",
       "    fig.cell_info = mpl.find_output_cell(\"<div id='\" + id + \"'></div>\");\n",
       "    if (!fig.cell_info) {\n",
       "        console.error(\"Failed to find cell for figure\", id, fig);\n",
       "        return;\n",
       "    }\n",
       "\n",
       "    var output_index = fig.cell_info[2]\n",
       "    var cell = fig.cell_info[0];\n",
       "\n",
       "};\n",
       "\n",
       "mpl.figure.prototype.handle_close = function(fig, msg) {\n",
       "    var width = fig.canvas.width/mpl.ratio\n",
       "    fig.root.unbind('remove')\n",
       "\n",
       "    // Update the output cell to use the data from the current canvas.\n",
       "    fig.push_to_output();\n",
       "    var dataURL = fig.canvas.toDataURL();\n",
       "    // Re-enable the keyboard manager in IPython - without this line, in FF,\n",
       "    // the notebook keyboard shortcuts fail.\n",
       "    IPython.keyboard_manager.enable()\n",
       "    $(fig.parent_element).html('<img src=\"' + dataURL + '\" width=\"' + width + '\">');\n",
       "    fig.close_ws(fig, msg);\n",
       "}\n",
       "\n",
       "mpl.figure.prototype.close_ws = function(fig, msg){\n",
       "    fig.send_message('closing', msg);\n",
       "    // fig.ws.close()\n",
       "}\n",
       "\n",
       "mpl.figure.prototype.push_to_output = function(remove_interactive) {\n",
       "    // Turn the data on the canvas into data in the output cell.\n",
       "    var width = this.canvas.width/mpl.ratio\n",
       "    var dataURL = this.canvas.toDataURL();\n",
       "    this.cell_info[1]['text/html'] = '<img src=\"' + dataURL + '\" width=\"' + width + '\">';\n",
       "}\n",
       "\n",
       "mpl.figure.prototype.updated_canvas_event = function() {\n",
       "    // Tell IPython that the notebook contents must change.\n",
       "    IPython.notebook.set_dirty(true);\n",
       "    this.send_message(\"ack\", {});\n",
       "    var fig = this;\n",
       "    // Wait a second, then push the new image to the DOM so\n",
       "    // that it is saved nicely (might be nice to debounce this).\n",
       "    setTimeout(function () { fig.push_to_output() }, 1000);\n",
       "}\n",
       "\n",
       "mpl.figure.prototype._init_toolbar = function() {\n",
       "    var fig = this;\n",
       "\n",
       "    var nav_element = $('<div/>')\n",
       "    nav_element.attr('style', 'width: 100%');\n",
       "    this.root.append(nav_element);\n",
       "\n",
       "    // Define a callback function for later on.\n",
       "    function toolbar_event(event) {\n",
       "        return fig.toolbar_button_onclick(event['data']);\n",
       "    }\n",
       "    function toolbar_mouse_event(event) {\n",
       "        return fig.toolbar_button_onmouseover(event['data']);\n",
       "    }\n",
       "\n",
       "    for(var toolbar_ind in mpl.toolbar_items){\n",
       "        var name = mpl.toolbar_items[toolbar_ind][0];\n",
       "        var tooltip = mpl.toolbar_items[toolbar_ind][1];\n",
       "        var image = mpl.toolbar_items[toolbar_ind][2];\n",
       "        var method_name = mpl.toolbar_items[toolbar_ind][3];\n",
       "\n",
       "        if (!name) { continue; };\n",
       "\n",
       "        var button = $('<button class=\"btn btn-default\" href=\"#\" title=\"' + name + '\"><i class=\"fa ' + image + ' fa-lg\"></i></button>');\n",
       "        button.click(method_name, toolbar_event);\n",
       "        button.mouseover(tooltip, toolbar_mouse_event);\n",
       "        nav_element.append(button);\n",
       "    }\n",
       "\n",
       "    // Add the status bar.\n",
       "    var status_bar = $('<span class=\"mpl-message\" style=\"text-align:right; float: right;\"/>');\n",
       "    nav_element.append(status_bar);\n",
       "    this.message = status_bar[0];\n",
       "\n",
       "    // Add the close button to the window.\n",
       "    var buttongrp = $('<div class=\"btn-group inline pull-right\"></div>');\n",
       "    var button = $('<button class=\"btn btn-mini btn-primary\" href=\"#\" title=\"Stop Interaction\"><i class=\"fa fa-power-off icon-remove icon-large\"></i></button>');\n",
       "    button.click(function (evt) { fig.handle_close(fig, {}); } );\n",
       "    button.mouseover('Stop Interaction', toolbar_mouse_event);\n",
       "    buttongrp.append(button);\n",
       "    var titlebar = this.root.find($('.ui-dialog-titlebar'));\n",
       "    titlebar.prepend(buttongrp);\n",
       "}\n",
       "\n",
       "mpl.figure.prototype._root_extra_style = function(el){\n",
       "    var fig = this\n",
       "    el.on(\"remove\", function(){\n",
       "\tfig.close_ws(fig, {});\n",
       "    });\n",
       "}\n",
       "\n",
       "mpl.figure.prototype._canvas_extra_style = function(el){\n",
       "    // this is important to make the div 'focusable\n",
       "    el.attr('tabindex', 0)\n",
       "    // reach out to IPython and tell the keyboard manager to turn it's self\n",
       "    // off when our div gets focus\n",
       "\n",
       "    // location in version 3\n",
       "    if (IPython.notebook.keyboard_manager) {\n",
       "        IPython.notebook.keyboard_manager.register_events(el);\n",
       "    }\n",
       "    else {\n",
       "        // location in version 2\n",
       "        IPython.keyboard_manager.register_events(el);\n",
       "    }\n",
       "\n",
       "}\n",
       "\n",
       "mpl.figure.prototype._key_event_extra = function(event, name) {\n",
       "    var manager = IPython.notebook.keyboard_manager;\n",
       "    if (!manager)\n",
       "        manager = IPython.keyboard_manager;\n",
       "\n",
       "    // Check for shift+enter\n",
       "    if (event.shiftKey && event.which == 13) {\n",
       "        this.canvas_div.blur();\n",
       "        event.shiftKey = false;\n",
       "        // Send a \"J\" for go to next cell\n",
       "        event.which = 74;\n",
       "        event.keyCode = 74;\n",
       "        manager.command_mode();\n",
       "        manager.handle_keydown(event);\n",
       "    }\n",
       "}\n",
       "\n",
       "mpl.figure.prototype.handle_save = function(fig, msg) {\n",
       "    fig.ondownload(fig, null);\n",
       "}\n",
       "\n",
       "\n",
       "mpl.find_output_cell = function(html_output) {\n",
       "    // Return the cell and output element which can be found *uniquely* in the notebook.\n",
       "    // Note - this is a bit hacky, but it is done because the \"notebook_saving.Notebook\"\n",
       "    // IPython event is triggered only after the cells have been serialised, which for\n",
       "    // our purposes (turning an active figure into a static one), is too late.\n",
       "    var cells = IPython.notebook.get_cells();\n",
       "    var ncells = cells.length;\n",
       "    for (var i=0; i<ncells; i++) {\n",
       "        var cell = cells[i];\n",
       "        if (cell.cell_type === 'code'){\n",
       "            for (var j=0; j<cell.output_area.outputs.length; j++) {\n",
       "                var data = cell.output_area.outputs[j];\n",
       "                if (data.data) {\n",
       "                    // IPython >= 3 moved mimebundle to data attribute of output\n",
       "                    data = data.data;\n",
       "                }\n",
       "                if (data['text/html'] == html_output) {\n",
       "                    return [cell, data, j];\n",
       "                }\n",
       "            }\n",
       "        }\n",
       "    }\n",
       "}\n",
       "\n",
       "// Register the function which deals with the matplotlib target/channel.\n",
       "// The kernel may be null if the page has been refreshed.\n",
       "if (IPython.notebook.kernel != null) {\n",
       "    IPython.notebook.kernel.comm_manager.register_target('matplotlib', mpl.mpl_figure_comm);\n",
       "}\n"
      ],
      "text/plain": [
       "<IPython.core.display.Javascript object>"
      ]
     },
     "metadata": {},
     "output_type": "display_data"
    },
    {
     "data": {
      "text/html": [
       "<img src=\"data:image/png;base64,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\" width=\"640\">"
      ],
      "text/plain": [
       "<IPython.core.display.HTML object>"
      ]
     },
     "metadata": {},
     "output_type": "display_data"
    },
    {
     "data": {
      "text/plain": [
       "<matplotlib.axes._subplots.AxesSubplot at 0x1fb43ecacc0>"
      ]
     },
     "execution_count": 332,
     "metadata": {},
     "output_type": "execute_result"
    }
   ],
   "source": [
    "comparison_by_neighborhood['perc_possible_businesses'].hist()"
   ]
  },
  {
   "cell_type": "markdown",
   "metadata": {},
   "source": [
    "### Let's visualize this on a Map \n",
    "\n",
    "https://www.twilio.com/blog/2017/08/geospatial-analysis-python-geojson-geopandas.html\n",
    "https://geojson.org/\n",
    "\n",
    "**IMPORTANT**: it was impossible to display the content of the geojson using geojsonio.display() because it is no longer possible to create anonymous gists in github. Following the the workaround described in https://stackoverflow.com/questions/50192549/display-in-geojsonio-gives-401-error was necessary. Yes, it means modifying the geojsonio.display() code locally in your installation...\n",
    "\n",
    "You can find the resulting map from this visualization in this [blog post](https://medium.com/@ortiz.fernandez.alvaro/this-data-about-airbnb-will-make-you-rethink-what-it-is-doing-to-your-city-1318576ba5c4). I am commenting out all the code here so that it does not affect the notebook in case you want to run it from top to bottom."
   ]
  },
  {
   "cell_type": "code",
   "execution_count": null,
   "metadata": {},
   "outputs": [],
   "source": [
    "# gpd_barcelona = gpd.read_file('../data/neighbourhoods.geojson')"
   ]
  },
  {
   "cell_type": "code",
   "execution_count": 348,
   "metadata": {},
   "outputs": [],
   "source": [
    "# # It is possible to fill the polygons with color declaring a new field in the geo-pandas named 'fill'\n",
    "# # we will make it dependant of the percentage of listings that are 'probable businesses'\n",
    "\n",
    "# # we first define a color palette with 5 shades of red -- \n",
    "# color_palette = ['#ffbaba','#ff7b7b','#ff5252','#ff0000','#a70000']\n",
    "\n",
    "# maximum = comparison_by_neighborhood['perc_possible_businesses'].max()\n",
    "# minimum = comparison_by_neighborhood['perc_possible_businesses'].min()\n",
    "# step = (maximum - minimum)/5\n",
    "# rng = [minimum, minimum+step, minimum+2*step,minimum+3*step, minimum+4*step,  minimum+5*step]\n",
    "\n",
    "# def assign_color(value, color_palette, rng):\n",
    "#     if value <= rng[1]:\n",
    "#         return(color_palette[0])\n",
    "#     elif rng[1] < value <= rng[2]:\n",
    "#         return(color_palette[1])\n",
    "#     elif rng[2] < value <= rng[3]:\n",
    "#         return(color_palette[2])\n",
    "#     elif rng[3] < value <= rng[4]:\n",
    "#         return(color_palette[3])\n",
    "#     elif rng[4] < value <= rng[5]:\n",
    "#         return(color_palette[4])"
   ]
  },
  {
   "cell_type": "code",
   "execution_count": 354,
   "metadata": {},
   "outputs": [],
   "source": [
    "# comparison_by_neighborhood['fill'] = comparison_by_neighborhood['perc_possible_businesses'] \\\n",
    "# .map(lambda p: assign_color(p, color_palette = color_palette, rng = rng))"
   ]
  },
  {
   "cell_type": "code",
   "execution_count": 383,
   "metadata": {},
   "outputs": [],
   "source": [
    "# comparison_by_neighborhood_w_fill = comparison_by_neighborhood.reset_index().rename(columns={'index':'neighbourhood'}).loc[:,['neighbourhood','fill']]"
   ]
  },
  {
   "cell_type": "code",
   "execution_count": 385,
   "metadata": {},
   "outputs": [],
   "source": [
    "# # now we update the pandas object with the color filling\n",
    "# gpd_barcelona_w_fill = gpd_barcelona.merge(comparison_by_neighborhood_w_fill, how = 'left',left_on='neighbourhood', right_on='neighbourhood')"
   ]
  },
  {
   "cell_type": "code",
   "execution_count": 386,
   "metadata": {},
   "outputs": [
    {
     "data": {
      "text/plain": [
       "'http://geojson.io/#id=gist:/bb80810ee0e596f46cfc3ce21e0303ed'"
      ]
     },
     "execution_count": 386,
     "metadata": {},
     "output_type": "execute_result"
    }
   ],
   "source": [
    "# json_barcelona = gpd_barcelona_w_fill.to_json()\n",
    "# geojsonio.display(json_barcelona)"
   ]
  },
  {
   "cell_type": "markdown",
   "metadata": {},
   "source": [
    "## 4.3. Has the trend in available listings affected the number of rental contracts signed in Barcelona over the years?\n",
    "\n",
    "An upward trend in number of listings, and a downward trend in number of rental contracts signed in Barcelona, might be a indicator that there is a housing problem derived from Airbnb activities. The same moment that landlords realize that they can better monetize a whole apartment in Airbnb, rather than renting it to a long-term tenant, the moment we should be seeing a negative effect in available housing, which could be reflected in number of rental contracts.\n",
    "\n",
    "We have downloaded many different snapshots of the [data](https://github.com/alvaroof/analysis-airbnb-bcn/tree/master/data) for airbnb listings in Barcelona, and will compare them with the quarterly data for the number of rental contrats obtained from the Barcelona's City Council Open Data portal."
   ]
  },
  {
   "cell_type": "code",
   "execution_count": null,
   "metadata": {},
   "outputs": [],
   "source": [
    "cont = pd.DataFrame() # this list contains csv counting number of rented homes in Barcelona for the given period\n",
    "preu = pd.DataFrame() # this list contains csv with the mean price of rented homes in Barcelona for the given period\n",
    "\n",
    "for i,file in enumerate(os.listdir('../data')):\n",
    "    if 'lloguer_cont' in file:\n",
    "        file = os.path.basename(file)\n",
    "        file = '../data/' + file\n",
    "        cont = pd.concat([cont,pd.read_csv(file)])\n",
    "    elif 'lloguer_preu' in file:\n",
    "        file = os.path.basename(file)\n",
    "        file = '../data/' + file\n",
    "        preu = pd.concat([preu,pd.read_csv(file)])\n",
    "        \n",
    "preu = preu.loc[preu['Lloguer_mitja']=='Lloguer mitjà mensual (Euros/mes)'].drop(columns=['Lloguer_mitja'])\n",
    "cont = cont.drop(columns=['Contractes'])\n",
    "\n",
    "cols_to_join = preu.columns[preu.columns != 'Preu'].tolist()\n",
    "\n",
    "housing_info_barcelona = preu.merge(cont, left_on=cols_to_join, right_on=cols_to_join)"
   ]
  },
  {
   "cell_type": "markdown",
   "metadata": {},
   "source": [
    "# 2. Which are the neighbourhoods that concentrate the hosts with the higher number of listings? This neighbourhoods can be an indicator of where airbnb is having a greater negative impact"
   ]
  },
  {
   "cell_type": "markdown",
   "metadata": {},
   "source": [
    "### by neighbourhood_group"
   ]
  },
  {
   "cell_type": "code",
   "execution_count": 89,
   "metadata": {},
   "outputs": [],
   "source": [
    "listings_per_neighbourhood_host = listings.groupby(['neighbourhood_group','host_id']).size()"
   ]
  },
  {
   "cell_type": "code",
   "execution_count": 90,
   "metadata": {},
   "outputs": [
    {
     "data": {
      "text/plain": [
       "neighbourhood_group  host_id  \n",
       "Ciutat Vella         10704         9\n",
       "                     71615         2\n",
       "                     73163         2\n",
       "                     136853       10\n",
       "                     224605        2\n",
       "                                  ..\n",
       "Sarrià-Sant Gervasi  280042827     2\n",
       "                     283385188     2\n",
       "                     298575589     3\n",
       "                     299589921     3\n",
       "                     301501550     4\n",
       "Length: 3167, dtype: int64"
      ]
     },
     "execution_count": 90,
     "metadata": {},
     "output_type": "execute_result"
    }
   ],
   "source": [
    "# Only interested on those hosts with more than one listing\n",
    "spl = (listings_per_neighbourhood_host > 1)\n",
    "listings_per_neighbourhood_host = listings_per_neighbourhood_host[spl]\n",
    "listings_per_neighbourhood_host"
   ]
  },
  {
   "cell_type": "code",
   "execution_count": 100,
   "metadata": {},
   "outputs": [
    {
     "data": {
      "text/plain": [
       "neighbourhood_group\n",
       "Ciutat Vella           3008\n",
       "Eixample               4622\n",
       "Gràcia                  976\n",
       "Horta-Guinardó          306\n",
       "Les Corts               195\n",
       "Nou Barris               98\n",
       "Sant Andreu             151\n",
       "Sant Martí             1218\n",
       "Sants-Montjuïc         1341\n",
       "Sarrià-Sant Gervasi     437\n",
       "dtype: int64"
      ]
     },
     "execution_count": 100,
     "metadata": {},
     "output_type": "execute_result"
    }
   ],
   "source": [
    "listings_per_neighbourhood_illegal = listings_per_neighbourhood_host.groupby('neighbourhood_group').sum()\n",
    "listings_per_neighbourhood_illegal"
   ]
  },
  {
   "cell_type": "code",
   "execution_count": 101,
   "metadata": {},
   "outputs": [
    {
     "data": {
      "text/plain": [
       "neighbourhood_group\n",
       "Ciutat Vella           4943\n",
       "Eixample               6719\n",
       "Gràcia                 1771\n",
       "Horta-Guinardó          674\n",
       "Les Corts               421\n",
       "Nou Barris              252\n",
       "Sant Andreu             354\n",
       "Sant Martí             2174\n",
       "Sants-Montjuïc         2363\n",
       "Sarrià-Sant Gervasi     757\n",
       "dtype: int64"
      ]
     },
     "execution_count": 101,
     "metadata": {},
     "output_type": "execute_result"
    }
   ],
   "source": [
    "listings_per_neighbourhood = listings.groupby('neighbourhood_group').size()\n",
    "listings_per_neighbourhood"
   ]
  },
  {
   "cell_type": "code",
   "execution_count": 104,
   "metadata": {},
   "outputs": [
    {
     "data": {
      "text/plain": [
       "neighbourhood_group\n",
       "Eixample               0.687900\n",
       "Ciutat Vella           0.608537\n",
       "Sarrià-Sant Gervasi    0.577279\n",
       "Sants-Montjuïc         0.567499\n",
       "Sant Martí             0.560258\n",
       "Gràcia                 0.551101\n",
       "Les Corts              0.463183\n",
       "Horta-Guinardó         0.454006\n",
       "Sant Andreu            0.426554\n",
       "Nou Barris             0.388889\n",
       "dtype: float64"
      ]
     },
     "execution_count": 104,
     "metadata": {},
     "output_type": "execute_result"
    }
   ],
   "source": [
    "(listings_per_neighbourhood_illegal/listings_per_neighbourhood).sort_values(ascending=False)"
   ]
  },
  {
   "cell_type": "markdown",
   "metadata": {},
   "source": [
    "Unfortunately the clustering in neighbourhood_groups is not granular enough as to allow us to really see the differences in different parts of Barcelona. We will repeat the analysis by individual neighbourhood"
   ]
  },
  {
   "cell_type": "markdown",
   "metadata": {},
   "source": [
    "### by neighbourhood"
   ]
  },
  {
   "cell_type": "code",
   "execution_count": 105,
   "metadata": {},
   "outputs": [],
   "source": [
    "listings_per_neighbourhood_host = listings.groupby(['neighbourhood','host_id']).size()"
   ]
  },
  {
   "cell_type": "code",
   "execution_count": 106,
   "metadata": {},
   "outputs": [
    {
     "data": {
      "text/plain": [
       "neighbourhood    host_id  \n",
       "Can Baró         5107063      3\n",
       "                 45260292     2\n",
       "                 54320669     2\n",
       "                 111554365    2\n",
       "                 148901099    2\n",
       "                             ..\n",
       "les Roquetes     78774930     2\n",
       "                 151668430    2\n",
       "les Tres Torres  4459553      4\n",
       "                 5843487      8\n",
       "                 106269512    3\n",
       "Length: 3222, dtype: int64"
      ]
     },
     "execution_count": 106,
     "metadata": {},
     "output_type": "execute_result"
    }
   ],
   "source": [
    "# Only interested on those hosts with more than one listing\n",
    "spl = (listings_per_neighbourhood_host > 1)\n",
    "listings_per_neighbourhood_host = listings_per_neighbourhood_host[spl]\n",
    "listings_per_neighbourhood_host"
   ]
  },
  {
   "cell_type": "code",
   "execution_count": 107,
   "metadata": {},
   "outputs": [
    {
     "data": {
      "text/plain": [
       "neighbourhood\n",
       "Can Baró                                         18\n",
       "Ciutat Meridiana                                  2\n",
       "Diagonal Mar i el Front Marítim del Poblenou    121\n",
       "Horta                                            12\n",
       "Hostafrancs                                     150\n",
       "                                               ... \n",
       "la Vila Olímpica del Poblenou                    88\n",
       "la Vila de Gràcia                               624\n",
       "les Corts                                        99\n",
       "les Roquetes                                     12\n",
       "les Tres Torres                                  15\n",
       "Length: 68, dtype: int64"
      ]
     },
     "execution_count": 107,
     "metadata": {},
     "output_type": "execute_result"
    }
   ],
   "source": [
    "listings_per_neighbourhood_illegal = listings_per_neighbourhood_host.groupby('neighbourhood').sum()\n",
    "listings_per_neighbourhood_illegal"
   ]
  },
  {
   "cell_type": "code",
   "execution_count": 108,
   "metadata": {},
   "outputs": [
    {
     "data": {
      "text/plain": [
       "neighbourhood\n",
       "Baró de Viver                       1\n",
       "Can Baró                           43\n",
       "Can Peguera                         2\n",
       "Canyelles                           4\n",
       "Ciutat Meridiana                    8\n",
       "                                 ... \n",
       "la Vila Olímpica del Poblenou     185\n",
       "la Vila de Gràcia                1122\n",
       "les Corts                         228\n",
       "les Roquetes                       30\n",
       "les Tres Torres                    33\n",
       "Length: 71, dtype: int64"
      ]
     },
     "execution_count": 108,
     "metadata": {},
     "output_type": "execute_result"
    }
   ],
   "source": [
    "listings_per_neighbourhood = listings.groupby('neighbourhood').size()\n",
    "listings_per_neighbourhood"
   ]
  },
  {
   "cell_type": "code",
   "execution_count": 112,
   "metadata": {},
   "outputs": [
    {
     "data": {
      "text/plain": [
       "neighbourhood\n",
       "la Dreta de l'Eixample                   0.743687\n",
       "la Marina del Prat Vermell               0.642857\n",
       "el Barri Gòtic                           0.635980\n",
       "Sant Gervasi - Galvany                   0.631579\n",
       "l'Antiga Esquerra de l'Eixample          0.630213\n",
       "                                           ...   \n",
       "la Guineueta                             0.142857\n",
       "Vallvidrera, el Tibidabo i les Planes    0.057143\n",
       "Baró de Viver                                 NaN\n",
       "Can Peguera                                   NaN\n",
       "Canyelles                                     NaN\n",
       "Length: 71, dtype: float64"
      ]
     },
     "execution_count": 112,
     "metadata": {},
     "output_type": "execute_result"
    }
   ],
   "source": [
    "(listings_per_neighbourhood_illegal/listings_per_neighbourhood).sort_values(ascending=False)"
   ]
  },
  {
   "cell_type": "code",
   "execution_count": 113,
   "metadata": {},
   "outputs": [
    {
     "data": {
      "text/plain": [
       "<matplotlib.axes._subplots.AxesSubplot at 0x1f202297e48>"
      ]
     },
     "execution_count": 113,
     "metadata": {},
     "output_type": "execute_result"
    },
    {
     "data": {
      "image/png": "[encoded data removed]",
      "text/plain": [
       "<matplotlib.figure.Figure at 0x1f201cb4a20>"
      ]
     },
     "metadata": {},
     "output_type": "display_data"
    }
   ],
   "source": [
    "(listings_per_neighbourhood_illegal/listings_per_neighbourhood).sort_values(ascending=False).hist()"
   ]
  },
  {
   "cell_type": "markdown",
   "metadata": {},
   "source": [
    "the histogram above tells a sad story. If everything went accordingly to what Airbnb says all the mass would be concentrated at 0, but as we can see, it is totally the opposite. Most of the neighbourhoods count with more than 20% of listings belonging to hosts that have more than one property listed on airbnb"
   ]
  },
  {
   "cell_type": "markdown",
   "metadata": {},
   "source": [
    "# 3. Has the trend (increase/decrease of listings) in airbnb affected the number of renting contracts signed in Barcelona?"
   ]
  },
  {
   "cell_type": "code",
   "execution_count": 138,
   "metadata": {},
   "outputs": [],
   "source": [
    "listings_2019 = pd.read_csv('./listings_summary_2019.csv')\n",
    "listings_2018 = pd.read_csv('./listings_summary_2018.csv')\n",
    "listings_2017 = pd.read_csv('./listings_summary_2017.csv')\n",
    "listings_2016 = pd.read_csv('./listings_summary_2016.csv')\n",
    "listings_2015 = pd.read_csv('./listings_summary_2015.csv')"
   ]
  },
  {
   "cell_type": "code",
   "execution_count": 190,
   "metadata": {},
   "outputs": [],
   "source": [
    "active_listings_2019 = listings_2019.groupby('neighbourhood').size().reset_index()\n",
    "active_listings_2019['year'] = 2019\n",
    "\n",
    "active_listings_2018 = listings_2018.groupby('neighbourhood').size().reset_index()\n",
    "active_listings_2018['year'] = 2018\n",
    "\n",
    "active_listings_2017 = listings_2017.groupby('neighbourhood').size().reset_index()\n",
    "active_listings_2017['year'] = 2017\n",
    "\n",
    "active_listings_2016 = listings_2016.groupby('neighbourhood').size().reset_index()\n",
    "active_listings_2016['year'] = 2016\n",
    "\n",
    "active_listings_2015 = listings_2015.groupby('neighbourhood').size().reset_index()\n",
    "active_listings_2015['year'] = 2015"
   ]
  },
  {
   "cell_type": "code",
   "execution_count": 192,
   "metadata": {},
   "outputs": [],
   "source": [
    "df_active_listings = pd.concat([active_listings_2015,\n",
    "                   active_listings_2016,\n",
    "                   active_listings_2017,\n",
    "                   active_listings_2018,\n",
    "                   active_listings_2019])\n",
    "df_active_listings = df_active_listings.rename(columns = {0:'active_listings'})"
   ]
  },
  {
   "cell_type": "code",
   "execution_count": 194,
   "metadata": {},
   "outputs": [],
   "source": [
    "df_open_bcn = housing_info_barcelona.groupby(['Any','Nom_Barri']).sum()['Nombre']\n",
    "df_open_bcn = pd.DataFrame(df_open_bcn).reset_index()\n",
    "df_open_bcn = df_open_bcn.rename(columns={'Nom_Barri':'neighbourhood', 'Any':'year', 'Nombre':'contract_count'})"
   ]
  },
  {
   "cell_type": "code",
   "execution_count": 196,
   "metadata": {},
   "outputs": [],
   "source": [
    "df_housing = df_open_bcn.merge(df_active_listings, left_on=['year','neighbourhood'], right_on=['year','neighbourhood'])"
   ]
  },
  {
   "cell_type": "markdown",
   "metadata": {},
   "source": [
    "### Examples of neighbourhoods with more listings that signed contracts"
   ]
  },
  {
   "cell_type": "code",
   "execution_count": 203,
   "metadata": {},
   "outputs": [],
   "source": [
    "spl = df_housing['active_listings'] > df_housing['contract_count']"
   ]
  },
  {
   "cell_type": "code",
   "execution_count": 204,
   "metadata": {},
   "outputs": [
    {
     "data": {
      "text/html": [
       "<div>\n",
       "<style scoped>\n",
       "    .dataframe tbody tr th:only-of-type {\n",
       "        vertical-align: middle;\n",
       "    }\n",
       "\n",
       "    .dataframe tbody tr th {\n",
       "        vertical-align: top;\n",
       "    }\n",
       "\n",
       "    .dataframe thead th {\n",
       "        text-align: right;\n",
       "    }\n",
       "</style>\n",
       "<table border=\"1\" class=\"dataframe\">\n",
       "  <thead>\n",
       "    <tr style=\"text-align: right;\">\n",
       "      <th></th>\n",
       "      <th>year</th>\n",
       "      <th>neighbourhood</th>\n",
       "      <th>contract_count</th>\n",
       "      <th>active_listings</th>\n",
       "    </tr>\n",
       "  </thead>\n",
       "  <tbody>\n",
       "    <tr>\n",
       "      <th>18</th>\n",
       "      <td>2015</td>\n",
       "      <td>Sant Pere, Santa Caterina i la Ribera</td>\n",
       "      <td>1014.0</td>\n",
       "      <td>1111</td>\n",
       "    </tr>\n",
       "    <tr>\n",
       "      <th>28</th>\n",
       "      <td>2015</td>\n",
       "      <td>el Barri Gòtic</td>\n",
       "      <td>684.0</td>\n",
       "      <td>1091</td>\n",
       "    </tr>\n",
       "    <tr>\n",
       "      <th>66</th>\n",
       "      <td>2015</td>\n",
       "      <td>la Vila Olímpica del Poblenou</td>\n",
       "      <td>165.0</td>\n",
       "      <td>166</td>\n",
       "    </tr>\n",
       "    <tr>\n",
       "      <th>100</th>\n",
       "      <td>2016</td>\n",
       "      <td>el Barri Gòtic</td>\n",
       "      <td>785.0</td>\n",
       "      <td>1188</td>\n",
       "    </tr>\n",
       "    <tr>\n",
       "      <th>172</th>\n",
       "      <td>2017</td>\n",
       "      <td>el Barri Gòtic</td>\n",
       "      <td>808.0</td>\n",
       "      <td>1074</td>\n",
       "    </tr>\n",
       "    <tr>\n",
       "      <th>197</th>\n",
       "      <td>2017</td>\n",
       "      <td>la Marina del Prat Vermell</td>\n",
       "      <td>4.0</td>\n",
       "      <td>13</td>\n",
       "    </tr>\n",
       "    <tr>\n",
       "      <th>244</th>\n",
       "      <td>2018</td>\n",
       "      <td>el Barri Gòtic</td>\n",
       "      <td>967.0</td>\n",
       "      <td>1194</td>\n",
       "    </tr>\n",
       "    <tr>\n",
       "      <th>262</th>\n",
       "      <td>2018</td>\n",
       "      <td>la Barceloneta</td>\n",
       "      <td>415.0</td>\n",
       "      <td>419</td>\n",
       "    </tr>\n",
       "    <tr>\n",
       "      <th>269</th>\n",
       "      <td>2018</td>\n",
       "      <td>la Marina del Prat Vermell</td>\n",
       "      <td>3.0</td>\n",
       "      <td>11</td>\n",
       "    </tr>\n",
       "  </tbody>\n",
       "</table>\n",
       "</div>"
      ],
      "text/plain": [
       "     year                          neighbourhood  contract_count  \\\n",
       "18   2015  Sant Pere, Santa Caterina i la Ribera          1014.0   \n",
       "28   2015                         el Barri Gòtic           684.0   \n",
       "66   2015          la Vila Olímpica del Poblenou           165.0   \n",
       "100  2016                         el Barri Gòtic           785.0   \n",
       "172  2017                         el Barri Gòtic           808.0   \n",
       "197  2017             la Marina del Prat Vermell             4.0   \n",
       "244  2018                         el Barri Gòtic           967.0   \n",
       "262  2018                         la Barceloneta           415.0   \n",
       "269  2018             la Marina del Prat Vermell             3.0   \n",
       "\n",
       "     active_listings  \n",
       "18              1111  \n",
       "28              1091  \n",
       "66               166  \n",
       "100             1188  \n",
       "172             1074  \n",
       "197               13  \n",
       "244             1194  \n",
       "262              419  \n",
       "269               11  "
      ]
     },
     "execution_count": 204,
     "metadata": {},
     "output_type": "execute_result"
    }
   ],
   "source": [
    "df_housing[spl]"
   ]
  },
  {
   "cell_type": "markdown",
   "metadata": {},
   "source": [
    "# Analyzing by quarter"
   ]
  },
  {
   "cell_type": "code",
   "execution_count": null,
   "metadata": {},
   "outputs": [],
   "source": [
    "listings = pd.DataFrame() # this list contains csv counting number of rented homes in Barcelona for the given period\n",
    "reviews = pd.DataFrame() # this list contains csv with the mean price of rented homes in Barcelona for the given period\n",
    "\n",
    "for i,file in enumerate(os.listdir('../data')):\n",
    "    if 'lloguer_cont' in file:\n",
    "        file = os.path.basename(file)\n",
    "        file = './' + file\n",
    "        cont = pd.concat([cont,pd.read_csv(file)])\n",
    "    elif 'lloguer_preu' in file:\n",
    "        file = os.path.basename(file)\n",
    "        file = './' + file\n",
    "        preu = pd.concat([preu,pd.read_csv(file)])\n",
    "        \n",
    "preu = preu.loc[preu['Lloguer_mitja']=='Lloguer mitjà mensual (Euros/mes)'].drop(columns=['Lloguer_mitja'])\n",
    "cont = cont.drop(columns=['Contractes'])\n",
    "\n",
    "cols_to_join = preu.columns[preu.columns != 'Preu'].tolist()\n",
    "\n",
    "housing_info_barcelona = preu.merge(cont, left_on=cols_to_join, right_on=cols_to_join)"
   ]
  },
  {
   "cell_type": "code",
   "execution_count": 6,
   "metadata": {},
   "outputs": [
    {
     "name": "stdout",
     "output_type": "stream",
     "text": [
      "2014_lloguer_cont_trim.csv\n",
      "2014_lloguer_preu_trim.csv\n",
      "2015_lloguer_cont_trim.csv\n",
      "2015_lloguer_preu_trim.csv\n",
      "2016_lloguer_cont_trim.csv\n",
      "2016_lloguer_preu_trim.csv\n",
      "2017_lloguer_cont_trim.csv\n",
      "2017_lloguer_preu_trim.csv\n",
      "2018_lloguer_cont_trim.csv\n",
      "2018_lloguer_preu_trim.csv\n",
      "listings_summary_2015_04.csv\n",
      "listings_summary_2015_07.csv\n",
      "listings_summary_2015_09.csv\n",
      "listings_summary_2016_01.csv\n",
      "listings_summary_2016_12.csv\n",
      "listings_summary_2017_03.csv\n",
      "listings_summary_2017_06.csv\n",
      "listings_summary_2017_09.csv\n",
      "listings_summary_2017_12.csv\n",
      "listings_summary_2018_04.csv\n",
      "listings_summary_2018_06.csv\n",
      "listings_summary_2018_09.csv\n",
      "listings_summary_2018_12.csv\n",
      "listings_summary_2019_03.csv\n",
      "listings_summary_2019_06.csv\n",
      "listings_summary_2019_09.csv\n",
      "listings_summary_2019_11.csv\n",
      "neighbourhoods.csv\n",
      "neighbourhoods.geojson\n",
      "reviews_2015_04.csv\n",
      "reviews_2015_07.csv\n",
      "reviews_2015_09.csv\n",
      "reviews_2016_01.csv\n",
      "reviews_2016_12.csv\n",
      "reviews_2017_03.csv\n",
      "reviews_2017_06.csv\n",
      "reviews_2017_09.csv\n",
      "reviews_2017_12.csv\n",
      "reviews_2018_04.csv\n",
      "reviews_2018_06.csv\n",
      "reviews_2018_09.csv\n",
      "reviews_2018_12.csv\n",
      "reviews_2019_03.csv\n",
      "reviews_2019_06.csv\n",
      "reviews_2019_09.csv\n",
      "reviews_2019_11.csv\n"
     ]
    }
   ],
   "source": [
    "for i,file in enumerate(os.listdir('../data')):\n",
    "    print(file)"
   ]
  },
  {
   "cell_type": "code",
   "execution_count": 7,
   "metadata": {},
   "outputs": [
    {
     "ename": "NameError",
     "evalue": "name 'listing' is not defined",
     "output_type": "error",
     "traceback": [
      "\u001b[1;31m---------------------------------------------------------------------------\u001b[0m",
      "\u001b[1;31mNameError\u001b[0m                                 Traceback (most recent call last)",
      "\u001b[1;32m<ipython-input-7-afce217b513f>\u001b[0m in \u001b[0;36m<module>\u001b[1;34m()\u001b[0m\n\u001b[1;32m----> 1\u001b[1;33m \u001b[0mlisting\u001b[0m\u001b[1;33m.\u001b[0m\u001b[0mhead\u001b[0m\u001b[1;33m(\u001b[0m\u001b[1;33m)\u001b[0m\u001b[1;33m\u001b[0m\u001b[0m\n\u001b[0m",
      "\u001b[1;31mNameError\u001b[0m: name 'listing' is not defined"
     ]
    }
   ],
   "source": [
    "listing.head()"
   ]
  },
  {
   "cell_type": "markdown",
   "metadata": {},
   "source": [
    "# 5. Results"
   ]
  },
  {
   "cell_type": "code",
   "execution_count": null,
   "metadata": {},
   "outputs": [],
   "source": []
  },
  {
   "cell_type": "markdown",
   "metadata": {},
   "source": [
    "# Others"
   ]
  },
  {
   "cell_type": "code",
   "execution_count": null,
   "metadata": {},
   "outputs": [],
   "source": []
  }
 ],
 "metadata": {
  "kernelspec": {
   "display_name": "Python 3",
   "language": "python",
   "name": "python3"
  },
  "language_info": {
   "codemirror_mode": {
    "name": "ipython",
    "version": 3
   },
   "file_extension": ".py",
   "mimetype": "text/x-python",
   "name": "python",
   "nbconvert_exporter": "python",
   "pygments_lexer": "ipython3",
   "version": "3.6.4"
  }
 },
 "nbformat": 4,
 "nbformat_minor": 2
}
