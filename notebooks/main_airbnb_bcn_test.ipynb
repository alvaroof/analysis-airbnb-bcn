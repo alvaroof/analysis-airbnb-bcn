{
 "cells": [
  {
   "cell_type": "markdown",
   "metadata": {},
   "source": [
    "# Test Script for Airbnb project - Using data from 09 November, 2019\n",
    "\n",
    "**Author**: Álvaro Ortiz (ortiz.fernandez.alvaro@gmail.com)<br>\n",
    "**Date**: 2019-12-21\n",
    "\n",
    "This is not the main notebook for this project. This notebook is intended to serve as a playground for me, a place where I can test new ideas and write code as I go. To take a look at the actual project and its findings, please head to \n",
    "**airbnb_main.ipynb**"
   ]
  },
  {
   "cell_type": "code",
   "execution_count": 206,
   "metadata": {},
   "outputs": [],
   "source": [
    "import pandas as pd\n",
    "import numpy as np\n",
    "import matplotlib.pyplot as plt\n",
    "import seaborn as sns\n",
    "import os\n",
    "import json\n",
    "\n",
    "\n",
    "%matplotlib notebook"
   ]
  },
  {
   "cell_type": "code",
   "execution_count": 207,
   "metadata": {},
   "outputs": [],
   "source": [
    "from shapely.geometry import Point, Polygon\n",
    "import geopandas as gpd\n",
    "import geojsonio"
   ]
  },
  {
   "cell_type": "markdown",
   "metadata": {},
   "source": [
    "### Load the Data from [Inside Airbnb](http://insideairbnb.com/) related to Airbnb housing market in Barcelona"
   ]
  },
  {
   "cell_type": "code",
   "execution_count": 205,
   "metadata": {},
   "outputs": [
    {
     "name": "stderr",
     "output_type": "stream",
     "text": [
      "C:\\Users\\alvaroof89\\Anaconda3\\lib\\site-packages\\IPython\\core\\interactiveshell.py:2728: DtypeWarning: Columns (43,61,62) have mixed types. Specify dtype option on import or set low_memory=False.\n",
      "  interactivity=interactivity, compiler=compiler, result=result)\n"
     ]
    }
   ],
   "source": [
    "listings = pd.read_csv('./listings_summary_2019.csv')\n",
    "listings_all = pd.read_csv('./listings.csv')\n",
    "calendar = pd.read_csv('./calendar.csv')\n",
    "reviews = pd.read_csv('./reviews.csv')\n",
    "neighbourhoods = pd.read_csv('./neighbourhoods.csv')"
   ]
  },
  {
   "cell_type": "code",
   "execution_count": 208,
   "metadata": {},
   "outputs": [
    {
     "name": "stdout",
     "output_type": "stream",
     "text": [
      "(20428, 16)\n",
      "(7456220, 7)\n",
      "(20428, 106)\n",
      "(740992, 6)\n",
      "(73, 2)\n"
     ]
    }
   ],
   "source": [
    "print(listings.shape)\n",
    "print(calendar.shape)\n",
    "print(listings_all.shape)\n",
    "print(reviews.shape)\n",
    "print(neighbourhoods.shape)"
   ]
  },
  {
   "cell_type": "code",
   "execution_count": 209,
   "metadata": {},
   "outputs": [],
   "source": [
    "gpd_barcelona = gpd.read_file('./neighbourhoods.geojson')\n",
    "json_barcelona = gpd_barcelona.to_json()"
   ]
  },
  {
   "cell_type": "markdown",
   "metadata": {},
   "source": [
    "### Load data from [Barcelona's Open Data Portal](https://opendata-ajuntament.barcelona.cat/en/) related to standard housing market (only rentings)"
   ]
  },
  {
   "cell_type": "code",
   "execution_count": 210,
   "metadata": {},
   "outputs": [],
   "source": [
    "cont = pd.DataFrame() # this list contains csv counting number of rented homes in Barcelona for the given period\n",
    "preu = pd.DataFrame() # this list contains csv with the mean price of rented homes in Barcelona for the given period\n",
    "\n",
    "for i,file in enumerate(os.listdir('./')):\n",
    "    if 'lloguer_cont' in file:\n",
    "        file = os.path.basename(file)\n",
    "        file = './' + file\n",
    "        cont = pd.concat([cont,pd.read_csv(file)])\n",
    "    elif 'lloguer_preu' in file:\n",
    "        file = os.path.basename(file)\n",
    "        file = './' + file\n",
    "        preu = pd.concat([preu,pd.read_csv(file)])\n",
    "        \n",
    "preu = preu.loc[preu['Lloguer_mitja']=='Lloguer mitjà mensual (Euros/mes)'].drop(columns=['Lloguer_mitja'])\n",
    "cont = cont.drop(columns=['Contractes'])\n",
    "\n",
    "cols_to_join = preu.columns[preu.columns != 'Preu'].tolist()\n",
    "\n",
    "housing_info_barcelona = preu.merge(cont, left_on=cols_to_join, right_on=cols_to_join)"
   ]
  },
  {
   "cell_type": "code",
   "execution_count": 211,
   "metadata": {},
   "outputs": [
    {
     "data": {
      "text/html": [
       "<div>\n",
       "<style scoped>\n",
       "    .dataframe tbody tr th:only-of-type {\n",
       "        vertical-align: middle;\n",
       "    }\n",
       "\n",
       "    .dataframe tbody tr th {\n",
       "        vertical-align: top;\n",
       "    }\n",
       "\n",
       "    .dataframe thead th {\n",
       "        text-align: right;\n",
       "    }\n",
       "</style>\n",
       "<table border=\"1\" class=\"dataframe\">\n",
       "  <thead>\n",
       "    <tr style=\"text-align: right;\">\n",
       "      <th></th>\n",
       "      <th>id</th>\n",
       "      <th>name</th>\n",
       "      <th>host_id</th>\n",
       "      <th>host_name</th>\n",
       "      <th>neighbourhood_group</th>\n",
       "      <th>neighbourhood</th>\n",
       "      <th>latitude</th>\n",
       "      <th>longitude</th>\n",
       "      <th>room_type</th>\n",
       "      <th>price</th>\n",
       "      <th>minimum_nights</th>\n",
       "      <th>number_of_reviews</th>\n",
       "      <th>last_review</th>\n",
       "      <th>reviews_per_month</th>\n",
       "      <th>calculated_host_listings_count</th>\n",
       "      <th>availability_365</th>\n",
       "    </tr>\n",
       "  </thead>\n",
       "  <tbody>\n",
       "    <tr>\n",
       "      <th>0</th>\n",
       "      <td>18666</td>\n",
       "      <td>Flat with Sunny Terrace</td>\n",
       "      <td>71615</td>\n",
       "      <td>Mireia And Maria</td>\n",
       "      <td>Sant Martí</td>\n",
       "      <td>el Camp de l'Arpa del Clot</td>\n",
       "      <td>41.40889</td>\n",
       "      <td>2.18555</td>\n",
       "      <td>Entire home/apt</td>\n",
       "      <td>130</td>\n",
       "      <td>3</td>\n",
       "      <td>1</td>\n",
       "      <td>2015-10-10</td>\n",
       "      <td>0.02</td>\n",
       "      <td>30</td>\n",
       "      <td>304</td>\n",
       "    </tr>\n",
       "    <tr>\n",
       "      <th>1</th>\n",
       "      <td>18674</td>\n",
       "      <td>Huge flat for 8 people close to Sagrada Familia</td>\n",
       "      <td>71615</td>\n",
       "      <td>Mireia And Maria</td>\n",
       "      <td>Eixample</td>\n",
       "      <td>la Sagrada Família</td>\n",
       "      <td>41.40420</td>\n",
       "      <td>2.17306</td>\n",
       "      <td>Entire home/apt</td>\n",
       "      <td>60</td>\n",
       "      <td>1</td>\n",
       "      <td>20</td>\n",
       "      <td>2019-10-19</td>\n",
       "      <td>0.25</td>\n",
       "      <td>30</td>\n",
       "      <td>312</td>\n",
       "    </tr>\n",
       "  </tbody>\n",
       "</table>\n",
       "</div>"
      ],
      "text/plain": [
       "      id                                             name  host_id  \\\n",
       "0  18666                          Flat with Sunny Terrace    71615   \n",
       "1  18674  Huge flat for 8 people close to Sagrada Familia    71615   \n",
       "\n",
       "          host_name neighbourhood_group               neighbourhood  latitude  \\\n",
       "0  Mireia And Maria          Sant Martí  el Camp de l'Arpa del Clot  41.40889   \n",
       "1  Mireia And Maria            Eixample          la Sagrada Família  41.40420   \n",
       "\n",
       "   longitude        room_type  price  minimum_nights  number_of_reviews  \\\n",
       "0    2.18555  Entire home/apt    130               3                  1   \n",
       "1    2.17306  Entire home/apt     60               1                 20   \n",
       "\n",
       "  last_review  reviews_per_month  calculated_host_listings_count  \\\n",
       "0  2015-10-10               0.02                              30   \n",
       "1  2019-10-19               0.25                              30   \n",
       "\n",
       "   availability_365  \n",
       "0               304  \n",
       "1               312  "
      ]
     },
     "execution_count": 211,
     "metadata": {},
     "output_type": "execute_result"
    }
   ],
   "source": [
    "listings.head(2)"
   ]
  },
  {
   "cell_type": "code",
   "execution_count": 212,
   "metadata": {},
   "outputs": [
    {
     "data": {
      "text/html": [
       "<div>\n",
       "<style scoped>\n",
       "    .dataframe tbody tr th:only-of-type {\n",
       "        vertical-align: middle;\n",
       "    }\n",
       "\n",
       "    .dataframe tbody tr th {\n",
       "        vertical-align: top;\n",
       "    }\n",
       "\n",
       "    .dataframe thead th {\n",
       "        text-align: right;\n",
       "    }\n",
       "</style>\n",
       "<table border=\"1\" class=\"dataframe\">\n",
       "  <thead>\n",
       "    <tr style=\"text-align: right;\">\n",
       "      <th></th>\n",
       "      <th>listing_id</th>\n",
       "      <th>date</th>\n",
       "      <th>available</th>\n",
       "      <th>price</th>\n",
       "      <th>adjusted_price</th>\n",
       "      <th>minimum_nights</th>\n",
       "      <th>maximum_nights</th>\n",
       "    </tr>\n",
       "  </thead>\n",
       "  <tbody>\n",
       "    <tr>\n",
       "      <th>0</th>\n",
       "      <td>18666</td>\n",
       "      <td>2019-11-09</td>\n",
       "      <td>f</td>\n",
       "      <td>$130.00</td>\n",
       "      <td>$130.00</td>\n",
       "      <td>3</td>\n",
       "      <td>730</td>\n",
       "    </tr>\n",
       "    <tr>\n",
       "      <th>1</th>\n",
       "      <td>18666</td>\n",
       "      <td>2019-11-10</td>\n",
       "      <td>f</td>\n",
       "      <td>$130.00</td>\n",
       "      <td>$130.00</td>\n",
       "      <td>3</td>\n",
       "      <td>730</td>\n",
       "    </tr>\n",
       "  </tbody>\n",
       "</table>\n",
       "</div>"
      ],
      "text/plain": [
       "   listing_id        date available    price adjusted_price  minimum_nights  \\\n",
       "0       18666  2019-11-09         f  $130.00        $130.00               3   \n",
       "1       18666  2019-11-10         f  $130.00        $130.00               3   \n",
       "\n",
       "   maximum_nights  \n",
       "0             730  \n",
       "1             730  "
      ]
     },
     "execution_count": 212,
     "metadata": {},
     "output_type": "execute_result"
    }
   ],
   "source": [
    "calendar.head(2)"
   ]
  },
  {
   "cell_type": "code",
   "execution_count": 11,
   "metadata": {},
   "outputs": [
    {
     "data": {
      "text/html": [
       "<div>\n",
       "<style scoped>\n",
       "    .dataframe tbody tr th:only-of-type {\n",
       "        vertical-align: middle;\n",
       "    }\n",
       "\n",
       "    .dataframe tbody tr th {\n",
       "        vertical-align: top;\n",
       "    }\n",
       "\n",
       "    .dataframe thead th {\n",
       "        text-align: right;\n",
       "    }\n",
       "</style>\n",
       "<table border=\"1\" class=\"dataframe\">\n",
       "  <thead>\n",
       "    <tr style=\"text-align: right;\">\n",
       "      <th></th>\n",
       "      <th>neighbourhood_group</th>\n",
       "      <th>neighbourhood</th>\n",
       "    </tr>\n",
       "  </thead>\n",
       "  <tbody>\n",
       "    <tr>\n",
       "      <th>0</th>\n",
       "      <td>Ciutat Vella</td>\n",
       "      <td>el Barri Gòtic</td>\n",
       "    </tr>\n",
       "    <tr>\n",
       "      <th>1</th>\n",
       "      <td>Ciutat Vella</td>\n",
       "      <td>el Raval</td>\n",
       "    </tr>\n",
       "    <tr>\n",
       "      <th>2</th>\n",
       "      <td>Ciutat Vella</td>\n",
       "      <td>la Barceloneta</td>\n",
       "    </tr>\n",
       "    <tr>\n",
       "      <th>3</th>\n",
       "      <td>Ciutat Vella</td>\n",
       "      <td>Sant Pere, Santa Caterina i la Ribera</td>\n",
       "    </tr>\n",
       "    <tr>\n",
       "      <th>4</th>\n",
       "      <td>Eixample</td>\n",
       "      <td>el Fort Pienc</td>\n",
       "    </tr>\n",
       "  </tbody>\n",
       "</table>\n",
       "</div>"
      ],
      "text/plain": [
       "  neighbourhood_group                          neighbourhood\n",
       "0        Ciutat Vella                         el Barri Gòtic\n",
       "1        Ciutat Vella                               el Raval\n",
       "2        Ciutat Vella                         la Barceloneta\n",
       "3        Ciutat Vella  Sant Pere, Santa Caterina i la Ribera\n",
       "4            Eixample                          el Fort Pienc"
      ]
     },
     "execution_count": 11,
     "metadata": {},
     "output_type": "execute_result"
    }
   ],
   "source": [
    "neighbourhoods.head()"
   ]
  },
  {
   "cell_type": "code",
   "execution_count": 12,
   "metadata": {},
   "outputs": [
    {
     "data": {
      "text/html": [
       "<div>\n",
       "<style scoped>\n",
       "    .dataframe tbody tr th:only-of-type {\n",
       "        vertical-align: middle;\n",
       "    }\n",
       "\n",
       "    .dataframe tbody tr th {\n",
       "        vertical-align: top;\n",
       "    }\n",
       "\n",
       "    .dataframe thead th {\n",
       "        text-align: right;\n",
       "    }\n",
       "</style>\n",
       "<table border=\"1\" class=\"dataframe\">\n",
       "  <thead>\n",
       "    <tr style=\"text-align: right;\">\n",
       "      <th></th>\n",
       "      <th>listing_id</th>\n",
       "      <th>id</th>\n",
       "      <th>date</th>\n",
       "      <th>reviewer_id</th>\n",
       "      <th>reviewer_name</th>\n",
       "      <th>comments</th>\n",
       "    </tr>\n",
       "  </thead>\n",
       "  <tbody>\n",
       "    <tr>\n",
       "      <th>0</th>\n",
       "      <td>18666</td>\n",
       "      <td>50158511</td>\n",
       "      <td>2015-10-10</td>\n",
       "      <td>1559265</td>\n",
       "      <td>Jody</td>\n",
       "      <td>Very nice flat. We had easy transportation to ...</td>\n",
       "    </tr>\n",
       "    <tr>\n",
       "      <th>1</th>\n",
       "      <td>18674</td>\n",
       "      <td>4808211</td>\n",
       "      <td>2013-05-27</td>\n",
       "      <td>4841196</td>\n",
       "      <td>Caron</td>\n",
       "      <td>Great location. Clean, spacious flat. Would re...</td>\n",
       "    </tr>\n",
       "  </tbody>\n",
       "</table>\n",
       "</div>"
      ],
      "text/plain": [
       "   listing_id        id        date  reviewer_id reviewer_name  \\\n",
       "0       18666  50158511  2015-10-10      1559265          Jody   \n",
       "1       18674   4808211  2013-05-27      4841196         Caron   \n",
       "\n",
       "                                            comments  \n",
       "0  Very nice flat. We had easy transportation to ...  \n",
       "1  Great location. Clean, spacious flat. Would re...  "
      ]
     },
     "execution_count": 12,
     "metadata": {},
     "output_type": "execute_result"
    }
   ],
   "source": [
    "reviews.head(2)"
   ]
  },
  {
   "cell_type": "markdown",
   "metadata": {},
   "source": [
    "### are the neighbourhoods listed in BCN open data portal and in Airbnb named the same?"
   ]
  },
  {
   "cell_type": "code",
   "execution_count": 126,
   "metadata": {},
   "outputs": [],
   "source": [
    "bcn_districts = set(housing_info_barcelona['Nom_Districte'].unique())"
   ]
  },
  {
   "cell_type": "code",
   "execution_count": 127,
   "metadata": {},
   "outputs": [],
   "source": [
    "airbnb_districs = set(listings['neighbourhood_group'].unique())"
   ]
  },
  {
   "cell_type": "code",
   "execution_count": 131,
   "metadata": {},
   "outputs": [
    {
     "data": {
      "text/plain": [
       "set()"
      ]
     },
     "execution_count": 131,
     "metadata": {},
     "output_type": "execute_result"
    }
   ],
   "source": [
    "bcn_districts.difference(airbnb_districs)"
   ]
  },
  {
   "cell_type": "code",
   "execution_count": 132,
   "metadata": {},
   "outputs": [],
   "source": [
    "bcn_neighbourhoods = set(housing_info_barcelona['Nom_Barri'].unique())"
   ]
  },
  {
   "cell_type": "code",
   "execution_count": 133,
   "metadata": {},
   "outputs": [],
   "source": [
    "airbnb_neighbourhoods = set(listings['neighbourhood'].unique())"
   ]
  },
  {
   "cell_type": "code",
   "execution_count": 137,
   "metadata": {},
   "outputs": [
    {
     "name": "stdout",
     "output_type": "stream",
     "text": [
      "{'la Clota', 'Vallbona'}\n"
     ]
    }
   ],
   "source": [
    "if len(bcn_neighbourhoods) > len(airbnb_neighbourhoods):\n",
    "    print(bcn_neighbourhoods.difference(airbnb_neighbourhoods))\n",
    "elif len(bcn_neighbourhoods) < len(airbnb_neighbourhoods):\n",
    "    print(airbnb_neighbourhoods.difference(bcn_neighbourhoods))"
   ]
  },
  {
   "cell_type": "markdown",
   "metadata": {},
   "source": [
    "Seem that the neighbourhood are correctly mapped in the airbnb data and therefore a comparison with the data provided in the open bcn website can be made."
   ]
  },
  {
   "cell_type": "markdown",
   "metadata": {},
   "source": [
    "## Handle categorical and missing data"
   ]
  },
  {
   "cell_type": "code",
   "execution_count": 218,
   "metadata": {},
   "outputs": [
    {
     "data": {
      "text/plain": [
       "id                                   0\n",
       "name                                15\n",
       "host_id                              0\n",
       "host_name                           17\n",
       "neighbourhood_group                  0\n",
       "neighbourhood                        0\n",
       "latitude                             0\n",
       "longitude                            0\n",
       "room_type                            0\n",
       "price                                0\n",
       "minimum_nights                       0\n",
       "number_of_reviews                    0\n",
       "last_review                       4276\n",
       "reviews_per_month                 4276\n",
       "calculated_host_listings_count       0\n",
       "availability_365                     0\n",
       "dtype: int64"
      ]
     },
     "execution_count": 218,
     "metadata": {},
     "output_type": "execute_result"
    }
   ],
   "source": [
    "listings.isna().sum()"
   ]
  },
  {
   "cell_type": "markdown",
   "metadata": {},
   "source": [
    "# Possible Questions"
   ]
  },
  {
   "cell_type": "markdown",
   "metadata": {},
   "source": [
    "# 1. Airbnb claims that it only enables people to share housing they live in, not monetizing it like a business. How many hosts have more than one listing, and therefore, are likely to be managing their listings business-like?"
   ]
  },
  {
   "cell_type": "markdown",
   "metadata": {},
   "source": [
    "### Let's start by examining how many hosts there are, and how many listings they have"
   ]
  },
  {
   "cell_type": "markdown",
   "metadata": {},
   "source": [
    "We define active listings as those that have only been rented recently (reviewed in the last 6 months), and are being rented regularly (number of nights per year greater than the threshold for that city). Some reviews may be \"spam\" allowed by Airbnb. Analysis suggests that spam reviews are small and do not affect the statistics."
   ]
  },
  {
   "cell_type": "code",
   "execution_count": 217,
   "metadata": {},
   "outputs": [
    {
     "data": {
      "text/plain": [
       "0        Entire home/apt\n",
       "1        Entire home/apt\n",
       "2        Entire home/apt\n",
       "3           Private room\n",
       "4        Entire home/apt\n",
       "              ...       \n",
       "20423    Entire home/apt\n",
       "20424    Entire home/apt\n",
       "20425    Entire home/apt\n",
       "20426    Entire home/apt\n",
       "20427       Private room\n",
       "Name: room_type, Length: 20428, dtype: object"
      ]
     },
     "execution_count": 217,
     "metadata": {},
     "output_type": "execute_result"
    }
   ],
   "source": [
    "listings['room_type']"
   ]
  },
  {
   "cell_type": "code",
   "execution_count": 59,
   "metadata": {},
   "outputs": [],
   "source": [
    "# Calculate number of different hosts\n",
    "no_active_hosts = listings['host_id'].nunique()\n",
    "no_active_listings = listings.shape[0]"
   ]
  },
  {
   "cell_type": "code",
   "execution_count": 37,
   "metadata": {},
   "outputs": [
    {
     "name": "stdout",
     "output_type": "stream",
     "text": [
      "There are 10086 different hosts in Barcelona at the time of the snapshot. 09 November, 2019\n"
     ]
    }
   ],
   "source": [
    "print('There are {} different hosts in Barcelona at the time of the snapshot. 09 November, 2019'.format(no_active_hosts))"
   ]
  },
  {
   "cell_type": "code",
   "execution_count": 33,
   "metadata": {},
   "outputs": [],
   "source": [
    "# listings.drop_duplicates(subset=['host_id','id']).shape"
   ]
  },
  {
   "cell_type": "code",
   "execution_count": 78,
   "metadata": {},
   "outputs": [],
   "source": [
    "# listings[['host_id','id']].drop_duplicates().groupby('host_id').size().hist(bins=100);"
   ]
  },
  {
   "cell_type": "code",
   "execution_count": 79,
   "metadata": {},
   "outputs": [
    {
     "data": {
      "text/plain": [
       "host_id\n",
       "102947901    155\n",
       "170716140    154\n",
       "4459553      140\n",
       "158023606    128\n",
       "171236207    114\n",
       "193618270    104\n",
       "396363        99\n",
       "36607755      98\n",
       "1447144       90\n",
       "1391607       88\n",
       "dtype: int64"
      ]
     },
     "execution_count": 79,
     "metadata": {},
     "output_type": "execute_result"
    }
   ],
   "source": [
    "number_listing_per_host = listings.groupby('host_id').size().sort_values(ascending=False)\n",
    "number_listing_per_host.head(10)"
   ]
  },
  {
   "cell_type": "markdown",
   "metadata": {},
   "source": [
    "### What percentage of listings he top 5% hosts own?"
   ]
  },
  {
   "cell_type": "code",
   "execution_count": 53,
   "metadata": {},
   "outputs": [],
   "source": [
    "perc5 = int(np.floor(no_active_hosts*0.05))\n",
    "perc5_host = number_listing_per_host.index[0:perc5]\n",
    "perc5_listings = number_listing_per_host.iloc[0:perc5].sum()"
   ]
  },
  {
   "cell_type": "code",
   "execution_count": 77,
   "metadata": {},
   "outputs": [
    {
     "name": "stdout",
     "output_type": "stream",
     "text": [
      "The top 5% most wealthy hosts own an anything but ridiculous 35.45% of the total listings\n"
     ]
    }
   ],
   "source": [
    "100*perc5_listings/no_active_listings\n",
    "print('The top 5% most wealthy hosts own an anything but ridiculous {:2.2f}% of the total listings'.format(100*perc5_listings/no_active_listings))"
   ]
  },
  {
   "cell_type": "markdown",
   "metadata": {},
   "source": [
    "### How many hosts have more than 1 listing?"
   ]
  },
  {
   "cell_type": "code",
   "execution_count": 74,
   "metadata": {},
   "outputs": [
    {
     "name": "stdout",
     "output_type": "stream",
     "text": [
      "The percentage of hosts that own more than one active listing is 29.21%\n"
     ]
    }
   ],
   "source": [
    "hosts_more_than_one_listing = (number_listing_per_host > 1).sum()\n",
    "print('The percentage of hosts that own more than one active listing is {:2.2f}%'.format(100*hosts_more_than_one_listing/no_active_hosts))"
   ]
  },
  {
   "cell_type": "markdown",
   "metadata": {},
   "source": [
    "# 2. Which are the neighbourhoods that concentrate the hosts with the higher number of listings? This neighbourhoods can be an indicator of where airbnb is having a greater negative impact"
   ]
  },
  {
   "cell_type": "markdown",
   "metadata": {},
   "source": [
    "### by neighbourhood_group"
   ]
  },
  {
   "cell_type": "code",
   "execution_count": 89,
   "metadata": {},
   "outputs": [],
   "source": [
    "listings_per_neighbourhood_host = listings.groupby(['neighbourhood_group','host_id']).size()"
   ]
  },
  {
   "cell_type": "code",
   "execution_count": 90,
   "metadata": {},
   "outputs": [
    {
     "data": {
      "text/plain": [
       "neighbourhood_group  host_id  \n",
       "Ciutat Vella         10704         9\n",
       "                     71615         2\n",
       "                     73163         2\n",
       "                     136853       10\n",
       "                     224605        2\n",
       "                                  ..\n",
       "Sarrià-Sant Gervasi  280042827     2\n",
       "                     283385188     2\n",
       "                     298575589     3\n",
       "                     299589921     3\n",
       "                     301501550     4\n",
       "Length: 3167, dtype: int64"
      ]
     },
     "execution_count": 90,
     "metadata": {},
     "output_type": "execute_result"
    }
   ],
   "source": [
    "# Only interested on those hosts with more than one listing\n",
    "spl = (listings_per_neighbourhood_host > 1)\n",
    "listings_per_neighbourhood_host = listings_per_neighbourhood_host[spl]\n",
    "listings_per_neighbourhood_host"
   ]
  },
  {
   "cell_type": "code",
   "execution_count": 100,
   "metadata": {},
   "outputs": [
    {
     "data": {
      "text/plain": [
       "neighbourhood_group\n",
       "Ciutat Vella           3008\n",
       "Eixample               4622\n",
       "Gràcia                  976\n",
       "Horta-Guinardó          306\n",
       "Les Corts               195\n",
       "Nou Barris               98\n",
       "Sant Andreu             151\n",
       "Sant Martí             1218\n",
       "Sants-Montjuïc         1341\n",
       "Sarrià-Sant Gervasi     437\n",
       "dtype: int64"
      ]
     },
     "execution_count": 100,
     "metadata": {},
     "output_type": "execute_result"
    }
   ],
   "source": [
    "listings_per_neighbourhood_illegal = listings_per_neighbourhood_host.groupby('neighbourhood_group').sum()\n",
    "listings_per_neighbourhood_illegal"
   ]
  },
  {
   "cell_type": "code",
   "execution_count": 101,
   "metadata": {},
   "outputs": [
    {
     "data": {
      "text/plain": [
       "neighbourhood_group\n",
       "Ciutat Vella           4943\n",
       "Eixample               6719\n",
       "Gràcia                 1771\n",
       "Horta-Guinardó          674\n",
       "Les Corts               421\n",
       "Nou Barris              252\n",
       "Sant Andreu             354\n",
       "Sant Martí             2174\n",
       "Sants-Montjuïc         2363\n",
       "Sarrià-Sant Gervasi     757\n",
       "dtype: int64"
      ]
     },
     "execution_count": 101,
     "metadata": {},
     "output_type": "execute_result"
    }
   ],
   "source": [
    "listings_per_neighbourhood = listings.groupby('neighbourhood_group').size()\n",
    "listings_per_neighbourhood"
   ]
  },
  {
   "cell_type": "code",
   "execution_count": 104,
   "metadata": {},
   "outputs": [
    {
     "data": {
      "text/plain": [
       "neighbourhood_group\n",
       "Eixample               0.687900\n",
       "Ciutat Vella           0.608537\n",
       "Sarrià-Sant Gervasi    0.577279\n",
       "Sants-Montjuïc         0.567499\n",
       "Sant Martí             0.560258\n",
       "Gràcia                 0.551101\n",
       "Les Corts              0.463183\n",
       "Horta-Guinardó         0.454006\n",
       "Sant Andreu            0.426554\n",
       "Nou Barris             0.388889\n",
       "dtype: float64"
      ]
     },
     "execution_count": 104,
     "metadata": {},
     "output_type": "execute_result"
    }
   ],
   "source": [
    "(listings_per_neighbourhood_illegal/listings_per_neighbourhood).sort_values(ascending=False)"
   ]
  },
  {
   "cell_type": "markdown",
   "metadata": {},
   "source": [
    "Unfortunately the clustering in neighbourhood_groups is not granular enough as to allow us to really see the differences in different parts of Barcelona. We will repeat the analysis by individual neighbourhood"
   ]
  },
  {
   "cell_type": "markdown",
   "metadata": {},
   "source": [
    "### by neighbourhood"
   ]
  },
  {
   "cell_type": "code",
   "execution_count": 105,
   "metadata": {},
   "outputs": [],
   "source": [
    "listings_per_neighbourhood_host = listings.groupby(['neighbourhood','host_id']).size()"
   ]
  },
  {
   "cell_type": "code",
   "execution_count": 106,
   "metadata": {},
   "outputs": [
    {
     "data": {
      "text/plain": [
       "neighbourhood    host_id  \n",
       "Can Baró         5107063      3\n",
       "                 45260292     2\n",
       "                 54320669     2\n",
       "                 111554365    2\n",
       "                 148901099    2\n",
       "                             ..\n",
       "les Roquetes     78774930     2\n",
       "                 151668430    2\n",
       "les Tres Torres  4459553      4\n",
       "                 5843487      8\n",
       "                 106269512    3\n",
       "Length: 3222, dtype: int64"
      ]
     },
     "execution_count": 106,
     "metadata": {},
     "output_type": "execute_result"
    }
   ],
   "source": [
    "# Only interested on those hosts with more than one listing\n",
    "spl = (listings_per_neighbourhood_host > 1)\n",
    "listings_per_neighbourhood_host = listings_per_neighbourhood_host[spl]\n",
    "listings_per_neighbourhood_host"
   ]
  },
  {
   "cell_type": "code",
   "execution_count": 107,
   "metadata": {},
   "outputs": [
    {
     "data": {
      "text/plain": [
       "neighbourhood\n",
       "Can Baró                                         18\n",
       "Ciutat Meridiana                                  2\n",
       "Diagonal Mar i el Front Marítim del Poblenou    121\n",
       "Horta                                            12\n",
       "Hostafrancs                                     150\n",
       "                                               ... \n",
       "la Vila Olímpica del Poblenou                    88\n",
       "la Vila de Gràcia                               624\n",
       "les Corts                                        99\n",
       "les Roquetes                                     12\n",
       "les Tres Torres                                  15\n",
       "Length: 68, dtype: int64"
      ]
     },
     "execution_count": 107,
     "metadata": {},
     "output_type": "execute_result"
    }
   ],
   "source": [
    "listings_per_neighbourhood_illegal = listings_per_neighbourhood_host.groupby('neighbourhood').sum()\n",
    "listings_per_neighbourhood_illegal"
   ]
  },
  {
   "cell_type": "code",
   "execution_count": 108,
   "metadata": {},
   "outputs": [
    {
     "data": {
      "text/plain": [
       "neighbourhood\n",
       "Baró de Viver                       1\n",
       "Can Baró                           43\n",
       "Can Peguera                         2\n",
       "Canyelles                           4\n",
       "Ciutat Meridiana                    8\n",
       "                                 ... \n",
       "la Vila Olímpica del Poblenou     185\n",
       "la Vila de Gràcia                1122\n",
       "les Corts                         228\n",
       "les Roquetes                       30\n",
       "les Tres Torres                    33\n",
       "Length: 71, dtype: int64"
      ]
     },
     "execution_count": 108,
     "metadata": {},
     "output_type": "execute_result"
    }
   ],
   "source": [
    "listings_per_neighbourhood = listings.groupby('neighbourhood').size()\n",
    "listings_per_neighbourhood"
   ]
  },
  {
   "cell_type": "code",
   "execution_count": 112,
   "metadata": {},
   "outputs": [
    {
     "data": {
      "text/plain": [
       "neighbourhood\n",
       "la Dreta de l'Eixample                   0.743687\n",
       "la Marina del Prat Vermell               0.642857\n",
       "el Barri Gòtic                           0.635980\n",
       "Sant Gervasi - Galvany                   0.631579\n",
       "l'Antiga Esquerra de l'Eixample          0.630213\n",
       "                                           ...   \n",
       "la Guineueta                             0.142857\n",
       "Vallvidrera, el Tibidabo i les Planes    0.057143\n",
       "Baró de Viver                                 NaN\n",
       "Can Peguera                                   NaN\n",
       "Canyelles                                     NaN\n",
       "Length: 71, dtype: float64"
      ]
     },
     "execution_count": 112,
     "metadata": {},
     "output_type": "execute_result"
    }
   ],
   "source": [
    "(listings_per_neighbourhood_illegal/listings_per_neighbourhood).sort_values(ascending=False)"
   ]
  },
  {
   "cell_type": "code",
   "execution_count": 113,
   "metadata": {},
   "outputs": [
    {
     "data": {
      "text/plain": [
       "<matplotlib.axes._subplots.AxesSubplot at 0x1f202297e48>"
      ]
     },
     "execution_count": 113,
     "metadata": {},
     "output_type": "execute_result"
    },
    {
     "data": {
      "image/png": "[encoded data removed]",
      "text/plain": [
       "<matplotlib.figure.Figure at 0x1f201cb4a20>"
      ]
     },
     "metadata": {},
     "output_type": "display_data"
    }
   ],
   "source": [
    "(listings_per_neighbourhood_illegal/listings_per_neighbourhood).sort_values(ascending=False).hist()"
   ]
  },
  {
   "cell_type": "markdown",
   "metadata": {},
   "source": [
    "the histogram above tells a sad story. If everything went accordingly to what Airbnb says all the mass would be concentrated at 0, but as we can see, it is totally the opposite. Most of the neighbourhoods count with more than 20% of listings belonging to hosts that have more than one property listed on airbnb"
   ]
  },
  {
   "cell_type": "markdown",
   "metadata": {},
   "source": [
    "# 3. Has the trend (increase/decrease of listings) in airbnb affected the number of renting contracts signed in Barcelona?"
   ]
  },
  {
   "cell_type": "code",
   "execution_count": 138,
   "metadata": {},
   "outputs": [],
   "source": [
    "listings_2019 = pd.read_csv('./listings_summary_2019.csv')\n",
    "listings_2018 = pd.read_csv('./listings_summary_2018.csv')\n",
    "listings_2017 = pd.read_csv('./listings_summary_2017.csv')\n",
    "listings_2016 = pd.read_csv('./listings_summary_2016.csv')\n",
    "listings_2015 = pd.read_csv('./listings_summary_2015.csv')"
   ]
  },
  {
   "cell_type": "code",
   "execution_count": 190,
   "metadata": {},
   "outputs": [],
   "source": [
    "active_listings_2019 = listings_2019.groupby('neighbourhood').size().reset_index()\n",
    "active_listings_2019['year'] = 2019\n",
    "\n",
    "active_listings_2018 = listings_2018.groupby('neighbourhood').size().reset_index()\n",
    "active_listings_2018['year'] = 2018\n",
    "\n",
    "active_listings_2017 = listings_2017.groupby('neighbourhood').size().reset_index()\n",
    "active_listings_2017['year'] = 2017\n",
    "\n",
    "active_listings_2016 = listings_2016.groupby('neighbourhood').size().reset_index()\n",
    "active_listings_2016['year'] = 2016\n",
    "\n",
    "active_listings_2015 = listings_2015.groupby('neighbourhood').size().reset_index()\n",
    "active_listings_2015['year'] = 2015"
   ]
  },
  {
   "cell_type": "code",
   "execution_count": 192,
   "metadata": {},
   "outputs": [],
   "source": [
    "df_active_listings = pd.concat([active_listings_2015,\n",
    "                   active_listings_2016,\n",
    "                   active_listings_2017,\n",
    "                   active_listings_2018,\n",
    "                   active_listings_2019])\n",
    "df_active_listings = df_active_listings.rename(columns = {0:'active_listings'})"
   ]
  },
  {
   "cell_type": "code",
   "execution_count": 194,
   "metadata": {},
   "outputs": [],
   "source": [
    "df_open_bcn = housing_info_barcelona.groupby(['Any','Nom_Barri']).sum()['Nombre']\n",
    "df_open_bcn = pd.DataFrame(df_open_bcn).reset_index()\n",
    "df_open_bcn = df_open_bcn.rename(columns={'Nom_Barri':'neighbourhood', 'Any':'year', 'Nombre':'contract_count'})"
   ]
  },
  {
   "cell_type": "code",
   "execution_count": 196,
   "metadata": {},
   "outputs": [],
   "source": [
    "df_housing = df_open_bcn.merge(df_active_listings, left_on=['year','neighbourhood'], right_on=['year','neighbourhood'])"
   ]
  },
  {
   "cell_type": "markdown",
   "metadata": {},
   "source": [
    "### Examples of neighbourhoods with more listings that signed contracts"
   ]
  },
  {
   "cell_type": "code",
   "execution_count": 203,
   "metadata": {},
   "outputs": [],
   "source": [
    "spl = df_housing['active_listings'] > df_housing['contract_count']"
   ]
  },
  {
   "cell_type": "code",
   "execution_count": 204,
   "metadata": {},
   "outputs": [
    {
     "data": {
      "text/html": [
       "<div>\n",
       "<style scoped>\n",
       "    .dataframe tbody tr th:only-of-type {\n",
       "        vertical-align: middle;\n",
       "    }\n",
       "\n",
       "    .dataframe tbody tr th {\n",
       "        vertical-align: top;\n",
       "    }\n",
       "\n",
       "    .dataframe thead th {\n",
       "        text-align: right;\n",
       "    }\n",
       "</style>\n",
       "<table border=\"1\" class=\"dataframe\">\n",
       "  <thead>\n",
       "    <tr style=\"text-align: right;\">\n",
       "      <th></th>\n",
       "      <th>year</th>\n",
       "      <th>neighbourhood</th>\n",
       "      <th>contract_count</th>\n",
       "      <th>active_listings</th>\n",
       "    </tr>\n",
       "  </thead>\n",
       "  <tbody>\n",
       "    <tr>\n",
       "      <th>18</th>\n",
       "      <td>2015</td>\n",
       "      <td>Sant Pere, Santa Caterina i la Ribera</td>\n",
       "      <td>1014.0</td>\n",
       "      <td>1111</td>\n",
       "    </tr>\n",
       "    <tr>\n",
       "      <th>28</th>\n",
       "      <td>2015</td>\n",
       "      <td>el Barri Gòtic</td>\n",
       "      <td>684.0</td>\n",
       "      <td>1091</td>\n",
       "    </tr>\n",
       "    <tr>\n",
       "      <th>66</th>\n",
       "      <td>2015</td>\n",
       "      <td>la Vila Olímpica del Poblenou</td>\n",
       "      <td>165.0</td>\n",
       "      <td>166</td>\n",
       "    </tr>\n",
       "    <tr>\n",
       "      <th>100</th>\n",
       "      <td>2016</td>\n",
       "      <td>el Barri Gòtic</td>\n",
       "      <td>785.0</td>\n",
       "      <td>1188</td>\n",
       "    </tr>\n",
       "    <tr>\n",
       "      <th>172</th>\n",
       "      <td>2017</td>\n",
       "      <td>el Barri Gòtic</td>\n",
       "      <td>808.0</td>\n",
       "      <td>1074</td>\n",
       "    </tr>\n",
       "    <tr>\n",
       "      <th>197</th>\n",
       "      <td>2017</td>\n",
       "      <td>la Marina del Prat Vermell</td>\n",
       "      <td>4.0</td>\n",
       "      <td>13</td>\n",
       "    </tr>\n",
       "    <tr>\n",
       "      <th>244</th>\n",
       "      <td>2018</td>\n",
       "      <td>el Barri Gòtic</td>\n",
       "      <td>967.0</td>\n",
       "      <td>1194</td>\n",
       "    </tr>\n",
       "    <tr>\n",
       "      <th>262</th>\n",
       "      <td>2018</td>\n",
       "      <td>la Barceloneta</td>\n",
       "      <td>415.0</td>\n",
       "      <td>419</td>\n",
       "    </tr>\n",
       "    <tr>\n",
       "      <th>269</th>\n",
       "      <td>2018</td>\n",
       "      <td>la Marina del Prat Vermell</td>\n",
       "      <td>3.0</td>\n",
       "      <td>11</td>\n",
       "    </tr>\n",
       "  </tbody>\n",
       "</table>\n",
       "</div>"
      ],
      "text/plain": [
       "     year                          neighbourhood  contract_count  \\\n",
       "18   2015  Sant Pere, Santa Caterina i la Ribera          1014.0   \n",
       "28   2015                         el Barri Gòtic           684.0   \n",
       "66   2015          la Vila Olímpica del Poblenou           165.0   \n",
       "100  2016                         el Barri Gòtic           785.0   \n",
       "172  2017                         el Barri Gòtic           808.0   \n",
       "197  2017             la Marina del Prat Vermell             4.0   \n",
       "244  2018                         el Barri Gòtic           967.0   \n",
       "262  2018                         la Barceloneta           415.0   \n",
       "269  2018             la Marina del Prat Vermell             3.0   \n",
       "\n",
       "     active_listings  \n",
       "18              1111  \n",
       "28              1091  \n",
       "66               166  \n",
       "100             1188  \n",
       "172             1074  \n",
       "197               13  \n",
       "244             1194  \n",
       "262              419  \n",
       "269               11  "
      ]
     },
     "execution_count": 204,
     "metadata": {},
     "output_type": "execute_result"
    }
   ],
   "source": [
    "df_housing[spl]"
   ]
  },
  {
   "cell_type": "code",
   "execution_count": null,
   "metadata": {},
   "outputs": [],
   "source": []
  }
 ],
 "metadata": {
  "kernelspec": {
   "display_name": "Python 3",
   "language": "python",
   "name": "python3"
  },
  "language_info": {
   "codemirror_mode": {
    "name": "ipython",
    "version": 3
   },
   "file_extension": ".py",
   "mimetype": "text/x-python",
   "name": "python",
   "nbconvert_exporter": "python",
   "pygments_lexer": "ipython3",
   "version": "3.6.4"
  }
 },
 "nbformat": 4,
 "nbformat_minor": 2
}
