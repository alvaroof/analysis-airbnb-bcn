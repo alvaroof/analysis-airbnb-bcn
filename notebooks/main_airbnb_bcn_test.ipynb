{
 "cells": [
  {
   "cell_type": "markdown",
   "metadata": {},
   "source": [
    "# Test Script for Airbnb project - Using data from 09 November, 2019 at first, then several snapshots\n",
    "\n",
    "**Author**: Álvaro Ortiz (ortiz.fernandez.alvaro@gmail.com)<br>\n",
    "**Date**: 2019-12-21\n",
    "\n",
    "This is not the main notebook for this project. This notebook is intended to serve as a playground for me, a place where I can test new ideas and write code as I go. To take a look at the actual project and its findings, please head to \n",
    "**airbnb_main_bcn.ipynb**\n",
    "\n",
    "This notebook also serves as a template for the main script, therefore some content is duplicated between these two notebooks."
   ]
  },
  {
   "cell_type": "code",
   "execution_count": 150,
   "metadata": {},
   "outputs": [],
   "source": [
    "import pandas as pd\n",
    "import numpy as np\n",
    "import matplotlib.pyplot as plt\n",
    "import seaborn as sns\n",
    "import os\n",
    "import json\n",
    "\n",
    "\n",
    "%matplotlib notebook"
   ]
  },
  {
   "cell_type": "code",
   "execution_count": 151,
   "metadata": {},
   "outputs": [],
   "source": [
    "from shapely.geometry import Point, Polygon\n",
    "import geopandas as gpd\n",
    "import geojsonio"
   ]
  },
  {
   "cell_type": "code",
   "execution_count": 393,
   "metadata": {},
   "outputs": [],
   "source": [
    "import re"
   ]
  },
  {
   "cell_type": "markdown",
   "metadata": {},
   "source": [
    "# Table of Contents\n",
    "\n",
    "1. Research Questions\n",
    "2. Loading and understanding data\n",
    "3. Data Preparation\n",
    "4. Analysis\n",
    "5. Conclusion"
   ]
  },
  {
   "cell_type": "markdown",
   "metadata": {},
   "source": [
    "# 1. Research Questions\n",
    "\n",
    "The following are some questions we have identified to be of interest and that could potentially be answered by the data\n",
    "\n",
    "* **What percentage of listings might actually be businesses as of last snapshot (Nov 2019)?** Airbnb claims that they offer a platform for the people to share their homes but what if this is not actually true? Hosts listing entire apartments for a long time, or multiple apartments at the same time might be running a business instead of benefiting from the 'sharing' economy.<br>\n",
    "* **Which are the neighborhoods that concentrate the greater number of multiple listings with the same host?** If we accept as truth (because let's not fool ourselves, this is probably the case) that many people run businesses in Airbnb can we identidy which are the most affected neighborhoods? These are the most likely to have housing problems derived from Airbnb activities.\n",
    "* **Has the trend in available listings affected the number of rental contracts signed in Barcelona over the years?** An upward trend in number of listings, and a downward trend in number of rental contracts signed in Barcelona, might be a indicator that there is a housing problem derived from Airbnb activities. The same moment that landlords realize that they can better monetize a whole apartment in Airbnb, rather than renting it to a long-term tenant, the moment we should be seeing a negative effect in available housing, which could be reflected in number of rental contracts."
   ]
  },
  {
   "cell_type": "markdown",
   "metadata": {},
   "source": [
    "# 2. Loading and understanding the data\n",
    "\n",
    "The data essentially comes from the two sources listed in the [README](https://github.com/alvaroof/analysis-airbnb-bcn/blob/master/README.md) file. We will load it and make some exploratory analysis, but be aware that this is not intended to serve as part of the analysis we will conduct to generate the results."
   ]
  },
  {
   "cell_type": "markdown",
   "metadata": {},
   "source": [
    "### Load the Data from [Inside Airbnb](http://insideairbnb.com/) related to Airbnb housing market in Barcelona"
   ]
  },
  {
   "cell_type": "code",
   "execution_count": 152,
   "metadata": {},
   "outputs": [],
   "source": [
    "listings = pd.read_csv('../data/listings_summary_2019_11.csv')\n",
    "# listings_all = pd.read_csv('data/listings.csv')\n",
    "# calendar = pd.read_csv('../data/calendar.csv')\n",
    "reviews = pd.read_csv('../data/reviews_2019_11.csv')\n",
    "neighbourhoods = pd.read_csv('../data/neighbourhoods.csv')"
   ]
  },
  {
   "cell_type": "code",
   "execution_count": 153,
   "metadata": {},
   "outputs": [
    {
     "name": "stdout",
     "output_type": "stream",
     "text": [
      "(20428, 16)\n",
      "(740992, 2)\n",
      "(73, 2)\n"
     ]
    }
   ],
   "source": [
    "print(listings.shape)\n",
    "# print(calendar.shape)\n",
    "# print(listings_all.shape)\n",
    "print(reviews.shape)\n",
    "print(neighbourhoods.shape)"
   ]
  },
  {
   "cell_type": "code",
   "execution_count": 154,
   "metadata": {},
   "outputs": [],
   "source": [
    "gpd_barcelona = gpd.read_file('../data/neighbourhoods.geojson')\n",
    "json_barcelona = gpd_barcelona.to_json()"
   ]
  },
  {
   "cell_type": "markdown",
   "metadata": {},
   "source": [
    "### Load data from [Barcelona's Open Data Portal](https://opendata-ajuntament.barcelona.cat/en/) related to standard housing market (only rentings)"
   ]
  },
  {
   "cell_type": "code",
   "execution_count": 155,
   "metadata": {},
   "outputs": [],
   "source": [
    "cont = pd.DataFrame() # this list contains csv counting number of rented homes in Barcelona for the given period\n",
    "preu = pd.DataFrame() # this list contains csv with the mean price of rented homes in Barcelona for the given period\n",
    "\n",
    "for i,file in enumerate(os.listdir('../data')):\n",
    "    if 'lloguer_cont' in file:\n",
    "        file = os.path.basename(file)\n",
    "        file = '../data/' + file\n",
    "        cont = pd.concat([cont,pd.read_csv(file)])\n",
    "    elif 'lloguer_preu' in file:\n",
    "        file = os.path.basename(file)\n",
    "        file = '../data/' + file\n",
    "        preu = pd.concat([preu,pd.read_csv(file)])\n",
    "        \n",
    "preu = preu.loc[preu['Lloguer_mitja']=='Lloguer mitjà mensual (Euros/mes)'].drop(columns=['Lloguer_mitja'])\n",
    "cont = cont.drop(columns=['Contractes'])\n",
    "\n",
    "cols_to_join = preu.columns[preu.columns != 'Preu'].tolist()\n",
    "\n",
    "housing_info_barcelona = preu.merge(cont, left_on=cols_to_join, right_on=cols_to_join)"
   ]
  },
  {
   "cell_type": "code",
   "execution_count": 156,
   "metadata": {},
   "outputs": [
    {
     "data": {
      "text/html": [
       "<div>\n",
       "<style scoped>\n",
       "    .dataframe tbody tr th:only-of-type {\n",
       "        vertical-align: middle;\n",
       "    }\n",
       "\n",
       "    .dataframe tbody tr th {\n",
       "        vertical-align: top;\n",
       "    }\n",
       "\n",
       "    .dataframe thead th {\n",
       "        text-align: right;\n",
       "    }\n",
       "</style>\n",
       "<table border=\"1\" class=\"dataframe\">\n",
       "  <thead>\n",
       "    <tr style=\"text-align: right;\">\n",
       "      <th></th>\n",
       "      <th>id</th>\n",
       "      <th>name</th>\n",
       "      <th>host_id</th>\n",
       "      <th>host_name</th>\n",
       "      <th>neighbourhood_group</th>\n",
       "      <th>neighbourhood</th>\n",
       "      <th>latitude</th>\n",
       "      <th>longitude</th>\n",
       "      <th>room_type</th>\n",
       "      <th>price</th>\n",
       "      <th>minimum_nights</th>\n",
       "      <th>number_of_reviews</th>\n",
       "      <th>last_review</th>\n",
       "      <th>reviews_per_month</th>\n",
       "      <th>calculated_host_listings_count</th>\n",
       "      <th>availability_365</th>\n",
       "    </tr>\n",
       "  </thead>\n",
       "  <tbody>\n",
       "    <tr>\n",
       "      <th>0</th>\n",
       "      <td>18666</td>\n",
       "      <td>Flat with Sunny Terrace</td>\n",
       "      <td>71615</td>\n",
       "      <td>Mireia And Maria</td>\n",
       "      <td>Sant Martí</td>\n",
       "      <td>el Camp de l'Arpa del Clot</td>\n",
       "      <td>41.40889</td>\n",
       "      <td>2.18555</td>\n",
       "      <td>Entire home/apt</td>\n",
       "      <td>130</td>\n",
       "      <td>3</td>\n",
       "      <td>1</td>\n",
       "      <td>2015-10-10</td>\n",
       "      <td>0.02</td>\n",
       "      <td>30</td>\n",
       "      <td>304</td>\n",
       "    </tr>\n",
       "    <tr>\n",
       "      <th>1</th>\n",
       "      <td>18674</td>\n",
       "      <td>Huge flat for 8 people close to Sagrada Familia</td>\n",
       "      <td>71615</td>\n",
       "      <td>Mireia And Maria</td>\n",
       "      <td>Eixample</td>\n",
       "      <td>la Sagrada Família</td>\n",
       "      <td>41.40420</td>\n",
       "      <td>2.17306</td>\n",
       "      <td>Entire home/apt</td>\n",
       "      <td>60</td>\n",
       "      <td>1</td>\n",
       "      <td>20</td>\n",
       "      <td>2019-10-19</td>\n",
       "      <td>0.25</td>\n",
       "      <td>30</td>\n",
       "      <td>312</td>\n",
       "    </tr>\n",
       "  </tbody>\n",
       "</table>\n",
       "</div>"
      ],
      "text/plain": [
       "      id                                             name  host_id  \\\n",
       "0  18666                          Flat with Sunny Terrace    71615   \n",
       "1  18674  Huge flat for 8 people close to Sagrada Familia    71615   \n",
       "\n",
       "          host_name neighbourhood_group               neighbourhood  latitude  \\\n",
       "0  Mireia And Maria          Sant Martí  el Camp de l'Arpa del Clot  41.40889   \n",
       "1  Mireia And Maria            Eixample          la Sagrada Família  41.40420   \n",
       "\n",
       "   longitude        room_type  price  minimum_nights  number_of_reviews  \\\n",
       "0    2.18555  Entire home/apt    130               3                  1   \n",
       "1    2.17306  Entire home/apt     60               1                 20   \n",
       "\n",
       "  last_review  reviews_per_month  calculated_host_listings_count  \\\n",
       "0  2015-10-10               0.02                              30   \n",
       "1  2019-10-19               0.25                              30   \n",
       "\n",
       "   availability_365  \n",
       "0               304  \n",
       "1               312  "
      ]
     },
     "execution_count": 156,
     "metadata": {},
     "output_type": "execute_result"
    }
   ],
   "source": [
    "listings.head(2)"
   ]
  },
  {
   "cell_type": "code",
   "execution_count": 157,
   "metadata": {},
   "outputs": [
    {
     "data": {
      "text/html": [
       "<div>\n",
       "<style scoped>\n",
       "    .dataframe tbody tr th:only-of-type {\n",
       "        vertical-align: middle;\n",
       "    }\n",
       "\n",
       "    .dataframe tbody tr th {\n",
       "        vertical-align: top;\n",
       "    }\n",
       "\n",
       "    .dataframe thead th {\n",
       "        text-align: right;\n",
       "    }\n",
       "</style>\n",
       "<table border=\"1\" class=\"dataframe\">\n",
       "  <thead>\n",
       "    <tr style=\"text-align: right;\">\n",
       "      <th></th>\n",
       "      <th>neighbourhood_group</th>\n",
       "      <th>neighbourhood</th>\n",
       "    </tr>\n",
       "  </thead>\n",
       "  <tbody>\n",
       "    <tr>\n",
       "      <th>0</th>\n",
       "      <td>Ciutat Vella</td>\n",
       "      <td>el Barri Gòtic</td>\n",
       "    </tr>\n",
       "    <tr>\n",
       "      <th>1</th>\n",
       "      <td>Ciutat Vella</td>\n",
       "      <td>el Raval</td>\n",
       "    </tr>\n",
       "    <tr>\n",
       "      <th>2</th>\n",
       "      <td>Ciutat Vella</td>\n",
       "      <td>la Barceloneta</td>\n",
       "    </tr>\n",
       "    <tr>\n",
       "      <th>3</th>\n",
       "      <td>Ciutat Vella</td>\n",
       "      <td>Sant Pere, Santa Caterina i la Ribera</td>\n",
       "    </tr>\n",
       "    <tr>\n",
       "      <th>4</th>\n",
       "      <td>Eixample</td>\n",
       "      <td>el Fort Pienc</td>\n",
       "    </tr>\n",
       "  </tbody>\n",
       "</table>\n",
       "</div>"
      ],
      "text/plain": [
       "  neighbourhood_group                          neighbourhood\n",
       "0        Ciutat Vella                         el Barri Gòtic\n",
       "1        Ciutat Vella                               el Raval\n",
       "2        Ciutat Vella                         la Barceloneta\n",
       "3        Ciutat Vella  Sant Pere, Santa Caterina i la Ribera\n",
       "4            Eixample                          el Fort Pienc"
      ]
     },
     "execution_count": 157,
     "metadata": {},
     "output_type": "execute_result"
    }
   ],
   "source": [
    "neighbourhoods.head()"
   ]
  },
  {
   "cell_type": "code",
   "execution_count": 158,
   "metadata": {},
   "outputs": [
    {
     "data": {
      "text/html": [
       "<div>\n",
       "<style scoped>\n",
       "    .dataframe tbody tr th:only-of-type {\n",
       "        vertical-align: middle;\n",
       "    }\n",
       "\n",
       "    .dataframe tbody tr th {\n",
       "        vertical-align: top;\n",
       "    }\n",
       "\n",
       "    .dataframe thead th {\n",
       "        text-align: right;\n",
       "    }\n",
       "</style>\n",
       "<table border=\"1\" class=\"dataframe\">\n",
       "  <thead>\n",
       "    <tr style=\"text-align: right;\">\n",
       "      <th></th>\n",
       "      <th>listing_id</th>\n",
       "      <th>date</th>\n",
       "    </tr>\n",
       "  </thead>\n",
       "  <tbody>\n",
       "    <tr>\n",
       "      <th>0</th>\n",
       "      <td>18666</td>\n",
       "      <td>2015-10-10</td>\n",
       "    </tr>\n",
       "    <tr>\n",
       "      <th>1</th>\n",
       "      <td>18674</td>\n",
       "      <td>2013-05-27</td>\n",
       "    </tr>\n",
       "  </tbody>\n",
       "</table>\n",
       "</div>"
      ],
      "text/plain": [
       "   listing_id        date\n",
       "0       18666  2015-10-10\n",
       "1       18674  2013-05-27"
      ]
     },
     "execution_count": 158,
     "metadata": {},
     "output_type": "execute_result"
    }
   ],
   "source": [
    "reviews.head(2)"
   ]
  },
  {
   "cell_type": "markdown",
   "metadata": {},
   "source": [
    "### are the neighbourhoods listed in BCN open data portal and in Airbnb named the same?"
   ]
  },
  {
   "cell_type": "code",
   "execution_count": 159,
   "metadata": {},
   "outputs": [],
   "source": [
    "bcn_districts = set(housing_info_barcelona['Nom_Districte'].unique())"
   ]
  },
  {
   "cell_type": "code",
   "execution_count": 160,
   "metadata": {},
   "outputs": [],
   "source": [
    "airbnb_districs = set(listings['neighbourhood_group'].unique())"
   ]
  },
  {
   "cell_type": "code",
   "execution_count": 161,
   "metadata": {},
   "outputs": [
    {
     "data": {
      "text/plain": [
       "set()"
      ]
     },
     "execution_count": 161,
     "metadata": {},
     "output_type": "execute_result"
    }
   ],
   "source": [
    "bcn_districts.difference(airbnb_districs)"
   ]
  },
  {
   "cell_type": "code",
   "execution_count": 162,
   "metadata": {},
   "outputs": [],
   "source": [
    "bcn_neighbourhoods = set(housing_info_barcelona['Nom_Barri'].unique())"
   ]
  },
  {
   "cell_type": "code",
   "execution_count": 163,
   "metadata": {},
   "outputs": [],
   "source": [
    "airbnb_neighbourhoods = set(listings['neighbourhood'].unique())"
   ]
  },
  {
   "cell_type": "code",
   "execution_count": 164,
   "metadata": {},
   "outputs": [
    {
     "name": "stdout",
     "output_type": "stream",
     "text": [
      "{'la Clota', 'Vallbona'}\n"
     ]
    }
   ],
   "source": [
    "if len(bcn_neighbourhoods) > len(airbnb_neighbourhoods):\n",
    "    print(bcn_neighbourhoods.difference(airbnb_neighbourhoods))\n",
    "elif len(bcn_neighbourhoods) < len(airbnb_neighbourhoods):\n",
    "    print(airbnb_neighbourhoods.difference(bcn_neighbourhoods))"
   ]
  },
  {
   "cell_type": "markdown",
   "metadata": {},
   "source": [
    "Seem that the neighbourhood are correctly mapped in the airbnb data and therefore a comparison with the data provided in the open bcn website can be made. Only two neighborhoods do not appear in airbnb data, lucky them!"
   ]
  },
  {
   "cell_type": "markdown",
   "metadata": {},
   "source": [
    "### Checking that each listing only have one row assigned in the dataset"
   ]
  },
  {
   "cell_type": "code",
   "execution_count": 204,
   "metadata": {},
   "outputs": [
    {
     "data": {
      "text/plain": [
       "True"
      ]
     },
     "execution_count": 204,
     "metadata": {},
     "output_type": "execute_result"
    }
   ],
   "source": [
    "listings['id'].nunique() == listings.shape[0]"
   ]
  },
  {
   "cell_type": "markdown",
   "metadata": {},
   "source": [
    "# 3. Data Preparation"
   ]
  },
  {
   "cell_type": "markdown",
   "metadata": {},
   "source": [
    "## Handle categorical and missing data\n",
    "\n",
    "Probably the most critical aspect of our dataset is having a good, direct relationship between neighborhoods in airbnb data and those officially recognized by the Barcelona City Council. We checked before in this notebook that fortunately that's the case. As we are going to use only descriptive methods to handle our questions no further processing of categorical variables is needed.\n",
    "\n",
    "Let's take a look into missing data instead."
   ]
  },
  {
   "cell_type": "code",
   "execution_count": 165,
   "metadata": {},
   "outputs": [
    {
     "data": {
      "text/plain": [
       "id                                   0\n",
       "name                                15\n",
       "host_id                              0\n",
       "host_name                           17\n",
       "neighbourhood_group                  0\n",
       "neighbourhood                        0\n",
       "latitude                             0\n",
       "longitude                            0\n",
       "room_type                            0\n",
       "price                                0\n",
       "minimum_nights                       0\n",
       "number_of_reviews                    0\n",
       "last_review                       4276\n",
       "reviews_per_month                 4276\n",
       "calculated_host_listings_count       0\n",
       "availability_365                     0\n",
       "dtype: int64"
      ]
     },
     "execution_count": 165,
     "metadata": {},
     "output_type": "execute_result"
    }
   ],
   "source": [
    "listings.isna().sum()"
   ]
  },
  {
   "cell_type": "code",
   "execution_count": 166,
   "metadata": {},
   "outputs": [
    {
     "data": {
      "text/plain": [
       "listing_id    0\n",
       "date          0\n",
       "dtype: int64"
      ]
     },
     "execution_count": 166,
     "metadata": {},
     "output_type": "execute_result"
    }
   ],
   "source": [
    "reviews.isna().sum()"
   ]
  },
  {
   "cell_type": "markdown",
   "metadata": {},
   "source": [
    "As we can see, we do not really care about the missing data in this file. Missing last_reviews and reviews_per_month suggest that given listing does not actually have reviews on the airbnb website. Missing values for **name** and **host_name** might be more worrying, but remember that we are only interested in the listing attributes and the associated **host_id**, which is filled for every listing in the dataset"
   ]
  },
  {
   "cell_type": "markdown",
   "metadata": {},
   "source": [
    "# 4. Analysis"
   ]
  },
  {
   "cell_type": "markdown",
   "metadata": {},
   "source": [
    "## 4.1. What percentage of listings might actually be businesses as of last snapshot?\n",
    "\n",
    "Airbnb claims that they offer a platform for the people to share their homes but what if this is not actually true? Hosts listing entire apartments for a long time, or multiple apartments at the same time might be running a business instead of benefiting from the 'sharing' economy.<br>"
   ]
  },
  {
   "cell_type": "markdown",
   "metadata": {},
   "source": [
    "We are only insterested in studying the active listings. It is possible that some hosts has a multiple listings in the platform but only one is actually being shared/rented. Also, in the sake of being conservative, we will only consider full flats. It is difficult to run a business renting only rooms, and renting only rooms falls under what Airbnb claims they enable people to do in this 'sharing' economy they promote. \n",
    "\n",
    "We therefore define **active listings** as those that have only been rented recently (according to how the do the analysis in Inside Airbnb, those are listings reviewed at least once in the last 6 months), and are being rented regularly (number of nights per year greater than the threshold for that city, as we do not know the number for Barcelona, we will consider 30 days)."
   ]
  },
  {
   "cell_type": "code",
   "execution_count": 191,
   "metadata": {},
   "outputs": [],
   "source": [
    "# We need to also check that they are listing tht have received at least one review in the last 6 months\n",
    "\n",
    "import datetime\n",
    "from dateutil.relativedelta import relativedelta\n",
    "\n",
    "# the function we will pass over the reviews file, to known whether a listing has a review falling in that date range\n",
    "# or not.\n",
    "\n",
    "def review_last_n_months(review_date, snapshot_day=30, snapshot_month=11, snapshot_year=2019, n=6):\n",
    "    # we first define the range from 6 months ago up to snapshot date\n",
    "    if type(review_date) != 'datetime.datetime':\n",
    "        review_date = datetime.datetime.strptime(review_date, '%Y-%m-%d')\n",
    "    snapshot_date = datetime.datetime(day=snapshot_day,month=snapshot_month,year=snapshot_year)\n",
    "    start = snapshot_date + relativedelta(months=-n)\n",
    "    \n",
    "    return(start <= review_date <= snapshot_date)"
   ]
  },
  {
   "cell_type": "code",
   "execution_count": 170,
   "metadata": {},
   "outputs": [],
   "source": [
    "# convert all dates to datetime allows us to later apply the max() in groupby and know which is the latest review by listing\n",
    "\n",
    "reviews['date_revised'] = reviews['date'].map(lambda d: datetime.datetime.strptime(d, '%Y-%m-%d'))"
   ]
  },
  {
   "cell_type": "code",
   "execution_count": 187,
   "metadata": {},
   "outputs": [],
   "source": [
    "## no need, there is already a field called 'last_review' in the dataset\n",
    "last_reviews = reviews.groupby('listing_id').max()['date_revised']"
   ]
  },
  {
   "cell_type": "code",
   "execution_count": 188,
   "metadata": {},
   "outputs": [],
   "source": [
    "last_reviews = last_reviews.map(lambda d: str(d)[0:10])"
   ]
  },
  {
   "cell_type": "code",
   "execution_count": 189,
   "metadata": {},
   "outputs": [
    {
     "data": {
      "text/plain": [
       "listing_id\n",
       "18666       2015-10-10\n",
       "18674       2019-10-19\n",
       "23197       2019-09-29\n",
       "25786       2019-11-06\n",
       "31958       2019-10-16\n",
       "               ...    \n",
       "39790142    2019-11-07\n",
       "39802148    2019-11-03\n",
       "39830187    2019-11-05\n",
       "39864550    2019-11-05\n",
       "39924414    2019-11-08\n",
       "Name: date_revised, Length: 16152, dtype: object"
      ]
     },
     "execution_count": 189,
     "metadata": {},
     "output_type": "execute_result"
    }
   ],
   "source": [
    "last_reviews"
   ]
  },
  {
   "cell_type": "code",
   "execution_count": 218,
   "metadata": {},
   "outputs": [
    {
     "data": {
      "text/plain": [
       "listing_id\n",
       "18666    False\n",
       "18674     True\n",
       "23197     True\n",
       "25786     True\n",
       "31958     True\n",
       "Name: date_revised, dtype: bool"
      ]
     },
     "execution_count": 218,
     "metadata": {},
     "output_type": "execute_result"
    }
   ],
   "source": [
    "last_reviews_within_6_months = last_reviews.map(lambda d: review_last_n_months(d))\n",
    "last_reviews_within_6_months.head()"
   ]
  },
  {
   "cell_type": "code",
   "execution_count": 228,
   "metadata": {},
   "outputs": [
    {
     "data": {
      "text/html": [
       "<div>\n",
       "<style scoped>\n",
       "    .dataframe tbody tr th:only-of-type {\n",
       "        vertical-align: middle;\n",
       "    }\n",
       "\n",
       "    .dataframe tbody tr th {\n",
       "        vertical-align: top;\n",
       "    }\n",
       "\n",
       "    .dataframe thead th {\n",
       "        text-align: right;\n",
       "    }\n",
       "</style>\n",
       "<table border=\"1\" class=\"dataframe\">\n",
       "  <thead>\n",
       "    <tr style=\"text-align: right;\">\n",
       "      <th></th>\n",
       "      <th>listing_id</th>\n",
       "      <th>has_review_six_months</th>\n",
       "    </tr>\n",
       "  </thead>\n",
       "  <tbody>\n",
       "    <tr>\n",
       "      <th>0</th>\n",
       "      <td>18666</td>\n",
       "      <td>False</td>\n",
       "    </tr>\n",
       "    <tr>\n",
       "      <th>1</th>\n",
       "      <td>18674</td>\n",
       "      <td>True</td>\n",
       "    </tr>\n",
       "    <tr>\n",
       "      <th>2</th>\n",
       "      <td>23197</td>\n",
       "      <td>True</td>\n",
       "    </tr>\n",
       "    <tr>\n",
       "      <th>3</th>\n",
       "      <td>25786</td>\n",
       "      <td>True</td>\n",
       "    </tr>\n",
       "    <tr>\n",
       "      <th>4</th>\n",
       "      <td>31958</td>\n",
       "      <td>True</td>\n",
       "    </tr>\n",
       "    <tr>\n",
       "      <th>...</th>\n",
       "      <td>...</td>\n",
       "      <td>...</td>\n",
       "    </tr>\n",
       "    <tr>\n",
       "      <th>16147</th>\n",
       "      <td>39790142</td>\n",
       "      <td>True</td>\n",
       "    </tr>\n",
       "    <tr>\n",
       "      <th>16148</th>\n",
       "      <td>39802148</td>\n",
       "      <td>True</td>\n",
       "    </tr>\n",
       "    <tr>\n",
       "      <th>16149</th>\n",
       "      <td>39830187</td>\n",
       "      <td>True</td>\n",
       "    </tr>\n",
       "    <tr>\n",
       "      <th>16150</th>\n",
       "      <td>39864550</td>\n",
       "      <td>True</td>\n",
       "    </tr>\n",
       "    <tr>\n",
       "      <th>16151</th>\n",
       "      <td>39924414</td>\n",
       "      <td>True</td>\n",
       "    </tr>\n",
       "  </tbody>\n",
       "</table>\n",
       "<p>16152 rows × 2 columns</p>\n",
       "</div>"
      ],
      "text/plain": [
       "       listing_id  has_review_six_months\n",
       "0           18666                  False\n",
       "1           18674                   True\n",
       "2           23197                   True\n",
       "3           25786                   True\n",
       "4           31958                   True\n",
       "...           ...                    ...\n",
       "16147    39790142                   True\n",
       "16148    39802148                   True\n",
       "16149    39830187                   True\n",
       "16150    39864550                   True\n",
       "16151    39924414                   True\n",
       "\n",
       "[16152 rows x 2 columns]"
      ]
     },
     "execution_count": 228,
     "metadata": {},
     "output_type": "execute_result"
    }
   ],
   "source": [
    "pd.DataFrame(last_reviews_within_6_months).reset_index().rename(columns={'date_revised':'has_review_six_months'})"
   ]
  },
  {
   "cell_type": "code",
   "execution_count": 296,
   "metadata": {},
   "outputs": [
    {
     "data": {
      "text/plain": [
       "array([   18674,    23197,    25786, ..., 39830187, 39864550, 39924414],\n",
       "      dtype=int64)"
      ]
     },
     "execution_count": 296,
     "metadata": {},
     "output_type": "execute_result"
    }
   ],
   "source": [
    "tmp = pd.DataFrame(last_reviews_within_6_months).reset_index().rename(columns={'date_revised':'has_review_six_months'}) \n",
    "list_of_active_listings = tmp.loc[tmp['has_review_six_months'] == True].loc[:,'listing_id'].values\n",
    "list_of_active_listings"
   ]
  },
  {
   "cell_type": "code",
   "execution_count": 425,
   "metadata": {},
   "outputs": [
    {
     "data": {
      "text/plain": [
       "13427"
      ]
     },
     "execution_count": 425,
     "metadata": {},
     "output_type": "execute_result"
    }
   ],
   "source": [
    "len(list_of_active_listings)"
   ]
  },
  {
   "cell_type": "code",
   "execution_count": 243,
   "metadata": {},
   "outputs": [
    {
     "data": {
      "text/plain": [
       "Private room       10387\n",
       "Entire home/apt     9268\n",
       "Hotel room           615\n",
       "Shared room          158\n",
       "Name: room_type, dtype: int64"
      ]
     },
     "execution_count": 243,
     "metadata": {},
     "output_type": "execute_result"
    }
   ],
   "source": [
    "# How many entire apartment are for renting. We will consider also hotel rooms, because, well, they are businesses.\n",
    "listings['room_type'].value_counts(dropna=False)"
   ]
  },
  {
   "cell_type": "code",
   "execution_count": 244,
   "metadata": {},
   "outputs": [
    {
     "data": {
      "text/plain": [
       "(9883, 16)"
      ]
     },
     "execution_count": 244,
     "metadata": {},
     "output_type": "execute_result"
    }
   ],
   "source": [
    "active_listings = listings[listings['room_type'].isin(['Entire home/apt','Hotel room'])]\n",
    "active_listings.shape"
   ]
  },
  {
   "cell_type": "code",
   "execution_count": 253,
   "metadata": {},
   "outputs": [],
   "source": [
    "active_listings = active_listings.loc[active_listings.id.isin(list_of_active_listings)]"
   ]
  },
  {
   "cell_type": "code",
   "execution_count": 254,
   "metadata": {},
   "outputs": [
    {
     "name": "stdout",
     "output_type": "stream",
     "text": [
      "We can see that the number of entire apartments/hotel rooms available to rent on Airbnb in Barcelona and that we consider to be active is 6652\n"
     ]
    }
   ],
   "source": [
    "print('We can see that the number of entire apartments/hotel rooms available to rent on Airbnb in Barcelona and that we consider to be active is {}'.format(active_listings.shape[0]))"
   ]
  },
  {
   "cell_type": "markdown",
   "metadata": {},
   "source": [
    "Up to here we have filtered the dataset to obtain the subset of listings that we consider to be active (at least a review in the last six months) and that are either the entire apartment or an hotel room, as they are most likely to belong to a business (Remember that Airbnb claims that they only empower users to share their homes, which technicalyl would mean that either the user rent a room in the same hourse they live in and for a short amount of time; or that they rent the entire apartment/house in the exceptional case that they are travelling).\n",
    "\n",
    "Be that as it may; as we want to be **really conservative** in our estimates, we will go one step further and consider only those listings that belong to host who also have other listings posted on airbnb."
   ]
  },
  {
   "cell_type": "code",
   "execution_count": 255,
   "metadata": {},
   "outputs": [],
   "source": [
    "# Calculate number of different hosts\n",
    "no_active_hosts = active_listings['host_id'].nunique()\n",
    "no_active_listings = active_listings.shape[0]"
   ]
  },
  {
   "cell_type": "code",
   "execution_count": 256,
   "metadata": {},
   "outputs": [
    {
     "name": "stdout",
     "output_type": "stream",
     "text": [
      "There are 2545 different hosts in Barcelona at the time of the snapshot. 09 November, 2019\n"
     ]
    }
   ],
   "source": [
    "print('There are {} different hosts in Barcelona for the listings considered above at the time of the snapshot. 09 November, 2019'.format(no_active_hosts))"
   ]
  },
  {
   "cell_type": "code",
   "execution_count": 33,
   "metadata": {},
   "outputs": [],
   "source": [
    "# listings.drop_duplicates(subset=['host_id','id']).shape"
   ]
  },
  {
   "cell_type": "code",
   "execution_count": 78,
   "metadata": {},
   "outputs": [],
   "source": [
    "# listings[['host_id','id']].drop_duplicates().groupby('host_id').size().hist(bins=100);"
   ]
  },
  {
   "cell_type": "code",
   "execution_count": 257,
   "metadata": {},
   "outputs": [
    {
     "data": {
      "text/plain": [
       "host_id\n",
       "102947901    143\n",
       "4459553      130\n",
       "158023606    110\n",
       "1391607       79\n",
       "32037490      73\n",
       "299462        54\n",
       "396363        50\n",
       "6099660       46\n",
       "10380563      43\n",
       "128959838     42\n",
       "dtype: int64"
      ]
     },
     "execution_count": 257,
     "metadata": {},
     "output_type": "execute_result"
    }
   ],
   "source": [
    "number_listing_per_host = active_listings.groupby('host_id').size().sort_values(ascending=False)\n",
    "number_listing_per_host.head(10)"
   ]
  },
  {
   "cell_type": "markdown",
   "metadata": {},
   "source": [
    "### What percentage of listings the hosts in the top 5% of the list of those owning more listings own?"
   ]
  },
  {
   "cell_type": "code",
   "execution_count": 258,
   "metadata": {},
   "outputs": [],
   "source": [
    "perc5 = int(np.floor(no_active_hosts*0.05))\n",
    "perc5_host = number_listing_per_host.index[0:perc5]\n",
    "perc5_listings = number_listing_per_host.iloc[0:perc5].sum()"
   ]
  },
  {
   "cell_type": "code",
   "execution_count": 261,
   "metadata": {},
   "outputs": [
    {
     "name": "stdout",
     "output_type": "stream",
     "text": [
      "The top 5% hosts own an anything but ridiculous 41.30% of the total active entire apt/hotel room listings\n"
     ]
    }
   ],
   "source": [
    "100*perc5_listings/no_active_listings\n",
    "print('The top 5% hosts own an anything but ridiculous {:2.2f}% of the total active entire apt/hotel room listings'.format(100*perc5_listings/no_active_listings))"
   ]
  },
  {
   "cell_type": "markdown",
   "metadata": {},
   "source": [
    "### How many hosts have more than 1 listing?"
   ]
  },
  {
   "cell_type": "code",
   "execution_count": 262,
   "metadata": {},
   "outputs": [
    {
     "name": "stdout",
     "output_type": "stream",
     "text": [
      "The percentage of hosts that own more than one active listing is 30.49%\n"
     ]
    }
   ],
   "source": [
    "hosts_more_than_one_listing = (number_listing_per_host > 1).sum()\n",
    "print('The percentage of hosts that own more than one active listing is {:2.2f}%'.format(100*hosts_more_than_one_listing/no_active_hosts))"
   ]
  },
  {
   "cell_type": "markdown",
   "metadata": {},
   "source": [
    "### How many of those active entire apt/hotel room listings belong to owners with multiple listings?"
   ]
  },
  {
   "cell_type": "code",
   "execution_count": 283,
   "metadata": {},
   "outputs": [],
   "source": [
    "tmp = number_listing_per_host.reset_index().rename(columns={0:'listings_count'})\n",
    "host_list = tmp.loc[tmp['listings_count']>1,'host_id'].values\n",
    "listing_host_multiple = active_listings.loc[active_listings['host_id'].isin(host_list)]\n",
    "number_listing_host_multiple = listing_host_multiple.loc[:,'id'].nunique()"
   ]
  },
  {
   "cell_type": "code",
   "execution_count": 284,
   "metadata": {},
   "outputs": [
    {
     "name": "stdout",
     "output_type": "stream",
     "text": [
      "And, as we may have anticipated, the percentage of active entire apt/hotel room that belong to hosts with multiple listings is 73.41%\n",
      "This represents 4883 out of 6652 active entire apt/hotel room listings\n"
     ]
    }
   ],
   "source": [
    "print('And, as we may have anticipated, the percentage of active entire apt/hotel room that belong to hosts with multiple listings is {:2.2f}%'.format(100*number_listing_host_multiple/no_active_listings))\n",
    "print('This represents {} out of {} active entire apt/hotel room listings'.format(number_listing_host_multiple, no_active_listings))"
   ]
  },
  {
   "cell_type": "code",
   "execution_count": 285,
   "metadata": {},
   "outputs": [
    {
     "name": "stdout",
     "output_type": "stream",
     "text": [
      "If we want to compare with all the active listings, including also rooms and shared rooms. Then the percentage would be 36.37%\n"
     ]
    }
   ],
   "source": [
    "print('If we want to compare with all the active listings, including also rooms and shared rooms. Then the percentage would be {:2.2f}%'.format(100*number_listing_host_multiple/len(list_of_active_listings)))"
   ]
  },
  {
   "cell_type": "markdown",
   "metadata": {},
   "source": [
    "## 4.2. Which are the neighborhoods that concentrate the greater number of multiple listings with the same host?\n",
    "\n",
    "If we accept as truth (because let's not fool ourselves, this is probably the case) that many people run businesses in Airbnb can we identidy which are the most affected neighborhoods? These are the most likely to have housing problems derived from Airbnb activities.\n",
    "\n",
    "We will take a look both in absolute numbers, and in percentage; but obviously, we could expect the most touristic neighborhoods to be flooded with this kind of businesses, taking advantage of it."
   ]
  },
  {
   "cell_type": "code",
   "execution_count": 300,
   "metadata": {},
   "outputs": [],
   "source": [
    "# This dataset includes all active listings (also room, shared room, etc..)\n",
    "all_active_listings = listings.loc[listings['id'].isin(list_of_active_listings)]"
   ]
  },
  {
   "cell_type": "code",
   "execution_count": 309,
   "metadata": {},
   "outputs": [],
   "source": [
    "all_active_listings_by_neighborhood = all_active_listings.groupby('neighbourhood').size().sort_values(ascending=False)"
   ]
  },
  {
   "cell_type": "code",
   "execution_count": 310,
   "metadata": {},
   "outputs": [],
   "source": [
    "listings_host_multiple_by_neighborhood = listing_host_multiple.groupby('neighbourhood').size().sort_values(ascending=False)"
   ]
  },
  {
   "cell_type": "code",
   "execution_count": 330,
   "metadata": {},
   "outputs": [],
   "source": [
    "comparison_by_neighborhood = pd.DataFrame({'perc_possible_businesses':listings_host_multiple_by_neighborhood/all_active_listings_by_neighborhood,\\\n",
    "                                          'active_listings':all_active_listings_by_neighborhood}).dropna()"
   ]
  },
  {
   "cell_type": "code",
   "execution_count": 333,
   "metadata": {},
   "outputs": [
    {
     "data": {
      "text/html": [
       "<div>\n",
       "<style scoped>\n",
       "    .dataframe tbody tr th:only-of-type {\n",
       "        vertical-align: middle;\n",
       "    }\n",
       "\n",
       "    .dataframe tbody tr th {\n",
       "        vertical-align: top;\n",
       "    }\n",
       "\n",
       "    .dataframe thead th {\n",
       "        text-align: right;\n",
       "    }\n",
       "</style>\n",
       "<table border=\"1\" class=\"dataframe\">\n",
       "  <thead>\n",
       "    <tr style=\"text-align: right;\">\n",
       "      <th></th>\n",
       "      <th>perc_possible_businesses</th>\n",
       "      <th>active_listings</th>\n",
       "    </tr>\n",
       "  </thead>\n",
       "  <tbody>\n",
       "    <tr>\n",
       "      <th>la Dreta de l'Eixample</th>\n",
       "      <td>0.622058</td>\n",
       "      <td>1487</td>\n",
       "    </tr>\n",
       "    <tr>\n",
       "      <th>el Raval</th>\n",
       "      <td>0.233653</td>\n",
       "      <td>1147</td>\n",
       "    </tr>\n",
       "    <tr>\n",
       "      <th>el Barri Gòtic</th>\n",
       "      <td>0.233216</td>\n",
       "      <td>849</td>\n",
       "    </tr>\n",
       "    <tr>\n",
       "      <th>Sant Pere, Santa Caterina i la Ribera</th>\n",
       "      <td>0.282776</td>\n",
       "      <td>778</td>\n",
       "    </tr>\n",
       "    <tr>\n",
       "      <th>el Poble Sec</th>\n",
       "      <td>0.409814</td>\n",
       "      <td>754</td>\n",
       "    </tr>\n",
       "    <tr>\n",
       "      <th>la Sagrada Família</th>\n",
       "      <td>0.489305</td>\n",
       "      <td>748</td>\n",
       "    </tr>\n",
       "    <tr>\n",
       "      <th>l'Antiga Esquerra de l'Eixample</th>\n",
       "      <td>0.437500</td>\n",
       "      <td>736</td>\n",
       "    </tr>\n",
       "    <tr>\n",
       "      <th>la Vila de Gràcia</th>\n",
       "      <td>0.484463</td>\n",
       "      <td>708</td>\n",
       "    </tr>\n",
       "    <tr>\n",
       "      <th>Sant Antoni</th>\n",
       "      <td>0.382646</td>\n",
       "      <td>703</td>\n",
       "    </tr>\n",
       "    <tr>\n",
       "      <th>la Nova Esquerra de l'Eixample</th>\n",
       "      <td>0.274411</td>\n",
       "      <td>594</td>\n",
       "    </tr>\n",
       "  </tbody>\n",
       "</table>\n",
       "</div>"
      ],
      "text/plain": [
       "                                       perc_possible_businesses  \\\n",
       "la Dreta de l'Eixample                                 0.622058   \n",
       "el Raval                                               0.233653   \n",
       "el Barri Gòtic                                         0.233216   \n",
       "Sant Pere, Santa Caterina i la Ribera                  0.282776   \n",
       "el Poble Sec                                           0.409814   \n",
       "la Sagrada Família                                     0.489305   \n",
       "l'Antiga Esquerra de l'Eixample                        0.437500   \n",
       "la Vila de Gràcia                                      0.484463   \n",
       "Sant Antoni                                            0.382646   \n",
       "la Nova Esquerra de l'Eixample                         0.274411   \n",
       "\n",
       "                                       active_listings  \n",
       "la Dreta de l'Eixample                            1487  \n",
       "el Raval                                          1147  \n",
       "el Barri Gòtic                                     849  \n",
       "Sant Pere, Santa Caterina i la Ribera              778  \n",
       "el Poble Sec                                       754  \n",
       "la Sagrada Família                                 748  \n",
       "l'Antiga Esquerra de l'Eixample                    736  \n",
       "la Vila de Gràcia                                  708  \n",
       "Sant Antoni                                        703  \n",
       "la Nova Esquerra de l'Eixample                     594  "
      ]
     },
     "execution_count": 333,
     "metadata": {},
     "output_type": "execute_result"
    }
   ],
   "source": [
    "comparison_by_neighborhood.sort_values(by='active_listings', ascending=False).head(10)"
   ]
  },
  {
   "cell_type": "code",
   "execution_count": 332,
   "metadata": {},
   "outputs": [
    {
     "data": {
      "application/javascript": [
       "/* Put everything inside the global mpl namespace */\n",
       "window.mpl = {};\n",
       "\n",
       "\n",
       "mpl.get_websocket_type = function() {\n",
       "    if (typeof(WebSocket) !== 'undefined') {\n",
       "        return WebSocket;\n",
       "    } else if (typeof(MozWebSocket) !== 'undefined') {\n",
       "        return MozWebSocket;\n",
       "    } else {\n",
       "        alert('Your browser does not have WebSocket support.' +\n",
       "              'Please try Chrome, Safari or Firefox ≥ 6. ' +\n",
       "              'Firefox 4 and 5 are also supported but you ' +\n",
       "              'have to enable WebSockets in about:config.');\n",
       "    };\n",
       "}\n",
       "\n",
       "mpl.figure = function(figure_id, websocket, ondownload, parent_element) {\n",
       "    this.id = figure_id;\n",
       "\n",
       "    this.ws = websocket;\n",
       "\n",
       "    this.supports_binary = (this.ws.binaryType != undefined);\n",
       "\n",
       "    if (!this.supports_binary) {\n",
       "        var warnings = document.getElementById(\"mpl-warnings\");\n",
       "        if (warnings) {\n",
       "            warnings.style.display = 'block';\n",
       "            warnings.textContent = (\n",
       "                \"This browser does not support binary websocket messages. \" +\n",
       "                    \"Performance may be slow.\");\n",
       "        }\n",
       "    }\n",
       "\n",
       "    this.imageObj = new Image();\n",
       "\n",
       "    this.context = undefined;\n",
       "    this.message = undefined;\n",
       "    this.canvas = undefined;\n",
       "    this.rubberband_canvas = undefined;\n",
       "    this.rubberband_context = undefined;\n",
       "    this.format_dropdown = undefined;\n",
       "\n",
       "    this.image_mode = 'full';\n",
       "\n",
       "    this.root = $('<div/>');\n",
       "    this._root_extra_style(this.root)\n",
       "    this.root.attr('style', 'display: inline-block');\n",
       "\n",
       "    $(parent_element).append(this.root);\n",
       "\n",
       "    this._init_header(this);\n",
       "    this._init_canvas(this);\n",
       "    this._init_toolbar(this);\n",
       "\n",
       "    var fig = this;\n",
       "\n",
       "    this.waiting = false;\n",
       "\n",
       "    this.ws.onopen =  function () {\n",
       "            fig.send_message(\"supports_binary\", {value: fig.supports_binary});\n",
       "            fig.send_message(\"send_image_mode\", {});\n",
       "            if (mpl.ratio != 1) {\n",
       "                fig.send_message(\"set_dpi_ratio\", {'dpi_ratio': mpl.ratio});\n",
       "            }\n",
       "            fig.send_message(\"refresh\", {});\n",
       "        }\n",
       "\n",
       "    this.imageObj.onload = function() {\n",
       "            if (fig.image_mode == 'full') {\n",
       "                // Full images could contain transparency (where diff images\n",
       "                // almost always do), so we need to clear the canvas so that\n",
       "                // there is no ghosting.\n",
       "                fig.context.clearRect(0, 0, fig.canvas.width, fig.canvas.height);\n",
       "            }\n",
       "            fig.context.drawImage(fig.imageObj, 0, 0);\n",
       "        };\n",
       "\n",
       "    this.imageObj.onunload = function() {\n",
       "        fig.ws.close();\n",
       "    }\n",
       "\n",
       "    this.ws.onmessage = this._make_on_message_function(this);\n",
       "\n",
       "    this.ondownload = ondownload;\n",
       "}\n",
       "\n",
       "mpl.figure.prototype._init_header = function() {\n",
       "    var titlebar = $(\n",
       "        '<div class=\"ui-dialog-titlebar ui-widget-header ui-corner-all ' +\n",
       "        'ui-helper-clearfix\"/>');\n",
       "    var titletext = $(\n",
       "        '<div class=\"ui-dialog-title\" style=\"width: 100%; ' +\n",
       "        'text-align: center; padding: 3px;\"/>');\n",
       "    titlebar.append(titletext)\n",
       "    this.root.append(titlebar);\n",
       "    this.header = titletext[0];\n",
       "}\n",
       "\n",
       "\n",
       "\n",
       "mpl.figure.prototype._canvas_extra_style = function(canvas_div) {\n",
       "\n",
       "}\n",
       "\n",
       "\n",
       "mpl.figure.prototype._root_extra_style = function(canvas_div) {\n",
       "\n",
       "}\n",
       "\n",
       "mpl.figure.prototype._init_canvas = function() {\n",
       "    var fig = this;\n",
       "\n",
       "    var canvas_div = $('<div/>');\n",
       "\n",
       "    canvas_div.attr('style', 'position: relative; clear: both; outline: 0');\n",
       "\n",
       "    function canvas_keyboard_event(event) {\n",
       "        return fig.key_event(event, event['data']);\n",
       "    }\n",
       "\n",
       "    canvas_div.keydown('key_press', canvas_keyboard_event);\n",
       "    canvas_div.keyup('key_release', canvas_keyboard_event);\n",
       "    this.canvas_div = canvas_div\n",
       "    this._canvas_extra_style(canvas_div)\n",
       "    this.root.append(canvas_div);\n",
       "\n",
       "    var canvas = $('<canvas/>');\n",
       "    canvas.addClass('mpl-canvas');\n",
       "    canvas.attr('style', \"left: 0; top: 0; z-index: 0; outline: 0\")\n",
       "\n",
       "    this.canvas = canvas[0];\n",
       "    this.context = canvas[0].getContext(\"2d\");\n",
       "\n",
       "    var backingStore = this.context.backingStorePixelRatio ||\n",
       "\tthis.context.webkitBackingStorePixelRatio ||\n",
       "\tthis.context.mozBackingStorePixelRatio ||\n",
       "\tthis.context.msBackingStorePixelRatio ||\n",
       "\tthis.context.oBackingStorePixelRatio ||\n",
       "\tthis.context.backingStorePixelRatio || 1;\n",
       "\n",
       "    mpl.ratio = (window.devicePixelRatio || 1) / backingStore;\n",
       "\n",
       "    var rubberband = $('<canvas/>');\n",
       "    rubberband.attr('style', \"position: absolute; left: 0; top: 0; z-index: 1;\")\n",
       "\n",
       "    var pass_mouse_events = true;\n",
       "\n",
       "    canvas_div.resizable({\n",
       "        start: function(event, ui) {\n",
       "            pass_mouse_events = false;\n",
       "        },\n",
       "        resize: function(event, ui) {\n",
       "            fig.request_resize(ui.size.width, ui.size.height);\n",
       "        },\n",
       "        stop: function(event, ui) {\n",
       "            pass_mouse_events = true;\n",
       "            fig.request_resize(ui.size.width, ui.size.height);\n",
       "        },\n",
       "    });\n",
       "\n",
       "    function mouse_event_fn(event) {\n",
       "        if (pass_mouse_events)\n",
       "            return fig.mouse_event(event, event['data']);\n",
       "    }\n",
       "\n",
       "    rubberband.mousedown('button_press', mouse_event_fn);\n",
       "    rubberband.mouseup('button_release', mouse_event_fn);\n",
       "    // Throttle sequential mouse events to 1 every 20ms.\n",
       "    rubberband.mousemove('motion_notify', mouse_event_fn);\n",
       "\n",
       "    rubberband.mouseenter('figure_enter', mouse_event_fn);\n",
       "    rubberband.mouseleave('figure_leave', mouse_event_fn);\n",
       "\n",
       "    canvas_div.on(\"wheel\", function (event) {\n",
       "        event = event.originalEvent;\n",
       "        event['data'] = 'scroll'\n",
       "        if (event.deltaY < 0) {\n",
       "            event.step = 1;\n",
       "        } else {\n",
       "            event.step = -1;\n",
       "        }\n",
       "        mouse_event_fn(event);\n",
       "    });\n",
       "\n",
       "    canvas_div.append(canvas);\n",
       "    canvas_div.append(rubberband);\n",
       "\n",
       "    this.rubberband = rubberband;\n",
       "    this.rubberband_canvas = rubberband[0];\n",
       "    this.rubberband_context = rubberband[0].getContext(\"2d\");\n",
       "    this.rubberband_context.strokeStyle = \"#000000\";\n",
       "\n",
       "    this._resize_canvas = function(width, height) {\n",
       "        // Keep the size of the canvas, canvas container, and rubber band\n",
       "        // canvas in synch.\n",
       "        canvas_div.css('width', width)\n",
       "        canvas_div.css('height', height)\n",
       "\n",
       "        canvas.attr('width', width * mpl.ratio);\n",
       "        canvas.attr('height', height * mpl.ratio);\n",
       "        canvas.attr('style', 'width: ' + width + 'px; height: ' + height + 'px;');\n",
       "\n",
       "        rubberband.attr('width', width);\n",
       "        rubberband.attr('height', height);\n",
       "    }\n",
       "\n",
       "    // Set the figure to an initial 600x600px, this will subsequently be updated\n",
       "    // upon first draw.\n",
       "    this._resize_canvas(600, 600);\n",
       "\n",
       "    // Disable right mouse context menu.\n",
       "    $(this.rubberband_canvas).bind(\"contextmenu\",function(e){\n",
       "        return false;\n",
       "    });\n",
       "\n",
       "    function set_focus () {\n",
       "        canvas.focus();\n",
       "        canvas_div.focus();\n",
       "    }\n",
       "\n",
       "    window.setTimeout(set_focus, 100);\n",
       "}\n",
       "\n",
       "mpl.figure.prototype._init_toolbar = function() {\n",
       "    var fig = this;\n",
       "\n",
       "    var nav_element = $('<div/>')\n",
       "    nav_element.attr('style', 'width: 100%');\n",
       "    this.root.append(nav_element);\n",
       "\n",
       "    // Define a callback function for later on.\n",
       "    function toolbar_event(event) {\n",
       "        return fig.toolbar_button_onclick(event['data']);\n",
       "    }\n",
       "    function toolbar_mouse_event(event) {\n",
       "        return fig.toolbar_button_onmouseover(event['data']);\n",
       "    }\n",
       "\n",
       "    for(var toolbar_ind in mpl.toolbar_items) {\n",
       "        var name = mpl.toolbar_items[toolbar_ind][0];\n",
       "        var tooltip = mpl.toolbar_items[toolbar_ind][1];\n",
       "        var image = mpl.toolbar_items[toolbar_ind][2];\n",
       "        var method_name = mpl.toolbar_items[toolbar_ind][3];\n",
       "\n",
       "        if (!name) {\n",
       "            // put a spacer in here.\n",
       "            continue;\n",
       "        }\n",
       "        var button = $('<button/>');\n",
       "        button.addClass('ui-button ui-widget ui-state-default ui-corner-all ' +\n",
       "                        'ui-button-icon-only');\n",
       "        button.attr('role', 'button');\n",
       "        button.attr('aria-disabled', 'false');\n",
       "        button.click(method_name, toolbar_event);\n",
       "        button.mouseover(tooltip, toolbar_mouse_event);\n",
       "\n",
       "        var icon_img = $('<span/>');\n",
       "        icon_img.addClass('ui-button-icon-primary ui-icon');\n",
       "        icon_img.addClass(image);\n",
       "        icon_img.addClass('ui-corner-all');\n",
       "\n",
       "        var tooltip_span = $('<span/>');\n",
       "        tooltip_span.addClass('ui-button-text');\n",
       "        tooltip_span.html(tooltip);\n",
       "\n",
       "        button.append(icon_img);\n",
       "        button.append(tooltip_span);\n",
       "\n",
       "        nav_element.append(button);\n",
       "    }\n",
       "\n",
       "    var fmt_picker_span = $('<span/>');\n",
       "\n",
       "    var fmt_picker = $('<select/>');\n",
       "    fmt_picker.addClass('mpl-toolbar-option ui-widget ui-widget-content');\n",
       "    fmt_picker_span.append(fmt_picker);\n",
       "    nav_element.append(fmt_picker_span);\n",
       "    this.format_dropdown = fmt_picker[0];\n",
       "\n",
       "    for (var ind in mpl.extensions) {\n",
       "        var fmt = mpl.extensions[ind];\n",
       "        var option = $(\n",
       "            '<option/>', {selected: fmt === mpl.default_extension}).html(fmt);\n",
       "        fmt_picker.append(option)\n",
       "    }\n",
       "\n",
       "    // Add hover states to the ui-buttons\n",
       "    $( \".ui-button\" ).hover(\n",
       "        function() { $(this).addClass(\"ui-state-hover\");},\n",
       "        function() { $(this).removeClass(\"ui-state-hover\");}\n",
       "    );\n",
       "\n",
       "    var status_bar = $('<span class=\"mpl-message\"/>');\n",
       "    nav_element.append(status_bar);\n",
       "    this.message = status_bar[0];\n",
       "}\n",
       "\n",
       "mpl.figure.prototype.request_resize = function(x_pixels, y_pixels) {\n",
       "    // Request matplotlib to resize the figure. Matplotlib will then trigger a resize in the client,\n",
       "    // which will in turn request a refresh of the image.\n",
       "    this.send_message('resize', {'width': x_pixels, 'height': y_pixels});\n",
       "}\n",
       "\n",
       "mpl.figure.prototype.send_message = function(type, properties) {\n",
       "    properties['type'] = type;\n",
       "    properties['figure_id'] = this.id;\n",
       "    this.ws.send(JSON.stringify(properties));\n",
       "}\n",
       "\n",
       "mpl.figure.prototype.send_draw_message = function() {\n",
       "    if (!this.waiting) {\n",
       "        this.waiting = true;\n",
       "        this.ws.send(JSON.stringify({type: \"draw\", figure_id: this.id}));\n",
       "    }\n",
       "}\n",
       "\n",
       "\n",
       "mpl.figure.prototype.handle_save = function(fig, msg) {\n",
       "    var format_dropdown = fig.format_dropdown;\n",
       "    var format = format_dropdown.options[format_dropdown.selectedIndex].value;\n",
       "    fig.ondownload(fig, format);\n",
       "}\n",
       "\n",
       "\n",
       "mpl.figure.prototype.handle_resize = function(fig, msg) {\n",
       "    var size = msg['size'];\n",
       "    if (size[0] != fig.canvas.width || size[1] != fig.canvas.height) {\n",
       "        fig._resize_canvas(size[0], size[1]);\n",
       "        fig.send_message(\"refresh\", {});\n",
       "    };\n",
       "}\n",
       "\n",
       "mpl.figure.prototype.handle_rubberband = function(fig, msg) {\n",
       "    var x0 = msg['x0'] / mpl.ratio;\n",
       "    var y0 = (fig.canvas.height - msg['y0']) / mpl.ratio;\n",
       "    var x1 = msg['x1'] / mpl.ratio;\n",
       "    var y1 = (fig.canvas.height - msg['y1']) / mpl.ratio;\n",
       "    x0 = Math.floor(x0) + 0.5;\n",
       "    y0 = Math.floor(y0) + 0.5;\n",
       "    x1 = Math.floor(x1) + 0.5;\n",
       "    y1 = Math.floor(y1) + 0.5;\n",
       "    var min_x = Math.min(x0, x1);\n",
       "    var min_y = Math.min(y0, y1);\n",
       "    var width = Math.abs(x1 - x0);\n",
       "    var height = Math.abs(y1 - y0);\n",
       "\n",
       "    fig.rubberband_context.clearRect(\n",
       "        0, 0, fig.canvas.width, fig.canvas.height);\n",
       "\n",
       "    fig.rubberband_context.strokeRect(min_x, min_y, width, height);\n",
       "}\n",
       "\n",
       "mpl.figure.prototype.handle_figure_label = function(fig, msg) {\n",
       "    // Updates the figure title.\n",
       "    fig.header.textContent = msg['label'];\n",
       "}\n",
       "\n",
       "mpl.figure.prototype.handle_cursor = function(fig, msg) {\n",
       "    var cursor = msg['cursor'];\n",
       "    switch(cursor)\n",
       "    {\n",
       "    case 0:\n",
       "        cursor = 'pointer';\n",
       "        break;\n",
       "    case 1:\n",
       "        cursor = 'default';\n",
       "        break;\n",
       "    case 2:\n",
       "        cursor = 'crosshair';\n",
       "        break;\n",
       "    case 3:\n",
       "        cursor = 'move';\n",
       "        break;\n",
       "    }\n",
       "    fig.rubberband_canvas.style.cursor = cursor;\n",
       "}\n",
       "\n",
       "mpl.figure.prototype.handle_message = function(fig, msg) {\n",
       "    fig.message.textContent = msg['message'];\n",
       "}\n",
       "\n",
       "mpl.figure.prototype.handle_draw = function(fig, msg) {\n",
       "    // Request the server to send over a new figure.\n",
       "    fig.send_draw_message();\n",
       "}\n",
       "\n",
       "mpl.figure.prototype.handle_image_mode = function(fig, msg) {\n",
       "    fig.image_mode = msg['mode'];\n",
       "}\n",
       "\n",
       "mpl.figure.prototype.updated_canvas_event = function() {\n",
       "    // Called whenever the canvas gets updated.\n",
       "    this.send_message(\"ack\", {});\n",
       "}\n",
       "\n",
       "// A function to construct a web socket function for onmessage handling.\n",
       "// Called in the figure constructor.\n",
       "mpl.figure.prototype._make_on_message_function = function(fig) {\n",
       "    return function socket_on_message(evt) {\n",
       "        if (evt.data instanceof Blob) {\n",
       "            /* FIXME: We get \"Resource interpreted as Image but\n",
       "             * transferred with MIME type text/plain:\" errors on\n",
       "             * Chrome.  But how to set the MIME type?  It doesn't seem\n",
       "             * to be part of the websocket stream */\n",
       "            evt.data.type = \"image/png\";\n",
       "\n",
       "            /* Free the memory for the previous frames */\n",
       "            if (fig.imageObj.src) {\n",
       "                (window.URL || window.webkitURL).revokeObjectURL(\n",
       "                    fig.imageObj.src);\n",
       "            }\n",
       "\n",
       "            fig.imageObj.src = (window.URL || window.webkitURL).createObjectURL(\n",
       "                evt.data);\n",
       "            fig.updated_canvas_event();\n",
       "            fig.waiting = false;\n",
       "            return;\n",
       "        }\n",
       "        else if (typeof evt.data === 'string' && evt.data.slice(0, 21) == \"data:image/png;base64\") {\n",
       "            fig.imageObj.src = evt.data;\n",
       "            fig.updated_canvas_event();\n",
       "            fig.waiting = false;\n",
       "            return;\n",
       "        }\n",
       "\n",
       "        var msg = JSON.parse(evt.data);\n",
       "        var msg_type = msg['type'];\n",
       "\n",
       "        // Call the  \"handle_{type}\" callback, which takes\n",
       "        // the figure and JSON message as its only arguments.\n",
       "        try {\n",
       "            var callback = fig[\"handle_\" + msg_type];\n",
       "        } catch (e) {\n",
       "            console.log(\"No handler for the '\" + msg_type + \"' message type: \", msg);\n",
       "            return;\n",
       "        }\n",
       "\n",
       "        if (callback) {\n",
       "            try {\n",
       "                // console.log(\"Handling '\" + msg_type + \"' message: \", msg);\n",
       "                callback(fig, msg);\n",
       "            } catch (e) {\n",
       "                console.log(\"Exception inside the 'handler_\" + msg_type + \"' callback:\", e, e.stack, msg);\n",
       "            }\n",
       "        }\n",
       "    };\n",
       "}\n",
       "\n",
       "// from http://stackoverflow.com/questions/1114465/getting-mouse-location-in-canvas\n",
       "mpl.findpos = function(e) {\n",
       "    //this section is from http://www.quirksmode.org/js/events_properties.html\n",
       "    var targ;\n",
       "    if (!e)\n",
       "        e = window.event;\n",
       "    if (e.target)\n",
       "        targ = e.target;\n",
       "    else if (e.srcElement)\n",
       "        targ = e.srcElement;\n",
       "    if (targ.nodeType == 3) // defeat Safari bug\n",
       "        targ = targ.parentNode;\n",
       "\n",
       "    // jQuery normalizes the pageX and pageY\n",
       "    // pageX,Y are the mouse positions relative to the document\n",
       "    // offset() returns the position of the element relative to the document\n",
       "    var x = e.pageX - $(targ).offset().left;\n",
       "    var y = e.pageY - $(targ).offset().top;\n",
       "\n",
       "    return {\"x\": x, \"y\": y};\n",
       "};\n",
       "\n",
       "/*\n",
       " * return a copy of an object with only non-object keys\n",
       " * we need this to avoid circular references\n",
       " * http://stackoverflow.com/a/24161582/3208463\n",
       " */\n",
       "function simpleKeys (original) {\n",
       "  return Object.keys(original).reduce(function (obj, key) {\n",
       "    if (typeof original[key] !== 'object')\n",
       "        obj[key] = original[key]\n",
       "    return obj;\n",
       "  }, {});\n",
       "}\n",
       "\n",
       "mpl.figure.prototype.mouse_event = function(event, name) {\n",
       "    var canvas_pos = mpl.findpos(event)\n",
       "\n",
       "    if (name === 'button_press')\n",
       "    {\n",
       "        this.canvas.focus();\n",
       "        this.canvas_div.focus();\n",
       "    }\n",
       "\n",
       "    var x = canvas_pos.x * mpl.ratio;\n",
       "    var y = canvas_pos.y * mpl.ratio;\n",
       "\n",
       "    this.send_message(name, {x: x, y: y, button: event.button,\n",
       "                             step: event.step,\n",
       "                             guiEvent: simpleKeys(event)});\n",
       "\n",
       "    /* This prevents the web browser from automatically changing to\n",
       "     * the text insertion cursor when the button is pressed.  We want\n",
       "     * to control all of the cursor setting manually through the\n",
       "     * 'cursor' event from matplotlib */\n",
       "    event.preventDefault();\n",
       "    return false;\n",
       "}\n",
       "\n",
       "mpl.figure.prototype._key_event_extra = function(event, name) {\n",
       "    // Handle any extra behaviour associated with a key event\n",
       "}\n",
       "\n",
       "mpl.figure.prototype.key_event = function(event, name) {\n",
       "\n",
       "    // Prevent repeat events\n",
       "    if (name == 'key_press')\n",
       "    {\n",
       "        if (event.which === this._key)\n",
       "            return;\n",
       "        else\n",
       "            this._key = event.which;\n",
       "    }\n",
       "    if (name == 'key_release')\n",
       "        this._key = null;\n",
       "\n",
       "    var value = '';\n",
       "    if (event.ctrlKey && event.which != 17)\n",
       "        value += \"ctrl+\";\n",
       "    if (event.altKey && event.which != 18)\n",
       "        value += \"alt+\";\n",
       "    if (event.shiftKey && event.which != 16)\n",
       "        value += \"shift+\";\n",
       "\n",
       "    value += 'k';\n",
       "    value += event.which.toString();\n",
       "\n",
       "    this._key_event_extra(event, name);\n",
       "\n",
       "    this.send_message(name, {key: value,\n",
       "                             guiEvent: simpleKeys(event)});\n",
       "    return false;\n",
       "}\n",
       "\n",
       "mpl.figure.prototype.toolbar_button_onclick = function(name) {\n",
       "    if (name == 'download') {\n",
       "        this.handle_save(this, null);\n",
       "    } else {\n",
       "        this.send_message(\"toolbar_button\", {name: name});\n",
       "    }\n",
       "};\n",
       "\n",
       "mpl.figure.prototype.toolbar_button_onmouseover = function(tooltip) {\n",
       "    this.message.textContent = tooltip;\n",
       "};\n",
       "mpl.toolbar_items = [[\"Home\", \"Reset original view\", \"fa fa-home icon-home\", \"home\"], [\"Back\", \"Back to  previous view\", \"fa fa-arrow-left icon-arrow-left\", \"back\"], [\"Forward\", \"Forward to next view\", \"fa fa-arrow-right icon-arrow-right\", \"forward\"], [\"\", \"\", \"\", \"\"], [\"Pan\", \"Pan axes with left mouse, zoom with right\", \"fa fa-arrows icon-move\", \"pan\"], [\"Zoom\", \"Zoom to rectangle\", \"fa fa-square-o icon-check-empty\", \"zoom\"], [\"\", \"\", \"\", \"\"], [\"Download\", \"Download plot\", \"fa fa-floppy-o icon-save\", \"download\"]];\n",
       "\n",
       "mpl.extensions = [\"eps\", \"jpeg\", \"pdf\", \"png\", \"ps\", \"raw\", \"svg\", \"tif\"];\n",
       "\n",
       "mpl.default_extension = \"png\";var comm_websocket_adapter = function(comm) {\n",
       "    // Create a \"websocket\"-like object which calls the given IPython comm\n",
       "    // object with the appropriate methods. Currently this is a non binary\n",
       "    // socket, so there is still some room for performance tuning.\n",
       "    var ws = {};\n",
       "\n",
       "    ws.close = function() {\n",
       "        comm.close()\n",
       "    };\n",
       "    ws.send = function(m) {\n",
       "        //console.log('sending', m);\n",
       "        comm.send(m);\n",
       "    };\n",
       "    // Register the callback with on_msg.\n",
       "    comm.on_msg(function(msg) {\n",
       "        //console.log('receiving', msg['content']['data'], msg);\n",
       "        // Pass the mpl event to the overriden (by mpl) onmessage function.\n",
       "        ws.onmessage(msg['content']['data'])\n",
       "    });\n",
       "    return ws;\n",
       "}\n",
       "\n",
       "mpl.mpl_figure_comm = function(comm, msg) {\n",
       "    // This is the function which gets called when the mpl process\n",
       "    // starts-up an IPython Comm through the \"matplotlib\" channel.\n",
       "\n",
       "    var id = msg.content.data.id;\n",
       "    // Get hold of the div created by the display call when the Comm\n",
       "    // socket was opened in Python.\n",
       "    var element = $(\"#\" + id);\n",
       "    var ws_proxy = comm_websocket_adapter(comm)\n",
       "\n",
       "    function ondownload(figure, format) {\n",
       "        window.open(figure.imageObj.src);\n",
       "    }\n",
       "\n",
       "    var fig = new mpl.figure(id, ws_proxy,\n",
       "                           ondownload,\n",
       "                           element.get(0));\n",
       "\n",
       "    // Call onopen now - mpl needs it, as it is assuming we've passed it a real\n",
       "    // web socket which is closed, not our websocket->open comm proxy.\n",
       "    ws_proxy.onopen();\n",
       "\n",
       "    fig.parent_element = element.get(0);\n",
       "    fig.cell_info = mpl.find_output_cell(\"<div id='\" + id + \"'></div>\");\n",
       "    if (!fig.cell_info) {\n",
       "        console.error(\"Failed to find cell for figure\", id, fig);\n",
       "        return;\n",
       "    }\n",
       "\n",
       "    var output_index = fig.cell_info[2]\n",
       "    var cell = fig.cell_info[0];\n",
       "\n",
       "};\n",
       "\n",
       "mpl.figure.prototype.handle_close = function(fig, msg) {\n",
       "    var width = fig.canvas.width/mpl.ratio\n",
       "    fig.root.unbind('remove')\n",
       "\n",
       "    // Update the output cell to use the data from the current canvas.\n",
       "    fig.push_to_output();\n",
       "    var dataURL = fig.canvas.toDataURL();\n",
       "    // Re-enable the keyboard manager in IPython - without this line, in FF,\n",
       "    // the notebook keyboard shortcuts fail.\n",
       "    IPython.keyboard_manager.enable()\n",
       "    $(fig.parent_element).html('<img src=\"' + dataURL + '\" width=\"' + width + '\">');\n",
       "    fig.close_ws(fig, msg);\n",
       "}\n",
       "\n",
       "mpl.figure.prototype.close_ws = function(fig, msg){\n",
       "    fig.send_message('closing', msg);\n",
       "    // fig.ws.close()\n",
       "}\n",
       "\n",
       "mpl.figure.prototype.push_to_output = function(remove_interactive) {\n",
       "    // Turn the data on the canvas into data in the output cell.\n",
       "    var width = this.canvas.width/mpl.ratio\n",
       "    var dataURL = this.canvas.toDataURL();\n",
       "    this.cell_info[1]['text/html'] = '<img src=\"' + dataURL + '\" width=\"' + width + '\">';\n",
       "}\n",
       "\n",
       "mpl.figure.prototype.updated_canvas_event = function() {\n",
       "    // Tell IPython that the notebook contents must change.\n",
       "    IPython.notebook.set_dirty(true);\n",
       "    this.send_message(\"ack\", {});\n",
       "    var fig = this;\n",
       "    // Wait a second, then push the new image to the DOM so\n",
       "    // that it is saved nicely (might be nice to debounce this).\n",
       "    setTimeout(function () { fig.push_to_output() }, 1000);\n",
       "}\n",
       "\n",
       "mpl.figure.prototype._init_toolbar = function() {\n",
       "    var fig = this;\n",
       "\n",
       "    var nav_element = $('<div/>')\n",
       "    nav_element.attr('style', 'width: 100%');\n",
       "    this.root.append(nav_element);\n",
       "\n",
       "    // Define a callback function for later on.\n",
       "    function toolbar_event(event) {\n",
       "        return fig.toolbar_button_onclick(event['data']);\n",
       "    }\n",
       "    function toolbar_mouse_event(event) {\n",
       "        return fig.toolbar_button_onmouseover(event['data']);\n",
       "    }\n",
       "\n",
       "    for(var toolbar_ind in mpl.toolbar_items){\n",
       "        var name = mpl.toolbar_items[toolbar_ind][0];\n",
       "        var tooltip = mpl.toolbar_items[toolbar_ind][1];\n",
       "        var image = mpl.toolbar_items[toolbar_ind][2];\n",
       "        var method_name = mpl.toolbar_items[toolbar_ind][3];\n",
       "\n",
       "        if (!name) { continue; };\n",
       "\n",
       "        var button = $('<button class=\"btn btn-default\" href=\"#\" title=\"' + name + '\"><i class=\"fa ' + image + ' fa-lg\"></i></button>');\n",
       "        button.click(method_name, toolbar_event);\n",
       "        button.mouseover(tooltip, toolbar_mouse_event);\n",
       "        nav_element.append(button);\n",
       "    }\n",
       "\n",
       "    // Add the status bar.\n",
       "    var status_bar = $('<span class=\"mpl-message\" style=\"text-align:right; float: right;\"/>');\n",
       "    nav_element.append(status_bar);\n",
       "    this.message = status_bar[0];\n",
       "\n",
       "    // Add the close button to the window.\n",
       "    var buttongrp = $('<div class=\"btn-group inline pull-right\"></div>');\n",
       "    var button = $('<button class=\"btn btn-mini btn-primary\" href=\"#\" title=\"Stop Interaction\"><i class=\"fa fa-power-off icon-remove icon-large\"></i></button>');\n",
       "    button.click(function (evt) { fig.handle_close(fig, {}); } );\n",
       "    button.mouseover('Stop Interaction', toolbar_mouse_event);\n",
       "    buttongrp.append(button);\n",
       "    var titlebar = this.root.find($('.ui-dialog-titlebar'));\n",
       "    titlebar.prepend(buttongrp);\n",
       "}\n",
       "\n",
       "mpl.figure.prototype._root_extra_style = function(el){\n",
       "    var fig = this\n",
       "    el.on(\"remove\", function(){\n",
       "\tfig.close_ws(fig, {});\n",
       "    });\n",
       "}\n",
       "\n",
       "mpl.figure.prototype._canvas_extra_style = function(el){\n",
       "    // this is important to make the div 'focusable\n",
       "    el.attr('tabindex', 0)\n",
       "    // reach out to IPython and tell the keyboard manager to turn it's self\n",
       "    // off when our div gets focus\n",
       "\n",
       "    // location in version 3\n",
       "    if (IPython.notebook.keyboard_manager) {\n",
       "        IPython.notebook.keyboard_manager.register_events(el);\n",
       "    }\n",
       "    else {\n",
       "        // location in version 2\n",
       "        IPython.keyboard_manager.register_events(el);\n",
       "    }\n",
       "\n",
       "}\n",
       "\n",
       "mpl.figure.prototype._key_event_extra = function(event, name) {\n",
       "    var manager = IPython.notebook.keyboard_manager;\n",
       "    if (!manager)\n",
       "        manager = IPython.keyboard_manager;\n",
       "\n",
       "    // Check for shift+enter\n",
       "    if (event.shiftKey && event.which == 13) {\n",
       "        this.canvas_div.blur();\n",
       "        event.shiftKey = false;\n",
       "        // Send a \"J\" for go to next cell\n",
       "        event.which = 74;\n",
       "        event.keyCode = 74;\n",
       "        manager.command_mode();\n",
       "        manager.handle_keydown(event);\n",
       "    }\n",
       "}\n",
       "\n",
       "mpl.figure.prototype.handle_save = function(fig, msg) {\n",
       "    fig.ondownload(fig, null);\n",
       "}\n",
       "\n",
       "\n",
       "mpl.find_output_cell = function(html_output) {\n",
       "    // Return the cell and output element which can be found *uniquely* in the notebook.\n",
       "    // Note - this is a bit hacky, but it is done because the \"notebook_saving.Notebook\"\n",
       "    // IPython event is triggered only after the cells have been serialised, which for\n",
       "    // our purposes (turning an active figure into a static one), is too late.\n",
       "    var cells = IPython.notebook.get_cells();\n",
       "    var ncells = cells.length;\n",
       "    for (var i=0; i<ncells; i++) {\n",
       "        var cell = cells[i];\n",
       "        if (cell.cell_type === 'code'){\n",
       "            for (var j=0; j<cell.output_area.outputs.length; j++) {\n",
       "                var data = cell.output_area.outputs[j];\n",
       "                if (data.data) {\n",
       "                    // IPython >= 3 moved mimebundle to data attribute of output\n",
       "                    data = data.data;\n",
       "                }\n",
       "                if (data['text/html'] == html_output) {\n",
       "                    return [cell, data, j];\n",
       "                }\n",
       "            }\n",
       "        }\n",
       "    }\n",
       "}\n",
       "\n",
       "// Register the function which deals with the matplotlib target/channel.\n",
       "// The kernel may be null if the page has been refreshed.\n",
       "if (IPython.notebook.kernel != null) {\n",
       "    IPython.notebook.kernel.comm_manager.register_target('matplotlib', mpl.mpl_figure_comm);\n",
       "}\n"
      ],
      "text/plain": [
       "<IPython.core.display.Javascript object>"
      ]
     },
     "metadata": {},
     "output_type": "display_data"
    },
    {
     "data": {
      "text/html": [
       "<img src=\"data:image/png;base64,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\" width=\"640\">"
      ],
      "text/plain": [
       "<IPython.core.display.HTML object>"
      ]
     },
     "metadata": {},
     "output_type": "display_data"
    },
    {
     "data": {
      "text/plain": [
       "<matplotlib.axes._subplots.AxesSubplot at 0x1fb43ecacc0>"
      ]
     },
     "execution_count": 332,
     "metadata": {},
     "output_type": "execute_result"
    }
   ],
   "source": [
    "comparison_by_neighborhood['perc_possible_businesses'].hist()"
   ]
  },
  {
   "cell_type": "markdown",
   "metadata": {},
   "source": [
    "### Let's visualize this on a Map \n",
    "\n",
    "https://www.twilio.com/blog/2017/08/geospatial-analysis-python-geojson-geopandas.html\n",
    "https://geojson.org/\n",
    "\n",
    "**IMPORTANT**: it was impossible to display the content of the geojson using geojsonio.display() because it is no longer possible to create anonymous gists in github. Following the the workaround described in https://stackoverflow.com/questions/50192549/display-in-geojsonio-gives-401-error was necessary. Yes, it means modifying the geojsonio.display() code locally in your installation...\n",
    "\n",
    "You can find the resulting map from this visualization in this [blog post](https://medium.com/@ortiz.fernandez.alvaro/this-data-about-airbnb-will-make-you-rethink-what-it-is-doing-to-your-city-1318576ba5c4). I am commenting out all the code here so that it does not affect the notebook in case you want to run it from top to bottom."
   ]
  },
  {
   "cell_type": "code",
   "execution_count": null,
   "metadata": {},
   "outputs": [],
   "source": [
    "# gpd_barcelona = gpd.read_file('../data/neighbourhoods.geojson')"
   ]
  },
  {
   "cell_type": "code",
   "execution_count": 348,
   "metadata": {},
   "outputs": [],
   "source": [
    "# # It is possible to fill the polygons with color declaring a new field in the geo-pandas named 'fill'\n",
    "# # we will make it dependant of the percentage of listings that are 'probable businesses'\n",
    "\n",
    "# # we first define a color palette with 5 shades of red -- \n",
    "# color_palette = ['#ffbaba','#ff7b7b','#ff5252','#ff0000','#a70000']\n",
    "\n",
    "# maximum = comparison_by_neighborhood['perc_possible_businesses'].max()\n",
    "# minimum = comparison_by_neighborhood['perc_possible_businesses'].min()\n",
    "# step = (maximum - minimum)/5\n",
    "# rng = [minimum, minimum+step, minimum+2*step,minimum+3*step, minimum+4*step,  minimum+5*step]\n",
    "\n",
    "# def assign_color(value, color_palette, rng):\n",
    "#     if value <= rng[1]:\n",
    "#         return(color_palette[0])\n",
    "#     elif rng[1] < value <= rng[2]:\n",
    "#         return(color_palette[1])\n",
    "#     elif rng[2] < value <= rng[3]:\n",
    "#         return(color_palette[2])\n",
    "#     elif rng[3] < value <= rng[4]:\n",
    "#         return(color_palette[3])\n",
    "#     elif rng[4] < value <= rng[5]:\n",
    "#         return(color_palette[4])"
   ]
  },
  {
   "cell_type": "code",
   "execution_count": 354,
   "metadata": {},
   "outputs": [],
   "source": [
    "# comparison_by_neighborhood['fill'] = comparison_by_neighborhood['perc_possible_businesses'] \\\n",
    "# .map(lambda p: assign_color(p, color_palette = color_palette, rng = rng))"
   ]
  },
  {
   "cell_type": "code",
   "execution_count": 383,
   "metadata": {},
   "outputs": [],
   "source": [
    "# comparison_by_neighborhood_w_fill = comparison_by_neighborhood.reset_index().rename(columns={'index':'neighbourhood'}).loc[:,['neighbourhood','fill']]"
   ]
  },
  {
   "cell_type": "code",
   "execution_count": 385,
   "metadata": {},
   "outputs": [],
   "source": [
    "# # now we update the pandas object with the color filling\n",
    "# gpd_barcelona_w_fill = gpd_barcelona.merge(comparison_by_neighborhood_w_fill, how = 'left',left_on='neighbourhood', right_on='neighbourhood')"
   ]
  },
  {
   "cell_type": "code",
   "execution_count": 386,
   "metadata": {},
   "outputs": [
    {
     "data": {
      "text/plain": [
       "'http://geojson.io/#id=gist:/bb80810ee0e596f46cfc3ce21e0303ed'"
      ]
     },
     "execution_count": 386,
     "metadata": {},
     "output_type": "execute_result"
    }
   ],
   "source": [
    "# json_barcelona = gpd_barcelona_w_fill.to_json()\n",
    "# geojsonio.display(json_barcelona)"
   ]
  },
  {
   "cell_type": "markdown",
   "metadata": {},
   "source": [
    "## 4.3. Has the trend in available listings affected the number of rental contracts signed in Barcelona over the years?\n",
    "\n",
    "An upward trend in number of listings, and a downward trend in number of rental contracts signed in Barcelona, might be a indicator that there is a housing problem derived from Airbnb activities. The same moment that landlords realize that they can better monetize a whole apartment in Airbnb, rather than renting it to a long-term tenant, the moment we should be seeing a negative effect in available housing, which could be reflected in number of rental contracts.\n",
    "\n",
    "We have downloaded many different snapshots of the [data](https://github.com/alvaroof/analysis-airbnb-bcn/tree/master/data) for airbnb listings in Barcelona, and will compare them with the quarterly data for the number of rental contrats obtained from the Barcelona's City Council Open Data portal."
   ]
  },
  {
   "cell_type": "code",
   "execution_count": 480,
   "metadata": {},
   "outputs": [],
   "source": [
    "# we will need to iterate over all the files named 'listing_summary_XXXX_XX.csv' and generate an aggregated dataset from\n",
    "# them. this dataset will count the number of active listings per snapshot\n",
    "\n",
    "listings_all_years = pd.DataFrame()\n",
    "\n",
    "for i,file in enumerate(os.listdir('../data')):\n",
    "    if 'listings_summary' in file:\n",
    "        snapshot_extract = re.search('(\\d{4})_(\\d{2})', file, re.IGNORECASE)\n",
    "        year = int(snapshot_extract.group(1))\n",
    "        month = int(snapshot_extract.group(2))\n",
    "        day = 30\n",
    "        file = os.path.basename(file)\n",
    "        file = '../data/' + file\n",
    "        df = pd.read_csv(file)\n",
    "        # remove those without reviews from the beginning\n",
    "        df = df[~df['last_review'].isnull()]\n",
    "        # check which listings are still active (last review less than 6 months ago)\n",
    "        df['is_active'] = df['last_review'].map(lambda d: review_last_n_months(str(d)[0:10],snapshot_day=day, snapshot_month=month, snapshot_year=year, n=6))\n",
    "        # filter those listings\n",
    "        df = df.loc[df['is_active']]\n",
    "        #add additional fields for year and quarter to df, so that it can be compared to housing_info_barcelona                                         \n",
    "        df['quarter'] = pd.Timestamp(datetime.date(year, month, day)).quarter\n",
    "        df['year'] = year\n",
    "        #finally append it to the previous one\n",
    "        listings_all_years = pd.concat([listings_all_years,df])                                       "
   ]
  },
  {
   "cell_type": "code",
   "execution_count": 481,
   "metadata": {},
   "outputs": [],
   "source": [
    "listings_all_years = pd.DataFrame(listings_all_years.groupby(['year','quarter']).size()).rename(columns={0:'active_listings'})\n",
    "listings_all_years = listings_all_years.reset_index()"
   ]
  },
  {
   "cell_type": "code",
   "execution_count": 482,
   "metadata": {},
   "outputs": [],
   "source": [
    "housing_info_barcelona_to_merge = housing_info_barcelona.rename(columns={'Any':'year','Trimestre':'quarter'}).groupby(['year','quarter']).sum().reset_index()"
   ]
  },
  {
   "cell_type": "code",
   "execution_count": 483,
   "metadata": {},
   "outputs": [],
   "source": [
    "housing_effect = housing_info_barcelona_to_merge.merge(listings_all_years, how='outer', left_on=['year','quarter'], right_on = ['year','quarter'])\n",
    "housing_effect = housing_effect[['year','quarter','Nombre','active_listings']].rename(columns={'Nombre':'rental_contracts'})"
   ]
  },
  {
   "cell_type": "code",
   "execution_count": 484,
   "metadata": {},
   "outputs": [
    {
     "data": {
      "text/html": [
       "<div>\n",
       "<style scoped>\n",
       "    .dataframe tbody tr th:only-of-type {\n",
       "        vertical-align: middle;\n",
       "    }\n",
       "\n",
       "    .dataframe tbody tr th {\n",
       "        vertical-align: top;\n",
       "    }\n",
       "\n",
       "    .dataframe thead th {\n",
       "        text-align: right;\n",
       "    }\n",
       "</style>\n",
       "<table border=\"1\" class=\"dataframe\">\n",
       "  <thead>\n",
       "    <tr style=\"text-align: right;\">\n",
       "      <th></th>\n",
       "      <th>year</th>\n",
       "      <th>quarter</th>\n",
       "      <th>rental_contracts</th>\n",
       "      <th>active_listings</th>\n",
       "    </tr>\n",
       "  </thead>\n",
       "  <tbody>\n",
       "    <tr>\n",
       "      <th>0</th>\n",
       "      <td>2014</td>\n",
       "      <td>1</td>\n",
       "      <td>9063.0</td>\n",
       "      <td>NaN</td>\n",
       "    </tr>\n",
       "    <tr>\n",
       "      <th>1</th>\n",
       "      <td>2014</td>\n",
       "      <td>2</td>\n",
       "      <td>9896.0</td>\n",
       "      <td>NaN</td>\n",
       "    </tr>\n",
       "    <tr>\n",
       "      <th>2</th>\n",
       "      <td>2014</td>\n",
       "      <td>3</td>\n",
       "      <td>10606.0</td>\n",
       "      <td>NaN</td>\n",
       "    </tr>\n",
       "    <tr>\n",
       "      <th>3</th>\n",
       "      <td>2014</td>\n",
       "      <td>4</td>\n",
       "      <td>10103.0</td>\n",
       "      <td>NaN</td>\n",
       "    </tr>\n",
       "    <tr>\n",
       "      <th>4</th>\n",
       "      <td>2015</td>\n",
       "      <td>1</td>\n",
       "      <td>8329.0</td>\n",
       "      <td>NaN</td>\n",
       "    </tr>\n",
       "    <tr>\n",
       "      <th>5</th>\n",
       "      <td>2015</td>\n",
       "      <td>2</td>\n",
       "      <td>9275.0</td>\n",
       "      <td>7087.0</td>\n",
       "    </tr>\n",
       "    <tr>\n",
       "      <th>6</th>\n",
       "      <td>2015</td>\n",
       "      <td>3</td>\n",
       "      <td>9443.0</td>\n",
       "      <td>10962.0</td>\n",
       "    </tr>\n",
       "    <tr>\n",
       "      <th>7</th>\n",
       "      <td>2015</td>\n",
       "      <td>4</td>\n",
       "      <td>10991.0</td>\n",
       "      <td>11106.0</td>\n",
       "    </tr>\n",
       "    <tr>\n",
       "      <th>8</th>\n",
       "      <td>2016</td>\n",
       "      <td>1</td>\n",
       "      <td>9682.0</td>\n",
       "      <td>9801.0</td>\n",
       "    </tr>\n",
       "    <tr>\n",
       "      <th>9</th>\n",
       "      <td>2016</td>\n",
       "      <td>2</td>\n",
       "      <td>9725.0</td>\n",
       "      <td>NaN</td>\n",
       "    </tr>\n",
       "    <tr>\n",
       "      <th>10</th>\n",
       "      <td>2016</td>\n",
       "      <td>3</td>\n",
       "      <td>10422.0</td>\n",
       "      <td>NaN</td>\n",
       "    </tr>\n",
       "    <tr>\n",
       "      <th>11</th>\n",
       "      <td>2016</td>\n",
       "      <td>4</td>\n",
       "      <td>10799.0</td>\n",
       "      <td>12571.0</td>\n",
       "    </tr>\n",
       "    <tr>\n",
       "      <th>12</th>\n",
       "      <td>2017</td>\n",
       "      <td>1</td>\n",
       "      <td>10716.0</td>\n",
       "      <td>11041.0</td>\n",
       "    </tr>\n",
       "    <tr>\n",
       "      <th>13</th>\n",
       "      <td>2017</td>\n",
       "      <td>2</td>\n",
       "      <td>11552.0</td>\n",
       "      <td>12374.0</td>\n",
       "    </tr>\n",
       "    <tr>\n",
       "      <th>14</th>\n",
       "      <td>2017</td>\n",
       "      <td>3</td>\n",
       "      <td>11732.0</td>\n",
       "      <td>13336.0</td>\n",
       "    </tr>\n",
       "    <tr>\n",
       "      <th>15</th>\n",
       "      <td>2017</td>\n",
       "      <td>4</td>\n",
       "      <td>13326.0</td>\n",
       "      <td>12458.0</td>\n",
       "    </tr>\n",
       "    <tr>\n",
       "      <th>16</th>\n",
       "      <td>2018</td>\n",
       "      <td>1</td>\n",
       "      <td>12652.0</td>\n",
       "      <td>12432.0</td>\n",
       "    </tr>\n",
       "    <tr>\n",
       "      <th>17</th>\n",
       "      <td>2018</td>\n",
       "      <td>2</td>\n",
       "      <td>13263.0</td>\n",
       "      <td>11340.0</td>\n",
       "    </tr>\n",
       "    <tr>\n",
       "      <th>18</th>\n",
       "      <td>2018</td>\n",
       "      <td>3</td>\n",
       "      <td>12865.0</td>\n",
       "      <td>12778.0</td>\n",
       "    </tr>\n",
       "    <tr>\n",
       "      <th>19</th>\n",
       "      <td>2018</td>\n",
       "      <td>4</td>\n",
       "      <td>13201.0</td>\n",
       "      <td>11997.0</td>\n",
       "    </tr>\n",
       "    <tr>\n",
       "      <th>20</th>\n",
       "      <td>2019</td>\n",
       "      <td>1</td>\n",
       "      <td>NaN</td>\n",
       "      <td>10593.0</td>\n",
       "    </tr>\n",
       "    <tr>\n",
       "      <th>21</th>\n",
       "      <td>2019</td>\n",
       "      <td>2</td>\n",
       "      <td>NaN</td>\n",
       "      <td>11603.0</td>\n",
       "    </tr>\n",
       "    <tr>\n",
       "      <th>22</th>\n",
       "      <td>2019</td>\n",
       "      <td>3</td>\n",
       "      <td>NaN</td>\n",
       "      <td>13491.0</td>\n",
       "    </tr>\n",
       "    <tr>\n",
       "      <th>23</th>\n",
       "      <td>2019</td>\n",
       "      <td>4</td>\n",
       "      <td>NaN</td>\n",
       "      <td>13426.0</td>\n",
       "    </tr>\n",
       "  </tbody>\n",
       "</table>\n",
       "</div>"
      ],
      "text/plain": [
       "    year  quarter  rental_contracts  active_listings\n",
       "0   2014        1            9063.0              NaN\n",
       "1   2014        2            9896.0              NaN\n",
       "2   2014        3           10606.0              NaN\n",
       "3   2014        4           10103.0              NaN\n",
       "4   2015        1            8329.0              NaN\n",
       "5   2015        2            9275.0           7087.0\n",
       "6   2015        3            9443.0          10962.0\n",
       "7   2015        4           10991.0          11106.0\n",
       "8   2016        1            9682.0           9801.0\n",
       "9   2016        2            9725.0              NaN\n",
       "10  2016        3           10422.0              NaN\n",
       "11  2016        4           10799.0          12571.0\n",
       "12  2017        1           10716.0          11041.0\n",
       "13  2017        2           11552.0          12374.0\n",
       "14  2017        3           11732.0          13336.0\n",
       "15  2017        4           13326.0          12458.0\n",
       "16  2018        1           12652.0          12432.0\n",
       "17  2018        2           13263.0          11340.0\n",
       "18  2018        3           12865.0          12778.0\n",
       "19  2018        4           13201.0          11997.0\n",
       "20  2019        1               NaN          10593.0\n",
       "21  2019        2               NaN          11603.0\n",
       "22  2019        3               NaN          13491.0\n",
       "23  2019        4               NaN          13426.0"
      ]
     },
     "execution_count": 484,
     "metadata": {},
     "output_type": "execute_result"
    }
   ],
   "source": [
    "housing_effect"
   ]
  },
  {
   "cell_type": "code",
   "execution_count": 485,
   "metadata": {},
   "outputs": [
    {
     "data": {
      "application/javascript": [
       "/* Put everything inside the global mpl namespace */\n",
       "window.mpl = {};\n",
       "\n",
       "\n",
       "mpl.get_websocket_type = function() {\n",
       "    if (typeof(WebSocket) !== 'undefined') {\n",
       "        return WebSocket;\n",
       "    } else if (typeof(MozWebSocket) !== 'undefined') {\n",
       "        return MozWebSocket;\n",
       "    } else {\n",
       "        alert('Your browser does not have WebSocket support.' +\n",
       "              'Please try Chrome, Safari or Firefox ≥ 6. ' +\n",
       "              'Firefox 4 and 5 are also supported but you ' +\n",
       "              'have to enable WebSockets in about:config.');\n",
       "    };\n",
       "}\n",
       "\n",
       "mpl.figure = function(figure_id, websocket, ondownload, parent_element) {\n",
       "    this.id = figure_id;\n",
       "\n",
       "    this.ws = websocket;\n",
       "\n",
       "    this.supports_binary = (this.ws.binaryType != undefined);\n",
       "\n",
       "    if (!this.supports_binary) {\n",
       "        var warnings = document.getElementById(\"mpl-warnings\");\n",
       "        if (warnings) {\n",
       "            warnings.style.display = 'block';\n",
       "            warnings.textContent = (\n",
       "                \"This browser does not support binary websocket messages. \" +\n",
       "                    \"Performance may be slow.\");\n",
       "        }\n",
       "    }\n",
       "\n",
       "    this.imageObj = new Image();\n",
       "\n",
       "    this.context = undefined;\n",
       "    this.message = undefined;\n",
       "    this.canvas = undefined;\n",
       "    this.rubberband_canvas = undefined;\n",
       "    this.rubberband_context = undefined;\n",
       "    this.format_dropdown = undefined;\n",
       "\n",
       "    this.image_mode = 'full';\n",
       "\n",
       "    this.root = $('<div/>');\n",
       "    this._root_extra_style(this.root)\n",
       "    this.root.attr('style', 'display: inline-block');\n",
       "\n",
       "    $(parent_element).append(this.root);\n",
       "\n",
       "    this._init_header(this);\n",
       "    this._init_canvas(this);\n",
       "    this._init_toolbar(this);\n",
       "\n",
       "    var fig = this;\n",
       "\n",
       "    this.waiting = false;\n",
       "\n",
       "    this.ws.onopen =  function () {\n",
       "            fig.send_message(\"supports_binary\", {value: fig.supports_binary});\n",
       "            fig.send_message(\"send_image_mode\", {});\n",
       "            if (mpl.ratio != 1) {\n",
       "                fig.send_message(\"set_dpi_ratio\", {'dpi_ratio': mpl.ratio});\n",
       "            }\n",
       "            fig.send_message(\"refresh\", {});\n",
       "        }\n",
       "\n",
       "    this.imageObj.onload = function() {\n",
       "            if (fig.image_mode == 'full') {\n",
       "                // Full images could contain transparency (where diff images\n",
       "                // almost always do), so we need to clear the canvas so that\n",
       "                // there is no ghosting.\n",
       "                fig.context.clearRect(0, 0, fig.canvas.width, fig.canvas.height);\n",
       "            }\n",
       "            fig.context.drawImage(fig.imageObj, 0, 0);\n",
       "        };\n",
       "\n",
       "    this.imageObj.onunload = function() {\n",
       "        fig.ws.close();\n",
       "    }\n",
       "\n",
       "    this.ws.onmessage = this._make_on_message_function(this);\n",
       "\n",
       "    this.ondownload = ondownload;\n",
       "}\n",
       "\n",
       "mpl.figure.prototype._init_header = function() {\n",
       "    var titlebar = $(\n",
       "        '<div class=\"ui-dialog-titlebar ui-widget-header ui-corner-all ' +\n",
       "        'ui-helper-clearfix\"/>');\n",
       "    var titletext = $(\n",
       "        '<div class=\"ui-dialog-title\" style=\"width: 100%; ' +\n",
       "        'text-align: center; padding: 3px;\"/>');\n",
       "    titlebar.append(titletext)\n",
       "    this.root.append(titlebar);\n",
       "    this.header = titletext[0];\n",
       "}\n",
       "\n",
       "\n",
       "\n",
       "mpl.figure.prototype._canvas_extra_style = function(canvas_div) {\n",
       "\n",
       "}\n",
       "\n",
       "\n",
       "mpl.figure.prototype._root_extra_style = function(canvas_div) {\n",
       "\n",
       "}\n",
       "\n",
       "mpl.figure.prototype._init_canvas = function() {\n",
       "    var fig = this;\n",
       "\n",
       "    var canvas_div = $('<div/>');\n",
       "\n",
       "    canvas_div.attr('style', 'position: relative; clear: both; outline: 0');\n",
       "\n",
       "    function canvas_keyboard_event(event) {\n",
       "        return fig.key_event(event, event['data']);\n",
       "    }\n",
       "\n",
       "    canvas_div.keydown('key_press', canvas_keyboard_event);\n",
       "    canvas_div.keyup('key_release', canvas_keyboard_event);\n",
       "    this.canvas_div = canvas_div\n",
       "    this._canvas_extra_style(canvas_div)\n",
       "    this.root.append(canvas_div);\n",
       "\n",
       "    var canvas = $('<canvas/>');\n",
       "    canvas.addClass('mpl-canvas');\n",
       "    canvas.attr('style', \"left: 0; top: 0; z-index: 0; outline: 0\")\n",
       "\n",
       "    this.canvas = canvas[0];\n",
       "    this.context = canvas[0].getContext(\"2d\");\n",
       "\n",
       "    var backingStore = this.context.backingStorePixelRatio ||\n",
       "\tthis.context.webkitBackingStorePixelRatio ||\n",
       "\tthis.context.mozBackingStorePixelRatio ||\n",
       "\tthis.context.msBackingStorePixelRatio ||\n",
       "\tthis.context.oBackingStorePixelRatio ||\n",
       "\tthis.context.backingStorePixelRatio || 1;\n",
       "\n",
       "    mpl.ratio = (window.devicePixelRatio || 1) / backingStore;\n",
       "\n",
       "    var rubberband = $('<canvas/>');\n",
       "    rubberband.attr('style', \"position: absolute; left: 0; top: 0; z-index: 1;\")\n",
       "\n",
       "    var pass_mouse_events = true;\n",
       "\n",
       "    canvas_div.resizable({\n",
       "        start: function(event, ui) {\n",
       "            pass_mouse_events = false;\n",
       "        },\n",
       "        resize: function(event, ui) {\n",
       "            fig.request_resize(ui.size.width, ui.size.height);\n",
       "        },\n",
       "        stop: function(event, ui) {\n",
       "            pass_mouse_events = true;\n",
       "            fig.request_resize(ui.size.width, ui.size.height);\n",
       "        },\n",
       "    });\n",
       "\n",
       "    function mouse_event_fn(event) {\n",
       "        if (pass_mouse_events)\n",
       "            return fig.mouse_event(event, event['data']);\n",
       "    }\n",
       "\n",
       "    rubberband.mousedown('button_press', mouse_event_fn);\n",
       "    rubberband.mouseup('button_release', mouse_event_fn);\n",
       "    // Throttle sequential mouse events to 1 every 20ms.\n",
       "    rubberband.mousemove('motion_notify', mouse_event_fn);\n",
       "\n",
       "    rubberband.mouseenter('figure_enter', mouse_event_fn);\n",
       "    rubberband.mouseleave('figure_leave', mouse_event_fn);\n",
       "\n",
       "    canvas_div.on(\"wheel\", function (event) {\n",
       "        event = event.originalEvent;\n",
       "        event['data'] = 'scroll'\n",
       "        if (event.deltaY < 0) {\n",
       "            event.step = 1;\n",
       "        } else {\n",
       "            event.step = -1;\n",
       "        }\n",
       "        mouse_event_fn(event);\n",
       "    });\n",
       "\n",
       "    canvas_div.append(canvas);\n",
       "    canvas_div.append(rubberband);\n",
       "\n",
       "    this.rubberband = rubberband;\n",
       "    this.rubberband_canvas = rubberband[0];\n",
       "    this.rubberband_context = rubberband[0].getContext(\"2d\");\n",
       "    this.rubberband_context.strokeStyle = \"#000000\";\n",
       "\n",
       "    this._resize_canvas = function(width, height) {\n",
       "        // Keep the size of the canvas, canvas container, and rubber band\n",
       "        // canvas in synch.\n",
       "        canvas_div.css('width', width)\n",
       "        canvas_div.css('height', height)\n",
       "\n",
       "        canvas.attr('width', width * mpl.ratio);\n",
       "        canvas.attr('height', height * mpl.ratio);\n",
       "        canvas.attr('style', 'width: ' + width + 'px; height: ' + height + 'px;');\n",
       "\n",
       "        rubberband.attr('width', width);\n",
       "        rubberband.attr('height', height);\n",
       "    }\n",
       "\n",
       "    // Set the figure to an initial 600x600px, this will subsequently be updated\n",
       "    // upon first draw.\n",
       "    this._resize_canvas(600, 600);\n",
       "\n",
       "    // Disable right mouse context menu.\n",
       "    $(this.rubberband_canvas).bind(\"contextmenu\",function(e){\n",
       "        return false;\n",
       "    });\n",
       "\n",
       "    function set_focus () {\n",
       "        canvas.focus();\n",
       "        canvas_div.focus();\n",
       "    }\n",
       "\n",
       "    window.setTimeout(set_focus, 100);\n",
       "}\n",
       "\n",
       "mpl.figure.prototype._init_toolbar = function() {\n",
       "    var fig = this;\n",
       "\n",
       "    var nav_element = $('<div/>')\n",
       "    nav_element.attr('style', 'width: 100%');\n",
       "    this.root.append(nav_element);\n",
       "\n",
       "    // Define a callback function for later on.\n",
       "    function toolbar_event(event) {\n",
       "        return fig.toolbar_button_onclick(event['data']);\n",
       "    }\n",
       "    function toolbar_mouse_event(event) {\n",
       "        return fig.toolbar_button_onmouseover(event['data']);\n",
       "    }\n",
       "\n",
       "    for(var toolbar_ind in mpl.toolbar_items) {\n",
       "        var name = mpl.toolbar_items[toolbar_ind][0];\n",
       "        var tooltip = mpl.toolbar_items[toolbar_ind][1];\n",
       "        var image = mpl.toolbar_items[toolbar_ind][2];\n",
       "        var method_name = mpl.toolbar_items[toolbar_ind][3];\n",
       "\n",
       "        if (!name) {\n",
       "            // put a spacer in here.\n",
       "            continue;\n",
       "        }\n",
       "        var button = $('<button/>');\n",
       "        button.addClass('ui-button ui-widget ui-state-default ui-corner-all ' +\n",
       "                        'ui-button-icon-only');\n",
       "        button.attr('role', 'button');\n",
       "        button.attr('aria-disabled', 'false');\n",
       "        button.click(method_name, toolbar_event);\n",
       "        button.mouseover(tooltip, toolbar_mouse_event);\n",
       "\n",
       "        var icon_img = $('<span/>');\n",
       "        icon_img.addClass('ui-button-icon-primary ui-icon');\n",
       "        icon_img.addClass(image);\n",
       "        icon_img.addClass('ui-corner-all');\n",
       "\n",
       "        var tooltip_span = $('<span/>');\n",
       "        tooltip_span.addClass('ui-button-text');\n",
       "        tooltip_span.html(tooltip);\n",
       "\n",
       "        button.append(icon_img);\n",
       "        button.append(tooltip_span);\n",
       "\n",
       "        nav_element.append(button);\n",
       "    }\n",
       "\n",
       "    var fmt_picker_span = $('<span/>');\n",
       "\n",
       "    var fmt_picker = $('<select/>');\n",
       "    fmt_picker.addClass('mpl-toolbar-option ui-widget ui-widget-content');\n",
       "    fmt_picker_span.append(fmt_picker);\n",
       "    nav_element.append(fmt_picker_span);\n",
       "    this.format_dropdown = fmt_picker[0];\n",
       "\n",
       "    for (var ind in mpl.extensions) {\n",
       "        var fmt = mpl.extensions[ind];\n",
       "        var option = $(\n",
       "            '<option/>', {selected: fmt === mpl.default_extension}).html(fmt);\n",
       "        fmt_picker.append(option)\n",
       "    }\n",
       "\n",
       "    // Add hover states to the ui-buttons\n",
       "    $( \".ui-button\" ).hover(\n",
       "        function() { $(this).addClass(\"ui-state-hover\");},\n",
       "        function() { $(this).removeClass(\"ui-state-hover\");}\n",
       "    );\n",
       "\n",
       "    var status_bar = $('<span class=\"mpl-message\"/>');\n",
       "    nav_element.append(status_bar);\n",
       "    this.message = status_bar[0];\n",
       "}\n",
       "\n",
       "mpl.figure.prototype.request_resize = function(x_pixels, y_pixels) {\n",
       "    // Request matplotlib to resize the figure. Matplotlib will then trigger a resize in the client,\n",
       "    // which will in turn request a refresh of the image.\n",
       "    this.send_message('resize', {'width': x_pixels, 'height': y_pixels});\n",
       "}\n",
       "\n",
       "mpl.figure.prototype.send_message = function(type, properties) {\n",
       "    properties['type'] = type;\n",
       "    properties['figure_id'] = this.id;\n",
       "    this.ws.send(JSON.stringify(properties));\n",
       "}\n",
       "\n",
       "mpl.figure.prototype.send_draw_message = function() {\n",
       "    if (!this.waiting) {\n",
       "        this.waiting = true;\n",
       "        this.ws.send(JSON.stringify({type: \"draw\", figure_id: this.id}));\n",
       "    }\n",
       "}\n",
       "\n",
       "\n",
       "mpl.figure.prototype.handle_save = function(fig, msg) {\n",
       "    var format_dropdown = fig.format_dropdown;\n",
       "    var format = format_dropdown.options[format_dropdown.selectedIndex].value;\n",
       "    fig.ondownload(fig, format);\n",
       "}\n",
       "\n",
       "\n",
       "mpl.figure.prototype.handle_resize = function(fig, msg) {\n",
       "    var size = msg['size'];\n",
       "    if (size[0] != fig.canvas.width || size[1] != fig.canvas.height) {\n",
       "        fig._resize_canvas(size[0], size[1]);\n",
       "        fig.send_message(\"refresh\", {});\n",
       "    };\n",
       "}\n",
       "\n",
       "mpl.figure.prototype.handle_rubberband = function(fig, msg) {\n",
       "    var x0 = msg['x0'] / mpl.ratio;\n",
       "    var y0 = (fig.canvas.height - msg['y0']) / mpl.ratio;\n",
       "    var x1 = msg['x1'] / mpl.ratio;\n",
       "    var y1 = (fig.canvas.height - msg['y1']) / mpl.ratio;\n",
       "    x0 = Math.floor(x0) + 0.5;\n",
       "    y0 = Math.floor(y0) + 0.5;\n",
       "    x1 = Math.floor(x1) + 0.5;\n",
       "    y1 = Math.floor(y1) + 0.5;\n",
       "    var min_x = Math.min(x0, x1);\n",
       "    var min_y = Math.min(y0, y1);\n",
       "    var width = Math.abs(x1 - x0);\n",
       "    var height = Math.abs(y1 - y0);\n",
       "\n",
       "    fig.rubberband_context.clearRect(\n",
       "        0, 0, fig.canvas.width, fig.canvas.height);\n",
       "\n",
       "    fig.rubberband_context.strokeRect(min_x, min_y, width, height);\n",
       "}\n",
       "\n",
       "mpl.figure.prototype.handle_figure_label = function(fig, msg) {\n",
       "    // Updates the figure title.\n",
       "    fig.header.textContent = msg['label'];\n",
       "}\n",
       "\n",
       "mpl.figure.prototype.handle_cursor = function(fig, msg) {\n",
       "    var cursor = msg['cursor'];\n",
       "    switch(cursor)\n",
       "    {\n",
       "    case 0:\n",
       "        cursor = 'pointer';\n",
       "        break;\n",
       "    case 1:\n",
       "        cursor = 'default';\n",
       "        break;\n",
       "    case 2:\n",
       "        cursor = 'crosshair';\n",
       "        break;\n",
       "    case 3:\n",
       "        cursor = 'move';\n",
       "        break;\n",
       "    }\n",
       "    fig.rubberband_canvas.style.cursor = cursor;\n",
       "}\n",
       "\n",
       "mpl.figure.prototype.handle_message = function(fig, msg) {\n",
       "    fig.message.textContent = msg['message'];\n",
       "}\n",
       "\n",
       "mpl.figure.prototype.handle_draw = function(fig, msg) {\n",
       "    // Request the server to send over a new figure.\n",
       "    fig.send_draw_message();\n",
       "}\n",
       "\n",
       "mpl.figure.prototype.handle_image_mode = function(fig, msg) {\n",
       "    fig.image_mode = msg['mode'];\n",
       "}\n",
       "\n",
       "mpl.figure.prototype.updated_canvas_event = function() {\n",
       "    // Called whenever the canvas gets updated.\n",
       "    this.send_message(\"ack\", {});\n",
       "}\n",
       "\n",
       "// A function to construct a web socket function for onmessage handling.\n",
       "// Called in the figure constructor.\n",
       "mpl.figure.prototype._make_on_message_function = function(fig) {\n",
       "    return function socket_on_message(evt) {\n",
       "        if (evt.data instanceof Blob) {\n",
       "            /* FIXME: We get \"Resource interpreted as Image but\n",
       "             * transferred with MIME type text/plain:\" errors on\n",
       "             * Chrome.  But how to set the MIME type?  It doesn't seem\n",
       "             * to be part of the websocket stream */\n",
       "            evt.data.type = \"image/png\";\n",
       "\n",
       "            /* Free the memory for the previous frames */\n",
       "            if (fig.imageObj.src) {\n",
       "                (window.URL || window.webkitURL).revokeObjectURL(\n",
       "                    fig.imageObj.src);\n",
       "            }\n",
       "\n",
       "            fig.imageObj.src = (window.URL || window.webkitURL).createObjectURL(\n",
       "                evt.data);\n",
       "            fig.updated_canvas_event();\n",
       "            fig.waiting = false;\n",
       "            return;\n",
       "        }\n",
       "        else if (typeof evt.data === 'string' && evt.data.slice(0, 21) == \"data:image/png;base64\") {\n",
       "            fig.imageObj.src = evt.data;\n",
       "            fig.updated_canvas_event();\n",
       "            fig.waiting = false;\n",
       "            return;\n",
       "        }\n",
       "\n",
       "        var msg = JSON.parse(evt.data);\n",
       "        var msg_type = msg['type'];\n",
       "\n",
       "        // Call the  \"handle_{type}\" callback, which takes\n",
       "        // the figure and JSON message as its only arguments.\n",
       "        try {\n",
       "            var callback = fig[\"handle_\" + msg_type];\n",
       "        } catch (e) {\n",
       "            console.log(\"No handler for the '\" + msg_type + \"' message type: \", msg);\n",
       "            return;\n",
       "        }\n",
       "\n",
       "        if (callback) {\n",
       "            try {\n",
       "                // console.log(\"Handling '\" + msg_type + \"' message: \", msg);\n",
       "                callback(fig, msg);\n",
       "            } catch (e) {\n",
       "                console.log(\"Exception inside the 'handler_\" + msg_type + \"' callback:\", e, e.stack, msg);\n",
       "            }\n",
       "        }\n",
       "    };\n",
       "}\n",
       "\n",
       "// from http://stackoverflow.com/questions/1114465/getting-mouse-location-in-canvas\n",
       "mpl.findpos = function(e) {\n",
       "    //this section is from http://www.quirksmode.org/js/events_properties.html\n",
       "    var targ;\n",
       "    if (!e)\n",
       "        e = window.event;\n",
       "    if (e.target)\n",
       "        targ = e.target;\n",
       "    else if (e.srcElement)\n",
       "        targ = e.srcElement;\n",
       "    if (targ.nodeType == 3) // defeat Safari bug\n",
       "        targ = targ.parentNode;\n",
       "\n",
       "    // jQuery normalizes the pageX and pageY\n",
       "    // pageX,Y are the mouse positions relative to the document\n",
       "    // offset() returns the position of the element relative to the document\n",
       "    var x = e.pageX - $(targ).offset().left;\n",
       "    var y = e.pageY - $(targ).offset().top;\n",
       "\n",
       "    return {\"x\": x, \"y\": y};\n",
       "};\n",
       "\n",
       "/*\n",
       " * return a copy of an object with only non-object keys\n",
       " * we need this to avoid circular references\n",
       " * http://stackoverflow.com/a/24161582/3208463\n",
       " */\n",
       "function simpleKeys (original) {\n",
       "  return Object.keys(original).reduce(function (obj, key) {\n",
       "    if (typeof original[key] !== 'object')\n",
       "        obj[key] = original[key]\n",
       "    return obj;\n",
       "  }, {});\n",
       "}\n",
       "\n",
       "mpl.figure.prototype.mouse_event = function(event, name) {\n",
       "    var canvas_pos = mpl.findpos(event)\n",
       "\n",
       "    if (name === 'button_press')\n",
       "    {\n",
       "        this.canvas.focus();\n",
       "        this.canvas_div.focus();\n",
       "    }\n",
       "\n",
       "    var x = canvas_pos.x * mpl.ratio;\n",
       "    var y = canvas_pos.y * mpl.ratio;\n",
       "\n",
       "    this.send_message(name, {x: x, y: y, button: event.button,\n",
       "                             step: event.step,\n",
       "                             guiEvent: simpleKeys(event)});\n",
       "\n",
       "    /* This prevents the web browser from automatically changing to\n",
       "     * the text insertion cursor when the button is pressed.  We want\n",
       "     * to control all of the cursor setting manually through the\n",
       "     * 'cursor' event from matplotlib */\n",
       "    event.preventDefault();\n",
       "    return false;\n",
       "}\n",
       "\n",
       "mpl.figure.prototype._key_event_extra = function(event, name) {\n",
       "    // Handle any extra behaviour associated with a key event\n",
       "}\n",
       "\n",
       "mpl.figure.prototype.key_event = function(event, name) {\n",
       "\n",
       "    // Prevent repeat events\n",
       "    if (name == 'key_press')\n",
       "    {\n",
       "        if (event.which === this._key)\n",
       "            return;\n",
       "        else\n",
       "            this._key = event.which;\n",
       "    }\n",
       "    if (name == 'key_release')\n",
       "        this._key = null;\n",
       "\n",
       "    var value = '';\n",
       "    if (event.ctrlKey && event.which != 17)\n",
       "        value += \"ctrl+\";\n",
       "    if (event.altKey && event.which != 18)\n",
       "        value += \"alt+\";\n",
       "    if (event.shiftKey && event.which != 16)\n",
       "        value += \"shift+\";\n",
       "\n",
       "    value += 'k';\n",
       "    value += event.which.toString();\n",
       "\n",
       "    this._key_event_extra(event, name);\n",
       "\n",
       "    this.send_message(name, {key: value,\n",
       "                             guiEvent: simpleKeys(event)});\n",
       "    return false;\n",
       "}\n",
       "\n",
       "mpl.figure.prototype.toolbar_button_onclick = function(name) {\n",
       "    if (name == 'download') {\n",
       "        this.handle_save(this, null);\n",
       "    } else {\n",
       "        this.send_message(\"toolbar_button\", {name: name});\n",
       "    }\n",
       "};\n",
       "\n",
       "mpl.figure.prototype.toolbar_button_onmouseover = function(tooltip) {\n",
       "    this.message.textContent = tooltip;\n",
       "};\n",
       "mpl.toolbar_items = [[\"Home\", \"Reset original view\", \"fa fa-home icon-home\", \"home\"], [\"Back\", \"Back to  previous view\", \"fa fa-arrow-left icon-arrow-left\", \"back\"], [\"Forward\", \"Forward to next view\", \"fa fa-arrow-right icon-arrow-right\", \"forward\"], [\"\", \"\", \"\", \"\"], [\"Pan\", \"Pan axes with left mouse, zoom with right\", \"fa fa-arrows icon-move\", \"pan\"], [\"Zoom\", \"Zoom to rectangle\", \"fa fa-square-o icon-check-empty\", \"zoom\"], [\"\", \"\", \"\", \"\"], [\"Download\", \"Download plot\", \"fa fa-floppy-o icon-save\", \"download\"]];\n",
       "\n",
       "mpl.extensions = [\"eps\", \"jpeg\", \"pdf\", \"png\", \"ps\", \"raw\", \"svg\", \"tif\"];\n",
       "\n",
       "mpl.default_extension = \"png\";var comm_websocket_adapter = function(comm) {\n",
       "    // Create a \"websocket\"-like object which calls the given IPython comm\n",
       "    // object with the appropriate methods. Currently this is a non binary\n",
       "    // socket, so there is still some room for performance tuning.\n",
       "    var ws = {};\n",
       "\n",
       "    ws.close = function() {\n",
       "        comm.close()\n",
       "    };\n",
       "    ws.send = function(m) {\n",
       "        //console.log('sending', m);\n",
       "        comm.send(m);\n",
       "    };\n",
       "    // Register the callback with on_msg.\n",
       "    comm.on_msg(function(msg) {\n",
       "        //console.log('receiving', msg['content']['data'], msg);\n",
       "        // Pass the mpl event to the overriden (by mpl) onmessage function.\n",
       "        ws.onmessage(msg['content']['data'])\n",
       "    });\n",
       "    return ws;\n",
       "}\n",
       "\n",
       "mpl.mpl_figure_comm = function(comm, msg) {\n",
       "    // This is the function which gets called when the mpl process\n",
       "    // starts-up an IPython Comm through the \"matplotlib\" channel.\n",
       "\n",
       "    var id = msg.content.data.id;\n",
       "    // Get hold of the div created by the display call when the Comm\n",
       "    // socket was opened in Python.\n",
       "    var element = $(\"#\" + id);\n",
       "    var ws_proxy = comm_websocket_adapter(comm)\n",
       "\n",
       "    function ondownload(figure, format) {\n",
       "        window.open(figure.imageObj.src);\n",
       "    }\n",
       "\n",
       "    var fig = new mpl.figure(id, ws_proxy,\n",
       "                           ondownload,\n",
       "                           element.get(0));\n",
       "\n",
       "    // Call onopen now - mpl needs it, as it is assuming we've passed it a real\n",
       "    // web socket which is closed, not our websocket->open comm proxy.\n",
       "    ws_proxy.onopen();\n",
       "\n",
       "    fig.parent_element = element.get(0);\n",
       "    fig.cell_info = mpl.find_output_cell(\"<div id='\" + id + \"'></div>\");\n",
       "    if (!fig.cell_info) {\n",
       "        console.error(\"Failed to find cell for figure\", id, fig);\n",
       "        return;\n",
       "    }\n",
       "\n",
       "    var output_index = fig.cell_info[2]\n",
       "    var cell = fig.cell_info[0];\n",
       "\n",
       "};\n",
       "\n",
       "mpl.figure.prototype.handle_close = function(fig, msg) {\n",
       "    var width = fig.canvas.width/mpl.ratio\n",
       "    fig.root.unbind('remove')\n",
       "\n",
       "    // Update the output cell to use the data from the current canvas.\n",
       "    fig.push_to_output();\n",
       "    var dataURL = fig.canvas.toDataURL();\n",
       "    // Re-enable the keyboard manager in IPython - without this line, in FF,\n",
       "    // the notebook keyboard shortcuts fail.\n",
       "    IPython.keyboard_manager.enable()\n",
       "    $(fig.parent_element).html('<img src=\"' + dataURL + '\" width=\"' + width + '\">');\n",
       "    fig.close_ws(fig, msg);\n",
       "}\n",
       "\n",
       "mpl.figure.prototype.close_ws = function(fig, msg){\n",
       "    fig.send_message('closing', msg);\n",
       "    // fig.ws.close()\n",
       "}\n",
       "\n",
       "mpl.figure.prototype.push_to_output = function(remove_interactive) {\n",
       "    // Turn the data on the canvas into data in the output cell.\n",
       "    var width = this.canvas.width/mpl.ratio\n",
       "    var dataURL = this.canvas.toDataURL();\n",
       "    this.cell_info[1]['text/html'] = '<img src=\"' + dataURL + '\" width=\"' + width + '\">';\n",
       "}\n",
       "\n",
       "mpl.figure.prototype.updated_canvas_event = function() {\n",
       "    // Tell IPython that the notebook contents must change.\n",
       "    IPython.notebook.set_dirty(true);\n",
       "    this.send_message(\"ack\", {});\n",
       "    var fig = this;\n",
       "    // Wait a second, then push the new image to the DOM so\n",
       "    // that it is saved nicely (might be nice to debounce this).\n",
       "    setTimeout(function () { fig.push_to_output() }, 1000);\n",
       "}\n",
       "\n",
       "mpl.figure.prototype._init_toolbar = function() {\n",
       "    var fig = this;\n",
       "\n",
       "    var nav_element = $('<div/>')\n",
       "    nav_element.attr('style', 'width: 100%');\n",
       "    this.root.append(nav_element);\n",
       "\n",
       "    // Define a callback function for later on.\n",
       "    function toolbar_event(event) {\n",
       "        return fig.toolbar_button_onclick(event['data']);\n",
       "    }\n",
       "    function toolbar_mouse_event(event) {\n",
       "        return fig.toolbar_button_onmouseover(event['data']);\n",
       "    }\n",
       "\n",
       "    for(var toolbar_ind in mpl.toolbar_items){\n",
       "        var name = mpl.toolbar_items[toolbar_ind][0];\n",
       "        var tooltip = mpl.toolbar_items[toolbar_ind][1];\n",
       "        var image = mpl.toolbar_items[toolbar_ind][2];\n",
       "        var method_name = mpl.toolbar_items[toolbar_ind][3];\n",
       "\n",
       "        if (!name) { continue; };\n",
       "\n",
       "        var button = $('<button class=\"btn btn-default\" href=\"#\" title=\"' + name + '\"><i class=\"fa ' + image + ' fa-lg\"></i></button>');\n",
       "        button.click(method_name, toolbar_event);\n",
       "        button.mouseover(tooltip, toolbar_mouse_event);\n",
       "        nav_element.append(button);\n",
       "    }\n",
       "\n",
       "    // Add the status bar.\n",
       "    var status_bar = $('<span class=\"mpl-message\" style=\"text-align:right; float: right;\"/>');\n",
       "    nav_element.append(status_bar);\n",
       "    this.message = status_bar[0];\n",
       "\n",
       "    // Add the close button to the window.\n",
       "    var buttongrp = $('<div class=\"btn-group inline pull-right\"></div>');\n",
       "    var button = $('<button class=\"btn btn-mini btn-primary\" href=\"#\" title=\"Stop Interaction\"><i class=\"fa fa-power-off icon-remove icon-large\"></i></button>');\n",
       "    button.click(function (evt) { fig.handle_close(fig, {}); } );\n",
       "    button.mouseover('Stop Interaction', toolbar_mouse_event);\n",
       "    buttongrp.append(button);\n",
       "    var titlebar = this.root.find($('.ui-dialog-titlebar'));\n",
       "    titlebar.prepend(buttongrp);\n",
       "}\n",
       "\n",
       "mpl.figure.prototype._root_extra_style = function(el){\n",
       "    var fig = this\n",
       "    el.on(\"remove\", function(){\n",
       "\tfig.close_ws(fig, {});\n",
       "    });\n",
       "}\n",
       "\n",
       "mpl.figure.prototype._canvas_extra_style = function(el){\n",
       "    // this is important to make the div 'focusable\n",
       "    el.attr('tabindex', 0)\n",
       "    // reach out to IPython and tell the keyboard manager to turn it's self\n",
       "    // off when our div gets focus\n",
       "\n",
       "    // location in version 3\n",
       "    if (IPython.notebook.keyboard_manager) {\n",
       "        IPython.notebook.keyboard_manager.register_events(el);\n",
       "    }\n",
       "    else {\n",
       "        // location in version 2\n",
       "        IPython.keyboard_manager.register_events(el);\n",
       "    }\n",
       "\n",
       "}\n",
       "\n",
       "mpl.figure.prototype._key_event_extra = function(event, name) {\n",
       "    var manager = IPython.notebook.keyboard_manager;\n",
       "    if (!manager)\n",
       "        manager = IPython.keyboard_manager;\n",
       "\n",
       "    // Check for shift+enter\n",
       "    if (event.shiftKey && event.which == 13) {\n",
       "        this.canvas_div.blur();\n",
       "        event.shiftKey = false;\n",
       "        // Send a \"J\" for go to next cell\n",
       "        event.which = 74;\n",
       "        event.keyCode = 74;\n",
       "        manager.command_mode();\n",
       "        manager.handle_keydown(event);\n",
       "    }\n",
       "}\n",
       "\n",
       "mpl.figure.prototype.handle_save = function(fig, msg) {\n",
       "    fig.ondownload(fig, null);\n",
       "}\n",
       "\n",
       "\n",
       "mpl.find_output_cell = function(html_output) {\n",
       "    // Return the cell and output element which can be found *uniquely* in the notebook.\n",
       "    // Note - this is a bit hacky, but it is done because the \"notebook_saving.Notebook\"\n",
       "    // IPython event is triggered only after the cells have been serialised, which for\n",
       "    // our purposes (turning an active figure into a static one), is too late.\n",
       "    var cells = IPython.notebook.get_cells();\n",
       "    var ncells = cells.length;\n",
       "    for (var i=0; i<ncells; i++) {\n",
       "        var cell = cells[i];\n",
       "        if (cell.cell_type === 'code'){\n",
       "            for (var j=0; j<cell.output_area.outputs.length; j++) {\n",
       "                var data = cell.output_area.outputs[j];\n",
       "                if (data.data) {\n",
       "                    // IPython >= 3 moved mimebundle to data attribute of output\n",
       "                    data = data.data;\n",
       "                }\n",
       "                if (data['text/html'] == html_output) {\n",
       "                    return [cell, data, j];\n",
       "                }\n",
       "            }\n",
       "        }\n",
       "    }\n",
       "}\n",
       "\n",
       "// Register the function which deals with the matplotlib target/channel.\n",
       "// The kernel may be null if the page has been refreshed.\n",
       "if (IPython.notebook.kernel != null) {\n",
       "    IPython.notebook.kernel.comm_manager.register_target('matplotlib', mpl.mpl_figure_comm);\n",
       "}\n"
      ],
      "text/plain": [
       "<IPython.core.display.Javascript object>"
      ]
     },
     "metadata": {},
     "output_type": "display_data"
    },
    {
     "data": {
      "text/html": [
       "<img src=\"data:image/png;base64,iVBORw0KGgoAAAANSUhEUgAAAoAAAAHgCAYAAAA10dzkAAAgAElEQVR4nOzdd3gU1f4G8GPFGgTUq6IORVQUFTtiwX6t96qo2O7Pfu16vV4cihJK6B2kVxGQDsKEAKFD6D0QQhJCEnoJpJdt7++PsyVtk93M7swm+36eZx7Z7Ow5J8u4+zIz53uEICIiIiIiIiIiIiIiIiIiIiIiIiIiIiIiIiIiIiIiIiIiIiIiIiIiIiIiIiIiIiIiIiIiIiIiIiIiIiIiIiIiIiIiIiIiIiIiIiIiIiIiIiIiIiIiIiIiIiIiIiIiIiIiIiIiIiIiIiIiIiIiIiIiIiIiIiIiIiIiIiIiIiIiIiIiIiIiIiIiIiIiIiIiIiIiIiIiIiIiIiIiIiIiIiIiIiIiIiIiIiIiIiIiIiIiIiIiIiIiIiIiIiIiIiIiIiIiIiIiIiIiIiIiIiIiIiIiIiIiIiIiIiIiIiIiIiIiIiIiIiIiIiIiIiIiIiIiIiIiIiIiIiIiIiIiIiIiIiIiIiIiIiIiIiIiIiIiIiIiIiIiIiIiIiIiIiIiIiK384QQDYUQEdy4cePGjRu3GrU1FPJ7nMhvDYUQ4MaNGzdu3LjVyK2hIKqGCCEEDh8+jOzsbG7cuHHjxo1bDdgOHz7sCoARJucIqqEihBDIzs4GERER1QzZ2dkMgKQLAyAREVENwwBIejEAEhER1TAMgKQXAyAREVENwwBIelUZAB0OBywWCwoLC7lxM3yzWCxwOBwGfqwSEYU+BkDSq9IAWFxcjLS0NCQkJHDjZtqWlpaG4uJigz9eiYhCFwMg6eU1ANrtdiQmJiI5ORlZWVkoKCgw/WwQt/DaCgoKkJWVheTkZCQmJsJut5vwMUtEFHoYAEkvrwGwsLAQCQkJyM/PN+HQJvLIz89HQkICCgsLzR4KEVFIYAAkvaoMgPzSJbPxWCQiKo0BkPRiAKSQx2ORiKg0BkDSiwHQAB9++CH++c9/mj2MGovHIhFRaQyApBcDoB/atGmDH374we/XhVoAVBQFgwcPNqSvSZMmoW7durra4LFIRFQaAyDpFRYBMFAlRMIpANpstoDMumUAJCIKPAZA0qtWBsA2bdrgm2++wY8//ogGDRrgiSeeQFZWFj7//HNcc801uPLKK/HUU09h165d7tdERkbinnvuwZQpU6AoCiIiItCuXTvk5OQAkCFOyP/Z3NuhQ4dgs9nwySefoFGjRrjkkktw6623YsiQIaXG408AtNvt6NOnD5o2bYqLL74YN910E6KiotzP79mzB0899RQuueQS1K9fH59//jlyc3PL9dW/f39cd911qF+/Pr7++mtYLBb3e1P29wA8QW3RokVo3rw5LrjgAqSmpmLLli149tln0aBBA0REROCJJ57A9u3bS4353Llz+Pzzz3HttdeiTp06uPPOO7Fo0SKsWrWqXF+RkZEAgBEjRuCWW25BnTp1cO2116Jt27Ze35OafCwSUZg7nQxoPwGr+wJ75wEn9gHWIt3NMgCSXn4FQIfDgfxiq+GbvytBtGnTBldccQXat2+PxMREJCQk4NFHH8Wrr76KrVu3IikpCT/99BMaNGiAzMxMADIAXnHFFXjjjTcQHx+PtWvX4rrrrkOnTp0AAFlZWXjkkUfw+eef4/jx4zh+/DhsNhssFgu6dOmCLVu2IDU1FVOnTsVll12GmTNnusfjTwD8+eefUa9ePUyePBkpKSlYt24dxo0bB0CWQ7nhhhvcY1yxYgUaN26MDz/8sFRfERER+PLLL7F//34sWrQIl112GcaOHQsAyMzMxI033oju3bu7fw9ABsCLLroIrVu3RlxcHBITE5GXl4cVK1bgjz/+cBdl/vTTT/G3v/3NHYztdjtatWqFO++8E8uWLcPBgwexaNEiLF68GMXFxRgyZAgiIiLcfeXm5mLr1q244IILMH36dKSlpWHHjh0YOnSo1/eEAZCIaqzZnwCREaW3rlcBQ1sC094Glv4CbJ8CZGwGCs763CwDIOnlVwDML7ZCUTXDt/xiq1//v7Vp0wYtW7Z0P16xYgUiIiJQVFT6X11NmzbFmDFjAMgAeNlll7mDDQC0b98eDz/8cKl2fbkE/PXXX5c6o+VrAMzJyUGdOnXcga+ssWPHol69esjLy3P/LDo6Gueffz5OnDjh7ktRFNhsNvc+b731Ftq1a+d+XNEl4EmTJkEIUeqsaEVsNhuuvPJKLFq0CACwdOlSnH/++Thw4ECF+1d0CXju3LmIiIgo9V5XhgGQiGqswS1k6PujLTD2aaDXjeUDYcmtX1Ng4kvAwh+AjSOB5FjgXAZQ5pYcBkDSq9YGwM8++8z9uF+/fjj//PNx+eWXl9rOP/98/PzzzwBkALzjjjtKtTNo0CA0bty4VLsVBcBRo0bh/vvvx9VXX43LL78cF110ER588EH3874GwM2bN0MIgdTU1Aqf//HHH/Hkk0+W+llWVhaEEFizZo27r5deeqnUPt9//z2eeuop92NvAfDiiy8ud7b15MmT+OKLL9CsWTNERETg8ssvx3nnnYcRI0YAAPr27Yubb77Z6+9UUQDMycnBXXfdhauvvhoffPABpk6dWmnBcQZAIqqRck44g11doMj5D16HA8g5DqSuATaPBaLbA7//AxjYvPJgGHUdMPpxYM6nwOp+yN40jQGQdKm1l4BLBrU+ffqgYcOGSE5OLredPn0agOcewJIGDx4MRVG8tgsAM2fOxCWXXIIRI0Zgx44dSE5Oxr///e9SbfkaAPfs2VNpAPzPf/5TKsgBngC4du1ar3398MMPaNOmjfuxtwBY0WSNF198EQ888ACio6Oxd+9eJCcn4+qrr3a/ftiwYX4HQACwWq2IjY1F+/bt0aRJE9xyyy04d+5chW0wABJRjbRfk+FtRCvf9i/KAY5sB3bNAJZ3A2a8Dwx/EOhWv1wgzO5wJQMg6VJrJ4GUDGrLli3DBRdcgEOHDnl9jS8B8LnnnsO3335bap9vv/0WTz/9dKmfPfPMM9UKgIWFhbj00kt1XwKuKgA2a9YMAwYMKLWPt6B2xRVXYMqUKe7HGRkZEEK4A+Dq1asrvQQ8bdo0XHHFFZX81kBeXh4uvPBCzJ07t8Lna/KxSERhLLarDGx/fVv1vpWxWYDTSTJQrh0IzPsS2UMfZwAkXcIiADocDjz22GO45557sGTJEhw6dAhxcXHo3Lkztm7dCsC3APj555/jwQcfxKFDh3D69GnY7Xb3JIclS5bgwIED+OWXXxAREVGtAAgAXbt2Rb169fD7778jJSUFGzduxPjx4wHISSDXX3892rZti/j4eKxcuRJNmjQpNwmkqgD43HPP4R//+AeOHDniPgPqLQC2bNkSzz33HBISErBp0yY8/vjjuPTSS0udQXzyySfRokULLFu2DKmpqVi8eDFiYmIAAHFxcRBCYPny5Th9+jTy8/OxaNEiDB06FDt37kRaWhpGjhyJ888/H3v37q3wPanJxyIRhbFJL8sAuP33gDfNewBJr7AIgIC87+y7777DDTfcgIsuugg33XQT3n//fWRkZADwLQAeOHAArVq1wqWXXuouA1NUVISPPvoIdevWxVVXXYWvvvoKHTp0qHYAtNvtiIqKgqIouOiii3DzzTejV69e7ud9LQNTUtkAuHHjRtx9992oU6dOuTIwZe3YsQMPPPAA6tSpg2bNmmH27NnlLiFnZmbi448/RoMGDXDJJZegRYsW0DTN/fyXX36JBg0auMvArFu3Dm3atEG9evVw6aWX4u677y41a7qsmnwsElGYstuAqOtlADyxL+DNMwCSXrUyAFLtwmORStkfDaRvNHsURJU7Hi/DX8+GMgwGGAMg6cUASCGPxyK5Hdkuv1R7/A3IPRWwZmP3ncDDPZcjdt+JgLVJYW7bJHmsTn41KM0zAJJeDIAGSk9PL1eKpuSWnp5u9hBDEo9Fcpv7b89MyOXdA9bs/03YDEXVcH+PWGQVWALWLoWxBV8H/DgtiQGQ9GIANJDVaq2wFI1rs1r9q3cYLngsEgAg9yTQrYEnAPa+yVNbTYdiqx3Nf41x1x3tsiA+AIOlsPfbQ/I4TVwclOYZAEkvBkAKeTwWCYBcSzUyAhj7FDDsfvnnuGG6m916KBOKquHWzouhqBoad9Cw53BWAAYcHCdzCtFt4T5sS8s0eyjkTWGWLP4cGRHQWxVKYgAkvRgAKeTxWCTYLED/W+UX6u5Zcu3UyAhgwG2Atajq11di6PIkKKqGr6dux/d/7oCiavjH8HWw2f0rQG8Eu92Bd8duhKJqaNZ5MVYmnjR7SFSRlJXy+Bxyd9C6YAAkvRgAKeTxWCTsmS2/UPs3A6zFMvQNuD0gNdbajdkARdXwx8Y0nMwuRIsuS9yPQ82UDYdKLZN5S6doLN173OxhUVmr+8ljc86nQeuCAZD0YgCkkMdjkTD+OfmFuqq352dxw+XPht1X7TIbhRYbmnWSl34PnpL1NCetT4WiargrcglO5+o7uxhI6Wfycfsv8l7FcWsP4uup26GoGpp2jMai3UfNHl6FbHYH+sbsx66Mipd5rLWmviWPzY2jgtYFAyDpxQBIIY/HYpg7ukN+mXZrAOSUKNNSlAP0vlk+t29BtZpen3waiqrh4Z7L3WuOW212vDR0LRRVw39n7grEb6Cb3e7AW6Plmcp2YzbAbnfAarPjB+cl68YdNMzbcdjsYZaSVWDBhxM3u9/f/OIwmeTmcAB9Gsnj8vC2oHXDAEh6MQBSyOOxGObmfem8nPZZ+edWRMnnxrSRX7x+6rdkPxRVw48zdpb6+Y70s2jUQV5m3XTwTPXGHUATnWclm/8ag4zMfPfPbXYHfp69G4qqoVEHDX9uDo1SUgdP5eKpAaugqBpu+2UxFu4KzTOUQZF5UB6T3a+RtysECQMg6cUA6CMhBObPn29IX2WXZatomTp/GTn+QOOxGMZyTwHdr3aeTdla/vm807IodGQEcHC1382/NmI9FFXDrK0Z5Z7rMHcPFFXDc4NWw2KzV2f0AXHwVC5u+2Wx1/sS7XYHfpkf774v8PcNh4wfZAmrEk+iRaS8j/KRXssRfyR0Z1QHxe6Z8ngc90xQu2EAJL0YAMvwFraOHz+OoiJj7gcqGwBzc3Nx5oxvZyFCYfyBFq7HIgFY089T+sWb6P/JfX73bb1tl5xCC5p0jIaiajh8Nr/c8+fyi3Fv92VQVA1j1qT4O/KAsNkdeGNkHBRVw/vjNrkvU5flcDjQY9E+dwgcu+agwSOVYxizJgWNnWdO246Mw6mcmvmZo4vreIzpENRuGABJLwbAMgJxtk2vsgHQH6Ew/kAL12Mx7Nksnpm+u2Z43+9sGtC1ntzv6A6fm1+x/wQUVcMT/VZ63WfW1gz3pdej5wr8GX1AjF1zEIqq4c4uS3Ckiv4dDof7kraiahi+IsmgUcrJNP+ZsdPdtzpnN4qt5p01NdWYJ+WxGD8nqN0wAJJetTIAxsTE4NFHH0XdunVRv359vPzyy0hJ8fwL/vDhw2jXrh3q1auHyy67DPfffz82bdqESZMmuf6Hcm+TJk0CUPoSaqtWraCqaqk+T506hQsvvBArV8ovk+LiYrRv3x433HADLrvsMjz00ENYtWqVT+Ov6hLwqlWr8OCDD+Kyyy5D3bp10bp1a6Slpfk8/kOHDkEIgblz5+LJJ5/EpZdeirvvvhsbNmwoNY6xY8fixhtvxKWXXorXXnsNAwcOLDWuXbt24cknn8QVV1yBK6+8Evfddx+2bq3gMp1ONflYJB32zpNfpP2aVl3rb+7nct+Z/+dz864zZh3m7va6j93uwJuj5Bm4L6YE74b+iiSfzEUzZ3HqGVt8v7fPVddQUTUMWJro9axhoJzILsQ/fpOX0pt0jMbkuENB7zNkWQqAbvXlsXguuPdjMgCSXv4FQIcDKM4zfvPzw2TOnDmYO3cukpKSsHPnTrz66qu46667YLfbkZubiyZNmuDxxx/HunXrkJycjJkzZ2LDhg0oKCjATz/9hDvvvBPHjx/H8ePHUVAg/9UtSgSo4cOH4+abby71ITd8+HA0bNgQdrv8V+97772H1q1bY+3atUhJSUH//v1Rp04dJCVV/a/yygKg1WpF3bp18b///Q8pKSlISEjA5MmTkZ6e7vP4XQHw9ttvh6ZpOHDgAN58800oiuJejm79+vU4//zz0b9/fxw4cAAjRoxA/fr1S43rzjvvxAcffID9+/cjKSkJs2bNwq5dgZ81yQAYpib8XX6RruxZ9b4n9jqXiKsLnPHtcu2LQ+RM37+qmKCw/3i2+1Lxyv3GFF622uzuUPV/Ezb7HahGr05xh8Ce0QlBC2Q70s/iwahYKKqGe7otRVzy6aD0U2Okb3L+o+WWak1K8gcDoDmeEEIsEkIcE/LNf63M812FEIlCiHwhxDkhxHIhxMNl9qknhPhDCJHt3P4QQlxVZp+7hBBrhBCFQoijQoguQojzyuzTVgiRIIQodv73dT9/F/8CYHGeZx1OI7fiPF3/o5w6dQpCCMTHx2PMmDG48sorkZlZ8TJK3i6hihIBynW2b+3ate7nH3nkEbRv3x4AkJKSgvPOOw9Hj5b+YnnmmWfQsWPHKsdbWQDMzMyEEAKrV1d8w7sv43cFwPHjx7uf37dvH4QQ2L9/PwCgXbt2ePnll0u18f7775ca15VXXonJkydX+fvoxQAYho7tcpZ+qQ9kH/PtNdPelq/567sqdz2bV+wOSL7cpxalybOFj/ddiUJL9WoO+mPEqmQoqoYWkUtwLKt6l55d9Qxd6xvbA7yyyZxth91nKJ8btBrpZ8rfRxl2XLUpp78b9K4YAM3xohAiSgjxhqg4AL4nhHhWCNFECHGnEGK8kCHvmhL7xAgh4oUQjzi3eCFDpUuEEOKEEOJPIUQLZ185QoifSuzziBDCJoToKIS43flfqygfNitTKwNgSkoK3n33XTRu3BhXXnklLr/8cgghEB0dja+++gpPPPGE19f6EqAA4MUXX8QXX3wBAEhNTYUQwn32a9asWRBC4PLLLy+1XXjhhXj77berHH9Vl4A/+ugj1KlTB6+88gqGDBmCY8eOed23ovG7AuCWLVvcz589exZCCKxZswYA0LJlS3Tr1q1UG0OHDi03rgsvvBDPPPMMevfuXeoyeyAxAIah+V/L//dnf+z7a9I3OstvXA3kVL46xuI9x9zBxRe5RVY83HM5FFXDwGUHfB9TNSQez3EXp56zTV9tv2mb0t3lbDrM3R2QEGizO9yBWFE1fPb7VuQWhUmNv6rM+lAeg2sHBr0rBkDzVRQAy4pw7veM83Fz5+OSQa2V82e3OR9/JYTIEkLUKbFPByHPBLrOAs4UMkiWtETI0OirWnkJuHnz5nj++eexfPlyJCQkYO/eve4A9N///jcgAXDq1Klo0KABLBYLoqKicOedd7qfmzFjBi644AIkJiYiOTm51Hb8eNXLNvlSBmbHjh3o1asXHnnkEVxxxRXYuHGjz+N3BcCdOz21z86dOwchhPs+xXvuuQfdu3cv1caQIUPKTU45cOAABg0ahOeeew4XX3wx5s2bV+Xv5y8GwDCTd0bWUIuMADI2+/fa8c/L1y37tdLdXGVTIv/a63PT0c7Q2KzTYqSe1ndVwhuLzY5Xhq2Domr4dPKWgFy6nb3tsHtm7o8zdsKqo6RNVoEF/zdhc6l7DAN9ZrFGG3SnPP5S11a9r04MgOarKgBeLIT4n5Bh7mrnzz5xPi4rSwjxsfPPU4QQf5V5/l5nf42djzOEED+W2edHIUR6JeOpI+TB4toailo2CeTMmTMQQpS6PLtu3Tp3AJo8eTIiIiK8XgLu2bMnWrRoUe7nokwAzMvLw+WXX46FCxfijjvuQO/eniWqDhw4UG4M/vC3DmCrVq3w3Xff+Tx+XwJgu3bt8Morr5Rq44MPPqh0dvI777yDV199tepf0E819Vikalo7UH6Jjn7C//uoEmPka3s2BAq8Lz/2tLNI8RI/1tF1OBz4lzP8fDDee0kWPVwTOO7uuhQnswN3vP+166j7PsZvpm2vVl3DlFO5eKq/p7izttvHS/PhIvuYPPa6XgUU5Qa/OwZA03kLgK8IIfKEEA4hz9o9WOK5TkKIpApekyTkZVwhhFgmhBhb5vkbnP094nxsEfJyc0nvCXk/oDddRZlZoqKWBUC73Y4GDRrggw8+QHJyMlasWIEHH3zQHYCKi4tx66234vHHH8f69etx8OBBzJkzxz0Ddtq0abj88suxc+dOnD592l07T4jyhZTfe+893HPPPTjvvPOQnl56xtf777+PRo0aYe7cuUhNTcWWLVvQp08fREdHV/k7VBYAU1NT0aFDB2zYsAFpaWlYunQp6tevj5EjR/o8fl8CoGsSyMCBA5GUlITRo0ejQYMGuOqqqwAABQUF+Oabb7Bq1SqkpaVh/fr1aNq0KX7++Wff/qL8UFOPRaoGmxUYeIf8It053f/X2+3AiFbOy3ADKtzlRHahe+WMrHyLX80fOp3nvu8t0AFo79EsNHWGtAU7jwS0bQCIiT+OWzrJ9j//fSuKrL7fy7gy8SRadJHFnVv3XoG9R8OsuLMvEhbK425ka0O6YwA0n7cAeLkQ4hYhL+1OEEIcEkJc63yukxDiQAWvSRbyMq8QMgCOKfN8Q2d/rZyPLUKId8vs874QoqiS8db6M4AAEBsbi+bNm6NOnTq4++67sXr16lIBKC0tDW3btkVERAQuu+wyPPDAA9i8WV5qKioqQtu2bXHVVVd5LaPiEh0dDSFEhZeULRYLunTpgkaNGuGiiy7Cddddh9dffx179uypcvyVBcATJ07gtddew/XXX4+LL74YiqKgS5cu7tnHvozflwAIyDIwDRs2dJeBiYqKwnXXXQdAlrl55513cNNNN+Hiiy/GDTfcgG+//TYox0tNPhbJT/sWyC/Rvk2qLv3iza4ZnvIxlvITKObvOAJF1fDKsHXVan5w7AEoqoaHesYip9C/AOlNsdWOF5yzkv89ZWvQZu2u2H/CHWA/nLi5ygktDocDo1enuO8jfGvUBpzODcPizr5Y1kUedwu/N6Q7BkDz+XIPoBAy3LnO7pl5CbisWlkHkILjs88+w2OPPWZ4vzwWw8jEF+WX6PLuVe/rjc0CDGoh29kyrtzT7WfvgqJq6BWdUK3mCy02PNFvJRRVQ/dF+6o/zhIGLpOh8t7uy4IesNYlnXYvLffeuI3IL654AkehxYYf/tzhvt+vw9w94Vvc2RcTX5LH3I4/DOmOAdB8vgbAFCEvvwrhmQTyUInnHxblJ4GcE/IeQhdVlJ8EsrhMPzEimJNAKKz0798fu3btQnJyMoYNG4aLLroI48aV/0INNh6LYeJ4vPMeqnpAduW1+aq0aYxsa/Bd8rJyCY/2WQFF1bAqsfo1/VYlnnQXPt53tPznpz/2HM5y359n1H11mw6ewR2/xrjP6pWdxXs8qxCvDl/n/h2nbAjj4s6+sFmBqOvkMXdyvyFdMgCa4wohREvnBiHPurUUQtws5KXfXkJeplWEEPcJWQamSMiSMC4xQojdzv1aCSH2iNJlYOoKWQZmupBlYF4XspRMyTIwrYUsA6MKWQZGFcEuA0MB8cILL5QrEePaevb0oeitQd566y1cc801uOSSS3DHHXdg1KhRpoyDx2KY+Otb+QU660P9bRXnA30by/b2zHb/OCMzH4qqoWnHaOTpLF3y1dRtUFQNb4yMq/ZM2CKrDc8NWg1F1fD1tO26xuOvbWln3ff1vTZiPbIK5OXs7eln8YCzuHPLbksRlxLmxZ19cWy3PNZ63SjvQzUAA6A5nhQVTKQQQkwWQlwihJgn5Jm6YiGLRf8lSk8CEUKI+kKIqULW9stx/rmiQtBrhQyPx4UQkaJ8Ieg3hSw6bRFC7BeyXqA/GABNcOTIkXLlYVybt9nJ4YzHYhjIzwR6XCu/RNM3BqbN1X2dN+U/6p5NPGNLOhRVQ9uRcbqbP5ZVgObOs2gzt2RUq42+MXLt3vt7LENmXrHuMflr9+FzuLvrUiiqhpeHrcXvGw65axA+P2gNMjJZ3NknWyfIY+33fxrWJQMg6cUASCGPx2IYWDdYfoGOeixwS2jlZwJR18t2k2IBAN8772kbuDQxIF2MXXPQfabsrJ8BbmfGOXd9vph438vRBNq+o9m4r/sy971+rlnCLO7sh/lfyeNsRQ/DumQAJL0YACnk8Vis5WxWTwHdQN9Av6STbHfiS3A4HO5LmxtSzgSkeYvNjucHrXGvtOGrQovNXYvwhz93BGQseiSdyHGv6Ttw2QEWd/bX8AfkcXZgiWFdMgCSXlUGwIKC6q1DSRQoBQUFDIC1mat+Wt/GgCXAf8dZR4BuDYDICBzeLQPXrZ0XB3Q93y2HMt1nzrann/XpNT2jE6CoGh6IisW5fOMv/VYkq8CC5JPBL2Bc6xSc8yxbmheYf1j4ggGQ9PIaAG02GxISEnDmjHEHNFFFzpw5g4SEBNhsgfvSphAy6WX55RnbNTjtL5DrCqeP+Ke79Emg/TRLlpZ5YcjaKpda25aW6a6rF7vvRMDHQgZLXi6P36EtDe2WAZD08hoAAeDYsWPuEFhQUIDCwkJu3AzbCgoK3OHv2DEuO1UrndjrKf2SdTg4fZw6AETWBSIj8HSHMfhtZXLAuziTW+SeTDFhXarX/QqKbXjSuZzaf2fuCvg4dCnKlcuZkX9W9ZHH8JzPDO2WAZD0qjQAOhwOdwjkxs2s7dixY6xBVlst/F5+ec78V1C7cfz5HhAZgVmdX/H5Mq2/pm2SM4zv7LIEJ7ys49tt4T4oqoaHey53l10JGRNflDOxj4VYMA11f7SVx/CmMYZ2ywBIelUaAF1sNpvpZ4O4hefGy761WMFZoMff5JfnofVB7SplxyogMgKWLvVgzUyvcv/qsNsd+Mdv66GoGr6dXn5ix6aDZ9yXfvUUoQ6KrMOe+9j+eMPs0dQcDgfQR5Hv2xFj6zgyAJJePgVAIqkGtvIAACAASURBVKKAWz+0XJ2+YBm75iDifmkl+4vpELR+4o9kuUu7rEvyFFDOK7Li8b5y+Th1ju+zhQ2zdaInABoQyGuNMyny/epxLWA1djIPAyDpxQBIRMaz24DBzvV6t/8e9O4+mrgZH3TsJfuLuk7WCAySyL/2QlE1PNV/FYqs8gz2rwvioagaWvdegZzCELv0CwDOS+TofZP87/jngh7Ka4Vdf3reL4MxAJJeDIBEZLz9mvzi7KMAluCWmrLY7M51bxehYFhr2e+q3kHrL7vQgvt7yJp6w1ckIS75tLtMTMmzgiHDWgz0vEG+L/ujPSuyGFjTrsbS/ivfqyWdDO+aAZD0YgAkIuNNflV+cS7rEvSutqWdhaJquKfbUtj3zPUEz+K8oPW5YOcRd83BVr2WQ1E1dJ6/J2j96ZK6Rr4n/ZrKdWyX/uK5NG/QurY11ugn5Hu1d57hXTMAkl4MgERkrJP7naVfrgLOBWdCRknDVyRBUTV8+cc2eel5yD2y/42jgtanw+HAO2M2us/8PdpnBfJCdWk1V+Cb94V8nJ8J9LpR/mzPbHPHFsqK84Fu9eX7dK56a0HrwQBIejEAEpGxFv1Hfmn++Z4h3b07VgaxKRsOyR9snSD7H3gHYAve/XjJJ3NxS6fogC49FxQjWpUPe6v7yp8NuSeo71GNlrZBvkf9bzXlfkkGQNKLAZCIjFNwTk7CiIwAUtcGvbtCiw3NOi+GomqeZc4shUC/W+QYdk4Pav/b0s5ifXII3vfn4ir/0vWq0hNjinKAvk3kc1snmje+UOaaxW7QP2TKYgAkvRgAicg4G36TX5ojWhly1iQuRU7AeDAqtnQx8XWD5Dh+eyi873NzlX8Z92z55zaOlM8NuC3oE3VqpJn/ku/PusGmdM8ASHoxABLVFHY7kLEFWNMPsBaZPRr/2W3AkLvll+a2SYZ0OWBpIhRVww9/linMXJjluc9tf7QhYwlJrvIvq/uWf85aJC+TR0bIs11U2sDmzpqJ60zpngGQ9GIAJKopHA7PpUsDLp8GXGKMs9bczfIGegO8MTIOiqph5pYKbtKPjfSc/QrHmncly78cLb9yCQBg+xTPrOlCfk+4ZR/1XDoP4mzySofAAEg6MQAS1SRzPpNfPMu7mT0S//3+Tzn2pZ0N6S63yIqmHeUkjIzMCgJnzgmg+zVyTGlxhowppJQt/1IRmxUY/oDcb2VPY8cXyvb9Jd+TUY+aNgQGQNKLAZCoJtk5TX7xjH3K7JH459QBzxmTs2mGdLky8SQUVcNjfVd432nhD3JcU980ZEwhpWz5F2/2zpf79bwByAvhCS1Gcr13i/5j2hAYAEkvBkCimqTkpaeCs2aPxnfaT3Lc0981rMue0QlQVA0/z65k7d0zKfK9jIwAjscbNraQ8NvDvtX6czg8BY9jOhoztlA34QX5fuyYatoQGABJLwZAoppm+IPyy2ffArNH4pvCLCDqejnmg6sM6/blYWuhqBoW7DxS+Y6zPpJjm/OpMQMLBd7Kv3iTHCv3736NfG04s1mAHn+T78epA6YNgwGQ9GIAJKppFv8sv3wW/mD2SHzjKify20OGTbY4l1+MRh3kKhwnswsr3/nYLk8Y2jJO3t91cDVwdCdw9pA802q3GTJuw1RW/qUiDgcw8SX5mgXfBHdsoc51vPS+ydQSQgyApBcDIFFN45pNO+Rus0dSNbsdGNpSjnfLeMO6jYk/DkXV8MzA1b69YMrrcoyVbb1uBAbdKdfInfiSvJw970tgsQqs7CWD7s5pwH5NlgY5vkcuERaKK2m4y7/08/01GZs9Qfl0UvDGFuq2jJPvw5TXTB0GAyDpxQBIVNMU5XjWIM1MNXs0lTuw1BmebjK0XEaXBfFQVA2/LvDxvr4zKcD8r4CpbwHjn5dnKwfc5lm1RM825G7Dyt74xJfyL95MaydfN+vDoAytRpj3RUjMimYAJL0YAIlqogl/rxnLdP3xhhznkk6GdvvswNVQVA0x8cf1N2YtBnJPAaeTgcPbgOTlQPwcuabwukGynuCi/8h7Cae8Dox9Ghh2vyyv4ppgsmuG/nEEii/lX7w5Hg9E1nWGx53BGV+oG3af/P2Tlpk6DAZA0osBkKgmWtVHfgnN/JfZI/HudJLzLFhdQ89UnswphKJqaNRBw7n8YsP6rdCq3vI9mPyqueMoaWln38q/eDPnU/n6P94I7LhqgvxMz5ldXybPBBEDIOnFAEhUE7nux+p9c+hOUFisyjFOa2dotwt2HoGianh5WAislnI2zROCz6WbPRrJ1/Iv3mQe9NyCcGh9YMcW6pKcs6GH3mv2SBgASTcGQKKayGb1rGV7ZLvZoynPbpf30EVGAAeWGNq1Omc3FFVDz+gEQ/v1atLL3tfbNZq/5V+8WfQf2c7458NrGb2VveTvPfffZo+EAZB0YwAkqqmmvyu/jNYOMHsk5R3Z5lk9wlpkaNeP910JRdWwMvGkof16tXO6ZzKI2WHJVf5l/HP62sk+CvS41pSAbyrXbPHNY80eCQMg6cYASFRTbR4rv4wmvWz2SMpb3t2UexQzMvOhqBqadoxGbpHV0L69Ks7zzLo1e83h6pR/8ca1HNrIR02th2cYu13echEiE2AYAEkvBkCimup0snN1hqtDq8wIAIxoZcrs15lbM6CoGt4YaXLQKmvB1/L9mP+1eWPQU/6lIvmZntsQqns/YU3imtTU49qQqO3IAEh6MQAS1VQOhyxMHBkhl+oKFZmpzvvM6hk+U/I/M3ZCUTUMWJpoaL9VSouT70nU9UBRrjljOLi6+uVfvFnd1zkpomVIhKKg2jlN/q4T/m72SAAwAJJ+DIBENZnrzJLBdfYqteE3Uy5NOxwOPNQzFoqqIS7ltKF9V8nhAIbcI9+XndPNGYPe8i8VKcoB+japGTUp9XJNfFna2eyRAGAAJP0YAIlqsj2znfdhtTZ7JB6uNWM3jDC025RTuVBUDc06L0ahJQRL46zuZ+49m67yL/FzAtuua63nAbcDloLAth1KRj0mf899C8weCQAGQNKPAZCoJss77SlMmxsCs17zMz2rX5w9ZGjXUzamQVE1vDt2o6H9+uxchmcVDYPfm4CVf6mItQgYeIdsP25YYNsOFcV58paGyAgg64jZowHAAEj6MQAS1XSuMxO7Z5o9Ek/JkxGPGN71V1O3QVE1DF+RZHjfPvv9H/L9WdXb2H4DVf7Fm+1TZPt9GgGFtfD75NB6z1nOEMEASHoxABLVdMt+dc4w/crskQAz3pdjWdHD0G7tdgdadlsKRdWwLe2soX37ZfdM+f4MbmFs6RRXzchAlH+piM0KDH9A9rGyZ3D6MNP6IfJ3m/GB2SNxYwAkvRgAiWq6lBWesxNmFhq2FMpZriasTrLvaDYUVcMdv8bAYgvhmnTF+Z7SKakGLVUX6PIv3uyd7yn+nRdik3D0cv3DZv0Qs0fixgBIejEAEtV0lgKg+zXyC+qUieVPDiw1LYiOW3sQiqrho4mbDe23Wv76LvCzcSsTjPIvFXE4gNFPyL5iOgavH6M5HED/W0OjkHcJDICkFwMgUW3gurds4yjzxrDwezmGRT8a3vUnk7ZAUTWMXXPQ8L79lr7JWRPwOllGJdjc5V++DH5fybHO4uTXyIkntYF7Ak29kCq4zgBIejEAEtUG6wbLL6lp7czp324H+jczpSi11WbHnV2WQFE1xB/JMrTvanE4gGH3yfdqxx/B7y9Y5V8q4nB4ygD99W3w+zOC69L26MfNHkkpDICkFwMgUW1wdKfz/quG5qzIcHirp39rkaFd70g/C0XVcHfXpbDbTbwH0h9rBzhXlXghuP2cywhe+RdvMjZ7zpidTjamz2Ba0sm0M9uVYQA0xxNCiEVCiGNCvvmvlXjuIiFEXyFEvBAi37nPFCHEDWXaqCeE+EMIke3c/hBCXFVmn7uEEGuEEIVCiKNCiC5CiPPK7NNWCJEghCh2/vd1P38XBkCi2sBuB/o2dt6ntMH4/mO7yr5nfWh417+tTIaiavhiyjbD+662rCOeeolnUoLXz9YJwS3/4s20dqYdDwE3/nlzV3DxggHQHC8KIaKEEG+I8gGwrhAiVgjxthDiNiFEKyHEJiHEtjJtxAgZEh9xbvFChkqXCCHECSHEn0KIFs6+coQQP5XY5xEhhE0I0VEIcbvzv1YhxMN+/C4MgES1xayPzCvD8dtDzlqEswzv+v1xm6CoGn7fcMjwvnWZ8rqzZE5U8PoIdvkXb47He4peH91pbN+BZLMAPa6Vv0eInc1kADRf2QBYkQed+93sfNzc+bhkUGvl/NltzsdfCSGyhBB1SuzTQcgzga6zgDOFDJIlLREyNPqKAZCottj+u/yiGvessf2eSZH9dqsPFJwztOsiqw23dl4MRdWQfNKACRWB5FrGb9CdwZmda1T5F2/mfCr7/qOt8X0HytEd8nfofbO5JZYqwABoPl8C4LNCCIfw/CV9ImS4KytLCPGx889ThBB/lXn+Xmd/jZ2PM4QQP5bZ50chRHqVo/ZgACSqLc6le+69KjRwMkTcMNnv5FeN69NpQ8oZKKqGB6Ji4QixL+gqWQqAXjfJ9+7gqsC37y7/couxRaddMg/KfxSEWPkUv2we6wyxb5g9knIYAM1XVQC8RMjLv1NL/KyTECKpgn2ThLyMK4QQy4QQY8s8f4Ozv0ecjy1CiPfK7POekPcDelNHyIPFtTUUDIBEtcfQe+UX1n7NuD4nvCD73DTauD6dBi5NhKJq+P5PE85wBcKi/8j3bu7ngW/byPIv3rh+vymvmTcGPeZ+bs7SfT5gADRfZQHwIiHEAiHEDlH6L6iTEOJABfsnC3mZVwgZAMeUeb6hs79WzscWIcS7ZfZ5XwhRVMl4uzrbKLUxABLVEtp/5ReW9pMx/eWd8UxmOJduTJ8ltB0ZB0XVMGOL8X0HhGv2dI+/Bf6srZHlX7wpeXtATVwjeGhLU0ob+YIB0HzeAuBFQoj5QojdQogGZZ4z8xIwzwAS1WYJi+QX1rD7jOlvx1TZ36hHjemvhLwiK5p2jIaiasjIDJ0CvX5xODxr6G6bHLh2zSj/4o2r5uG+BeaOw1/5mXLckRFAQeitL80AaL6KAqAr/O0VQlxTwWtck0AeKvGzh0X5SSDnhBAXl9hHFeUngSwu03aM4CQQovBVmFXijFxG8Pv78z3nzONewe+rjFWJJ6GoGh7ts8LwvgPKVcR7/POBa9Os8i8ViekoxzL/a7NH4h/X0obD7jd7JBViADTHFUKIls4NQp51aynkLN8LhTxzd1gIcY8Q4roSW8kwFyPk2cFWzm2PKF0Gpq6QZWCmC1kG5nUh6wWWLAPTWsgyMKqQZWBUwTIwRDTuGfnFtX1KcPuxFMjlzEwq9dErOgGKqqH97F2G9x1Q2cc8oT1QpUZc5V/WGFz+pSIHV5k7GaW6VkSZfw9lJRgAzfGkqOA+OiHEZCFEIy/Pwfk6l/pCTgzJcW5TRcWFoNcKeU/fcSFEpChfCPpNIUSikPcD7heyXqA/GACJahvXF9fsj4PbT+Ji2c/AO0wpkfHKsHVQVA3zdxwxvO+Am/qmfC+Xd9PfVqnyLyFQg89aLFeIiYwAjmw3ezS+m/KaHPOW8WaPpEIMgKQXAyBRbZMWJ7+4+jYO7hmXv741dsJJCVn5FjTqoEFRNZzILjS8/4DbO88ZppsDdpu+tswu/1KRGe+H7GzaCtntnhI9x0LzDDMDIOnFAEhU29gsnjNAx3YHpw+7XQaMyAggxfh78JbsPQ5F1fD0gFWG9x0UlkJZbDgyAkherq+tUCj/Utb2KXJMY540eyS+OZXomZ1ts5o9mgoxAJJeDIBEtdHUt+QX2PohwWk/Y7Nsv9eN8hKfwSL/2gtF1fDL/HjD+w4a7SfnpftP9LXjWpbPzPIvZeWc8MyozT1p9miqtuMPOdaJL5o9Eq8YAEkvBkCi2mjjSPkF9vs/g9P+si7G3GfoxXODVkNRNSzec8yU/oPiyHbnWadrq7+kXiiVfylr9BNybDummj2Sqi38QY512a9mj8QrBkDSiwGQqDY6ud8TJixBuEfOVbtuz+zAt12FUzlFUFR5/9/ZPOPPPgaNw+Ep3rx1QvXacJd/CWBJmUBZ2VOObea/zB5J1UY+6qxd+JfZI/GKAZD0YgAkqo0cDmDAbc579FYGtu3Tyc7VHRoYu+aw01+7jkJRNbw4ZK3hfQeda13lcc9U7/WhVP6lLNeqJ71ulPephqqiXE9ZnuzQPcPMAEh6MQAS1VbzvnRexuoS2HbXDwnu5eUqdJi7G4qqoceifab0H1Q5J4Cu9eT7eyrRv9dai0Kr/EtZdjvQt4kcX+oas0fjXepaT3mjEMYASHoxABLVVrtmyC+y0Y8Htt3xz8t2N48NbLs+cDgceKLfSiiqhhX7TxjevyGmvV294H5wVeiVfylr3hdyjEs6mT0S79YNcl6q/j+zR1IpBkDSiwGQqLZyz7ysC+SdCUybuadke5ERQNbhwLTpg0KLDdM3p+PZgXLyR5OO0cgpDOHLiHrs+0u+vwNu868m4JJOoVf+paz4uXKMwx8weyTeuZY3jBtm9kgqxQBIejEAEtVmIx4JbEkQVz23QJ9V9OJ4ViH6LdmPlt2Wuid+NP81BlM2HDKkf1NYi4E+jeT7nLTM99eFYvmXsgrOeS5xZ6aaPZryHA6gfzM5vvSNZo+mUgyApBcDIFFt5jor9Ne3gWlv+jvOFR36BKY9L3ZlnMP3f+5A047R7uDXuvcKjFt7EFkFtfTMX0nR7eX7POtD3/YvWf6l4GxQh6bbxJfkWDeNNnsk5Z1Ld05wqi/Xug5hDICkFwMgUW2WtEx+oQ1qoX+93uJ8uTJCZARwfE9gxleC1WZH9J5jeGNknDv0KaqGt0ZtQEz8MVhtIXpfWzAc2yXf5+5X+xboQrn8S1muSURTXjd7JOW5LlGPfsLskVSJAZD0YgAkqs2K82SIiIwAzqToa2u/FrgwWUJWgQVj1qSgde8V7tB3S6do/DhjJ/YcNr7MTEhwOICRrX2fbBPK5V/KctWo7H6NPD5DSUxH09a39hcDIOnFAEhU2016OTCzdud/LdtZ/HNAhnXwVC5+XRCP5r/GuIPfvd2XYeDSRJzMDkLx6ppmwwjf1s+1FgFR14du+ZeyHA5gcAs53sTFZo+mtHHPynHtmmH2SKrEAEh6MQAS1XZr+ssvtT/fq34bdpunhtvB1dVuxuFwYH3yaXwyaUupy7x/H7wGM7dkoNDix6zX2i73lLwXLTICOJngfb+Dq0K//EtZrnWPF/5g9kg8rMXyrGQgzpYbgAGQ9GIAJKrtjmxzrsBwE2CzVq+N9I2yjd43VWsVh0KLDTO2pOP5QWvcoa9RBw2fTt6CuOTTcATwknKt4rq0u7Sz931cE33mf2XcuPRy3Zs6sHlAbyfQJTlWjqlv49AZUyUYAEkvBkCi2s5uA3rfLL/cMrZUr42lv8jXz/nUr5edzC7EgKWJuLf7slJlXLosiEfq6RC7/ysUue677HeL9/DuLv8y19ix6WEpKDGhKN7s0Uiu+n/R7c0eiU8YAEkvBkCicDDjA/nltrpv9V4/7D6/Q8bMLRm4pVPpMi5j14RJGZdAsVk8l94PLCn/fE0q/1KWa8WTtQPMHgmQfdRTn7Cyy+0hhAGQ9GIAJAoHrjIhE17w/7WnDjhrozUACn37rMgutKBF5BIoqoY3RsZh8Z4wK+MSSDEd5Ps/44Pyz9Wk8i9lbRkfOmNf1bv6/3+YhAGQ9GIAJAoHmameArdFuf691rU2qh9124YtT4Kianhu0GrY7aF/P1VIOx7vCeD5maWfcxXmrgnlX8oqefay7O9lJJsVGHC7HMue2eaNw08MgKQXAyBRuBh8l/dLiZVxlcbYMs6n3XOLrLi7q1y6beGuo9UYKJUz6jHn6hljPD+raeVfKuJaqnD3LPPG4LrPsm9j+Z7WEAyApBcDIFG4WPi9s46f6vtrck8CkXXl67J9C3MjViVDUTU8NWAVbDz7FxgbR5Vfg/ngKvmz/s1qTvmXsmIjqzW5KKD+eEOOYdmv5o2hGhgASS8GQKJwsXe+/KL77SHfX7NtsrMYcRufds8rsrpn/M7bcbhaw6QK5J2Rl4BLzpqtieVfykqLk79DH0XOVjdaZqrnHziZB43vXwcGQNKLAZAoXORnljibd8y317hmaq727R6zMWtSoKga2vRbyUkfgTbjffl3saSTfFwTy7+UZbN6ShSlbzS+/2VdnPe3vmZ83zoxAJJeDIBE4WRMG/mFt3N61fsW5wE9rpX7n9hb5e4FxTbc30Oe/Zu1NUP3UKmMxMXOmoBN5UoVNbX8S1mzP5a/S2xXY/u1FnlK7CQsNLbvAGAAJL0YAInCSWxX+YU39/Oq901YKPcdfJdPKyNMWJcKRdXwWN8VsPDsX+DZLLIgdGQE8Efb0CmhoteuGfJ3Gdna2H73zJb9Drit+ivkmIgBkPRiACQKJ6lrPBMHqgp1876U+8Z0qLLZQosND0bFQlE1/Lk5PUCDpXJc9/25tppY/qWsvDOeWxOyDLxvdOJLss+VvYzrM4AYAEkvBkCicGItAqKuq/qyrs0K9Gkk90tdW2Wzv2845F7to9jKs39Bc2Jf6QB4bJfZIwoMV6mhrROM6e9UoucSetYRY/oMMAZA0osBkCjcuMpebPjN+z6H1ntmZ1ZxeazIakOrXsuhqBqmbEwL7FipvDFtfD+LW1Os6Sd/p2ntjOlv8c+yv+nvGtNfEDAAkl4MgEThJm6Y5z4yb1yXGuf+u8rmpm5Kg6JqeLjnchRZTSjlEW52THXWc/zZ7JEEzrHd8neKug6wFAa3r+J8oNdNsr+k2OD2FUQMgKQXAyBRuHEtLRZ1XcUrHzgcwNCWcp99CyptqthqR+veK6CoGiatTw3SgKmcY7uDH5SM5HB4lmNLDnIo2/GHZ3JTTS2gDQZA0o8BkCjcOBye2aQV3d93cr98rvs1Va4bPGNLOhRVwwNRsSi08Owf6fDXd/K4i24f3H7GPiX7WTcouP0EGQMg6cUASBSO5nwmvwSXdy//3NoB8rmpb1bahNVmx+N9V0JRNYxbW7NWUaAQ5FqTd8jdwbu38ehO2Ue3BkDuqeD0YRAGQNKLAZAoHLnuIxv7VPnnxj7t04zMOdsOQ1E13Nd9GQqKefaPdCrKBbpfLY+9UweC04drPezZHwenfQMxAJJeDIBE4Sj7aMUrSeQc95QYqWS5OJvdgSf7r4Kiahi1OsWAAVNYmPKaPPbihgW+7cJsIOp62f6hdYFv32AMgKQXAyBRuBr+YPmJHlsnej8zWMKCnUegqBpadluKvKKat4oChaiNo+TxN+nlwLe9eaxse/iDtaJ8DgMg6cUASBSuXLXQFv7g+dnUN50rTPT3+jKb3YFnBq6Gomr4bWWyAQOlsJF50HmPXn2gMCtw7TocwIhHZNsbRwWuXRMxAJJeDIBE4SoxxnnT/T3ycVGunPkbGQGcTPD6skW7j0JRNdwVuQQ5hRaDBkthY9j98hjcOz9wbaZvkm32+FvpWx5qMAZA0osBkChcFeXIMy2REcDZQ/JSsCsQerlEZrc78PygNVBUDUNik4wdL4UHVxHy+V8Frs25/3a2+XXg2jQZAyDpxQBIFM4m/N0543ei50tySSevu8fEH4OiamjRZQmyCnj2j4Lg4Gp5HPZrGphCzfmZnjPbh7fpby9EMACSXgyAFHh5p4HtU+R6shTaVvWRX4x/vifX/Y2M8Pr35nA48OKQtVBUDQOWJho7Tgof1mKgZ0N5LB4JQGBzLX046rFaMfnDhQGQ9GIApMAoygF2/SnXl+1az3m/zbVAwTmzR0aVydjsLPtSV/63TyPAVvGs3th9J6CoGu74NQZn84oNHiiFlRnvy+NxZS997djtwNB7ZVvbJgVkaKGCAZD0YgCk6rMWAQmLgFkfyrDnqh/nqrQfGQHsnmX2KKkyNivQ60bP39u8LyvczeFw4NXh66CoGvrE7Dd4kBR2tk+Rx+OYNvraObhKttOzYZXLGtY0DIDmeEIIsUgIcUzIN/+1Ms+/IYRYKoQ443y+ZQVt1BFCDHfuky+EWCiEuLHMPjc7+8l37jdMCHFxmX3aCCG2CyGKhBCpQogv/fxdGADJP3ab/FBd8A3Q+6bSoW/YfcCq3sDpZGB5N/mzmf9n9oipKtPf9fwdJiyscJeViSehqBpu/yUGZ3KLDB4ghZ2cE55jMudE9duZ+S/ZhvbfwI0tRDAAmuNFIUSUkEGvogD4LyFEFyHEZ8J7ABwlhDgihHhWCHGvEGKlEGKXEOIC5/MXCCHinT+/17nfUSFDo0tjIcPhECFEc2d/FiFEWz9+FwZAqprDIW+ejukA9L+1dOgbcLucNHB0Z+n7a45sd/7L+wbAUmje2KlqrgK5Pa4FivPKPe1wOPDP39ZDUTX0jPZeHoYooEY/IY/LHX9U7/U5xz2z3I/HB3ZsIYAB0HwVBUCXRqLiAFhXyKDWrsTPbhBC2IUQf3c+ftH5+IYS+7wj5Jk+1192XyHE/jJtjxZCbPR59AyAVJlTicCKKFkWpGTo632zXFPz0Drvs/QcDmBgc7l/Yoyx4yb/5J6SRXJju1b49NqkU1BUDbd2XoxTOTz7RwZZ2VN+fsz4oHqvX91Pvn78c4EdV4hgADRfdQLg086f1yvz891CiG7OP3d3Pi6pnvN1TzkfrxVCDC2zz+tCCKsQ4iIvY6oj5MHi2hoKBkAqKeswsH4IMOrR0qEv6jpg9icyzFmrngCw8eAZnJr5nXztgm8MGDgFg8PhwJuj4qCoGrou3Gv2cCicHN7muX/Ph8+cUuw2YOAd8vW7ZgRnfCZjADRfdQLge0KI4gr2XyaEGOP881jn47KKhRDvOv+cJIToVOb51s4+r/cypq7O50ttDIBhLu8MsGU8MOGFMhM56gNT35IT6RaWYQAAIABJREFUOfy4gfp4ViGadozGx786/wXet4n8QKYaZ0PKGSiqhmadF+NENi/lk4HsdlkLMDJC1gb0h2uVmz5Krb0FhQHQfIEMgLFCXsIVQgbApRXsYxHyUrAQMgB2LPP8o84+r/MyJp4BpNJ2TvfcJ+PaJr4IbJ0gC6hWw+xth6GoGpqqC1AcdVOlteUotL0zZiMUVcOvC2rfPVRUA8z7ssri5BWa+lb1XleDMACar6ZdAi6L9wCGO9cH5fAHgfVD5SVgnf4zYycUVYOiatg00Nl+TMcADJaMtDk1E4qq4ZZO0Th6rsDs4VA42jvP+fn0gO+vOZfuqWt5Ojl4YzMZA6D59EwCebvEz64XFU8CKXkpt50oPwkkoUzbowQngZA/XPf6HVgakOYcDgceiIp1B8Dvu3SX7Q9uUauq8IeDD8ZvgqJq6Dhvj9lDoXBVmOW5QpGZ6ttrljs/cya/GtyxmYwB0BxXCBnqWgr55v/o/PPNzufrOx+/5Hy+nfNxycuyo4QQh4UQzwhZ5mWFqLgMzHLn888496+oDMwgIcvAfCJYBob81beJs0xCYL7kD5zIgaJquO2XxXggKha3qXNh6+4sEn1sd0D6oODblnZWXsbvGI2MzHyzh0PhbNLL8vNj0+iq97UWA/1ukfvvnR/8sZmIAdAcT4oKJlIIISY7n//Iy/NdS7RxiZBhLlMIUSBkweebyvRzsxBCcz6f6dy/Tpl92gghdgh5T+EhwULQ5A9rkee+v7wzAWlywrpUKKqGD8ZvQqd5e6CoGvYOfDkwyzqRYT6cuBmKqqH97F1mD4XC3fqh8vNjyutV7+u6ZNy/GWCzBH9sJmIAJL0YAMPZ2UPyw7L7NQG7PPvJpC1QVA2jV6dg9QFZPy6yeyfZz8jWAemDgmtXxjkoqoYmHaORdqZ8YWgiQ51K9HxOVVCovJTJr8h9V/QwZmwmYgAkvRgAw1naBuf9eXcFpDmLzY47fo2BomqIP5KFYqsdLboswT3qn3B0refffTxkmk8nyxD/48ydZg+FSP7jdPBd8vNjf7T3/U4nyX26XgWcyzBufCZhACS9GADDWfwc+YE54e8BaW7rITlrtGW3pbDb5RnF76bvgKJqODTwKdlX3PCA9EXBEX8kC4qqoXEHDSmnfK/9SBRU0f+Tnx8Lv/e+zxLnlYZpbxs3LhMxAJJeDIDhLG64/MCc/XFAmhscewCKquHradvdP1u0+ygUVcPQnj8FNGyGq7Qzefhr11EknciBzR74WdVfTNkmZ2//uSPgbRNVW1Ks/PwY2Lzi21UsBXKJysgI4MAS48dnAgZA0osBMJy5/sUcoGKpriXDpm9Od/8st8iKZp0Wo5X6u3PCSV259iz5bXNqJlpELnGX2Gn+awzeGrUB3Rbuw/wdR5ByKtd95rU69h/PhqJqaNRBQ9KJnACOnEgnSyHQ42/eKxbsnC6fG9QibFYdYgAkvRgAw9msj+SH5obfdDeVW2RF047RUFStXNmQj5wzSk/2f1j2t22y7v7CTey+E7i182IoqoZWvZbj9l9i3EGw5HZnlyV4e/QGRGn7sGDnEaSezvM5FH49bbs8gzt1e9U7Exlt2tvy82NN//LPjXvW+3O1FAMg6cUAGM7GPy8/NOPn6m5qxf4TUFQNj/ddWe656ZvToagapvT9RvY39U3d/YWTWVsz0MQZrj+ZtAUFxTbY7A4kncjBnG2HEfnXXrwxMg63/bK4wlDYInIJ3hmzEb2iE7Bo91GkncmDo8xltKQTOWjUQe6fcIyfBxSCtoyXnx/jnyv98+N7PGuX55wwZ2wmYAAkvRgAw9ngFvKDM32j7qa6LdwHRdXQYW75yzOncorQqIOGZzqMdpZzuBoo4iVGX4xZk+IOcj/O3AmLze51X6vNjv3HszFrawZ+XRCPf/623n3WsOx2d9eleH/cJvRevB/Re47h31O2QlE1/HvKVgN/OyI/nMvwzPItuU75oh/lz2f+n3ljMwEDIOnFABiuHA4ZxCIjgLNpupt7ftAaKKoGbfexCp9vOzIOiroIWX1bBOysY23mcDjQa3GCO7BFafuqdX+fxWbHvqPZmLElHZ3n78E/hq9Ds04Vh0JX+R6ikDXiEfn5sXumfFyUA/S8Qf7s4Gpzx2YwBkDSiwEwXOWd9qwCYi3W1dTJnEL35IHMvIrbGrvmIBRVw8L+nwZ05nFtZLXZ0X72LncoG7kqpdwlWz2KrXbEH8nC9M3p6DhvD14Ztg7NOi/mqh8U+mIjnZ8fn8jHWyfIx8PuC7u1xhkASS8GwHB1bLf84OzXVHdT83ccgaJqeHnYWq/7HDqdB0XV0LbTYNlvz4ZyKToqpdBiw+e/b3XX4puxJb3qFwVAIAMmUdC4itf3vhmwWYGRjwZsIltNwwBIejEAhqsDS+QH56jHdDf10yx5tqrX4oRK93t+0Bo0UheioFdT2XdSrO6+a5PsQgveHr0BiqqhWefFWLL3uNlDIgotNqun3l/cMM8ScSXvCQwTDICkFwNguHJdOtFZNd/hcKBVr+VQVA1rkyqv7zdwaSIUVcPqge87q/r/oKvv2uRUThFeHLLWXcplQ8oZs4dEFJpmf+KZTBYZAcz7wuwRmYIBkPSqMQEwM6+YC9MH0oqogISwlFO57jNWhZbKC7C6lhn79Jfesu/+zQC791mt4SIjMx9t+q2Eomq4v8cyTsQgqszumZ77lyMjgIzNZo/IFAyApFeNCIAFxTY81ncFmnSMxpoDXEUiIBZ8LT88V/fV1czvGw5BUTW8O7bqUjIOhwOte6/ALeoCWKIaOkvQbNLVf02XcCwbD0TFQlE1PNpnBVJP8x85RJXKz5SlYCIjgJGtw27yhwsDIOlVIwKga41ZRdVwV+QSfkkGwpTX5Qfo9im6mnFNWPhtZbJP+0f+tReKqmH7oDdk/0t/0dV/TbblkGdpt+cHrcGJ7EKzh0RUM0x8SX5+bJ1g9khMwwBIeoV8ADxyrsC9woHrXrNnBq5GTqHF7KHVbCNayQ/Q5OXVbsJqs7sDzK6Mcz69Ji7lNBRVw/+6dpX9D20Zlv+CX57gWdqt7cg4ZOXzeCby2dk0YNefYX0LCQMg6RXyAfAb5/qkb4/egJPZhXi453L3klg2HQvfhz3XTLqTlc/crcyO9LPus7K+/l1YbXbc020p7lBnw97NeRP3iX3VHkNNNGfbYffSbh87l3YjIvIHAyDpFdIBcHNqprse2t6j8sb43YfPuc+c9I3Zb/IIa6jifM8N1AW+nbmryG8rk6GoGr6Yss2v1/13piwbc2DQC877EPtVeww1zbi1B31e2o2IyBsGQNIrZAOgze7AS0NlWYyO80qvL7tg5xH3l+iCnUdMGmENdiZFBq+o63Rdfn1nzEYoqoYpG/1bSm7p3uOybmCPjnIcox+v9hhqCofDgT4x+93HbY9F1VvajYgIYAAk/UI2AE7fnA5F1dAicgnO5JZfMcK1TuqtnRdjz2GWzfBL6lrn/Xf3VruJgmKbe01ZfyflFBTbcNsvi3GvOh0O12y+c8aseGEGq80Odc5ud/gbsSqZK28QkS4MgKRXSAbArAIL7uu+DIqqYcK61Ar3sdkd+GjiZvfkkJM5nEHpM1cdrUkvV7uJNQdOQVE1PNJrebXCjGv28OGBbeRYNo6q9lhCWaHFhn9P8Szt9ufm2ht0icg4DICkV0gGwB6L9kFRNTw9YFWl90hlF1rw1IBVUFQNb4yMQ5GVN9P7ZJ1zPd45n1W7iV7R8gzs/2btqtbr52w7DEXVMLr3j7rDaKjKKbS4L5M367QYMfHHzB4SEdUSDICkV8gFwJRTuWjqnCG52oeizwdP5bpLkbSfvYuX1nyx+GcZupZ1qXYTrvszq3sP5tm8YjTpGI1HO0yUY+l6Va1azzMr34KXh3mWdotLOW32kIioFmEAJL1CLgC6Lut+MmmLz69ZfeAUGneQ91dNXF/xJWMqYcYHMnRtGl2tl2fmFbvvZzuVU/7+TF+5zo6d6f+AHM+OqdVuK9S47vm7rzuXdiOiwGMAJL1CKgCu3H8Siqrhlk7ROHgq16/Xjl0jy2s06RiN9ck821KpsU/LwLXvr2q9fNHuo1BUDX8fvEbXMCatT4WiapjZ37ks3fR3dLUXKnYfPodGzn+QbD1Ue85qElHoYAAkvUImABZb7Xiqv7yfr2e0/8WJHQ4HfpyxE4qq4e6uS5F2hsvFeTWwuQxch7dW6+Ud5sqzW90X6SvgfORcARRVwwsdR8rx9LgWKK7Zf292uwP//G09FFXDf2bsNHs4RFRLMQCSXiETAF0Fcu/vsazay7wVWmz4h/PL97lBq5FbZA3wKGsBuw3oWk8Grqzq3b/3WN8VUFQNK/ef1D2cV4atg6IuQm6f5rrOSoaKWVszoKga7vg1Bie5ti8RBQkDIOkVEgHwdG4RWnSREzlmbsnQ1daJ7EI8GBULRdXw6eStLLZbVs5xz6QLm/8BOf1MPhRVQ9OO0cgLQMAetjwJiqphycBP5Ljmfq67TbNkF1pwfw9Zvmj06hSzh0NEtRgDIOkVEgHQdcP8K8PWBSSw7cw4h2bO5eL6L0kMwAhrkSPbZdAacFu1Xj5tkyzQ/daoDQEZTuLxHCiqhnc7D5Tj6n0TYKveGWCzdXeWL3pqwCoUW7nEGxEFDwMg6WV6AIw/khWUG+bnbj/snqm6aPfRgLVb4+3XZNAa82S1Xv711O1QVA1DYpMCMhyHw4E2/VaisboQRb0aybGlrAxI20ZKOpHjV/kiIiI9GABJL1MDoMPhwJuj4qCoGr6bviPg7Udp8ozMbb8sZikOl81jZcj68z2/X2q3O3BPt6VQVA3b0gIX1ns6i0rHDXpXjk37KWBtG8HhcOC9cbKkzWe/V29iDRGRPxgASS9TA+DCXbKcyO2/xOBYVkHA27fZHfjXhM3uJctOV7CmcNiJ7VrtkBV/JMtd2LiyFVr8tS0tE4qq4avIXs7L07cD9ppzCXXxnmNytY/Oi5F+Jt/s4RBRGGAAJL1MC4AFxTY80ms5FFXD0OWBuZxYkawCi7u8zJuj4nhv1rwvZMhaO8Dvl45aneKcXON7kW5f2OwO3N8jFreq82Dtcb2zRM22gPYRLAXFNrTuLWdFD1zK+02JyBgMgKSXaQFw0LIDUFQNrXuvQKEluGv4ppzKdc8y7jB3d3gvFzf5VRmwdk73+6UfjN8UtNVWXLUF9wx+TY4vtmvA+wiGgSWO44JirkVNRMZgACS9TAmAR84V4FbnLF1t9zFD+ly5/6R7ssnvGw4Z0mdIGu5cdu3gKr9eVmixuf/Okk7kBHxYKxPlKjC/dO8ixzf8gYD3EWgZmfnu2ebRe4w5jomIAAZA0s+UAPjNNDmT9O3RGww9G+e6hNmkYzTiUsJ0ubieDWXAOu3fZfe45NNQVA0PRsUG5e+syGrDnV2WoIU6C/ZuDeQYTx0IeD+B9PnvW2UJm7Ebw/usMhEZjgGQ9DI8AG5OlTf8N+6g4f/bu/P4qMpzD+A/26u0tzVWe71VqT2CWxG8Sq1VtFdxqVatWqhbXQraet1q1dp6WMREBAWVRUERcGEX3AA9JIR93/ewr4EQwk4SCNnnuX88Z5LJMFlmzsycc8Lv+/nMx2TmnPc88Z0Jv7znnPddm5vcO3MDgYC88PkKMUxLrnw9U3YdOsku2C8u0GCVmiJSEt1ay70zNohhWvJSApc3C/5hsK3vbfZ1in0SdiynZm/aX/XHxKYEjIgSEdWFAZCcSmoArKgMyB3954hhWtL5mzVJOWa44rIKuXvAXDFMS27rO/vkWi5u/0YNVm/+POpd77H/n321LCcBhamJ9l3hfd40tc4hNyXsWE6UllfKTe/qjUWvf+tsPWQiolgwAJJTSQ2AYxbrKhKtUifLQRenZMnLL5Zf28vFPTn8JFoubusM+/q6q6PaLb+orOr6ybz8xK1vW1BcJhd1mSS/NkdJIPUMrbXAe5N4D569tWrd6oIY160mInKCAZCcSloAzD9eJr/qruukfjw3/neRRmv5zsNycRe9gP/DmSfJuq0rR2uoGn5PVLtlZOk8d7f0mZWgwqr9xZ63Ma/Pb7XWxUMSfsxo7Csolsu6Zei61UudrVtNRBQrBkByKmkB8A17ndSb350Z10mEnRixYEfV2q0nhdnvaKj65umodus6fo0YpiWpE9cmqLBqoxZli2Fa8tnbL8YUVhPtpbErxTAtuXfgvJNn5JiIPIcB0B03APgOwB7o//w/hr1+CoA0+/ViALMAtAzb5kwAIwEU2I+RAH4Sts3lAGbbbeQCeM1uO9SfAKwHUGr/t12UP0tSAuCWfUc9uU7qkaLSqvWC3TwlnTTWPzVUTese1W5t7Ym0p6zbm6DCqu0rKJYLOllyY6ehWuvrZ4kcP5zw4zZEcMWSCzpZsmrXEbfLIaKTGAOgO+4A0ANAe0QOgCaAQvv1VgDGQsPg6SHbZADIAtDGfmRBQ2VQCoC9AD6322hvt/lyyDZtAFQA6Azgl/Z/ywFcE8XPkpQA2OFTPa33xGfxXUEiHm7pM0sM05LMtXlul5J4Y+y1dpcMbfAuOYeLqu52Tdb1bu0+mCeGacmRd1prvavGJuW4damoDMhd7+sNTK98udrtcojoJMcA6L7wAHgKgDxoCAxqAiAfwFP29y3s/UKD2rX2c5fa3z9j79MkZJtO0JHA4CjgOGiQDDUZGhobKuEBcMYGneD3oi6TZNv+6KYeSQbzK12B4s1J690uJfEG36iBasOkBu8ybskuMUxL2n0wL2FlhQvO1zi+z9Na79hHknbs2oxeVH0DE9eUJiK3MQC6LzwANrefax223UQAw+2vn4CGu3D5AB63vx5h7xOqtd12M/v7XQBeCtvmJQA7G1g7kOAAWFpeWbUOb0+PBqwvl+WIYVrS/sP5bpeSeO9crIEqd0WDd3l+zIqkr3O7/cAxMUxL7ukyQOvtcY5I2fGkHT/ckaJSufL1zIQtg0dEFC0GQPeFB8Dr7OfOC9tuCIBM++suADZHaGsz9DQuAEyx9wl1nt12G/v7MgAPh23zMPR6wNo0gb5Zgo+mSGAAHDpnm+eny9hhh42Lu6QnfE1iV1WUiQSnVils2LV8lZWBqju3F207mOACa7q1zywxzO+kqNelUY9axlu3CVlV80aWe+QGJiI6uTEAuq+2AHhu2HZDoadnAQ2AmyK0tQV6mhfQADg47PWmdtvX2t+XAfhz2DaPACipo940u40aj0QEwP2FJdLqtck6XcYS706XEQgE5Ko3NOQs2XHI7XISJz+n+qaKyoaFmPV7CsQwLfnlqxlSWp7c4PP2ZF15ZEa/jlr3+GeSevygdbkF0syeA3HB1uSGYCKi2jAAus9vp4CTNgIYvLbuD+/P9fx0GU+NWNb45wPctUSDVJ/LGrxLcAS3w6eLE1hYZKtzjuixu9lT1/S6QKQiuau2BAIBuX/QAjFMS54dvTypxyYiqgsDoPtquwnklZDnTkPkm0B+E7LNNTjxJpAj9r5BJk68CSQ9rJ4MeOAmkKzd+VUrRyz1wahaMOh48S7luFk3QYPU0FsbvEvw7u2hc7YlsLDIAoGAXPvmNGluTpTSnr/Q2rfPSWoNE1burhoBzT3i3jWIREThGADd8WMAV9oPgY66XQngF/brJjTwtYNO4TIGkaeBWQ09nXstgDWoOQ3MGdBpYMbYbbSDzhcYOg3MddBpYEzoNDAmPDANTCAQkPsGzRfDtOT5MQ2/2cBNK3YeFsO05IrXMz0/WhmzhYM0RI17rEGbl5ZXyi9f1RUv1u9JzlKB4V6zr71b2u9BrT39laQd+1hJufympy4XOGD65qQdl4ioIRgA3dEWEa6jAzDMfj04EXQe9Hq82dAQF+osAKOgc/sV2l9Hmgh6jt1GHoBUnDgR9H0ANkKvB9wAnS8wGnEPgNZqXTbs0lfTfTNqUlpeKZe+qsvCbdlX6HY5iZH5qh2izAZtvmjbwaobeNwKxfO2HBDDtOSl13to7X1bigSSU0uvDL0G8X97z2jcNwcRkS8xAJJTcQ2AlZUB++5NS/pM2RSXNpPlgY/0Wq8xi3e6XUpifPVXDVHz+jdo8z6ZG10fxS2rqJT/ScuUS8xvpOKNn9lT2KxM+HG3HzgmF3WZlLTVT4iIosUASE7FNQAGR/9apU6W/OPenPalNsG7Tv85bpXbpSTGp3dqgFr9RYM2D67GMXaJu4E4uPbuhn53a/3TeyT8mB3tax//8sliCSRpxJGIKBoMgORU3AJgZWVAbu8325ejfyIiMzbqiiU3vj3D7VIS470rNUDtmFvvpgXFZdLcXrs553BREoqrXUaW/lHxRs9uWv8H1yb0eNPW7/X0yjVERCIMgORc3AJgRlaeGKYlLV+bLPlF/hr9ExHJP15Wdefy/sJGttRXICASPIV6qP47eqes2+uZMFxUWi6XdE2Xy82xEkg7U3+Gg4mZrqe4rEJueHuGLg2Y7s2Va4iIRBgAybm4BMBAICB39J8jhmnJO5OTt2RYvN3WV0cwM7L2uF1KfB0/rMEpNaVBS6qlTlwrhmlJl2/WJKG4+v112FIxTEt29r3Fvo7xvYQcZ+CMLWKYllzdY6ocLUnunINERNFgACSn4hIAgyNGl3XLkMPHSuP09k6+Lt+s0dON361zu5T42rvOnkzZaNDmt9g38qSv8UYQHrd0lximJR/0ekV/jonPx/0YuUeOV017M37F7ri3T0QUTwyA5JTjABgIBOQP788Vw7SkV8aGOL69k++bFTlimJbcO3Ce26XE1+ap9vVzberdNC+/WAzTkgs6WXKkyBth/tCxUmnWyZLLzXGSm70lIcd4bvRyMUxL7hs0nzd+EJHnMQCSU44D4PQNe6tWSzh41N/Xzu06VCSGacmFnSfJ8dJGNPfb8uEaAEe2r3fTr5ZpCL57QP03iyRTcJqej+duj3vbC7bqnIfNOlmyNjc/7u0TEcUbAyA55SgABgIBuWegThfSc5L/L5oPBAJydQ9d/WHhtoNulxM/M3tpAJzwXL2bBqdd8dpo7sdzt4thWvLARwsavE8gEJDC4jLZsq9Q5m4+IF8uy5GBM7ZItwlZ8uTwpXLPgLlyTc9pVXc8dx3vjWseiYjqwwBITjkKgLM27a9a9aOx3Dn77Cg9FThwRmJONbri239oAJzRs87NAoFA1fJn87YcSFJxDRMcnW3WyZKDR0ukrKJSdh85LsuyD0v6mj3y6bzt8mb6enlx7Ep5aPBCuemdmdKim17T15DH7/vP8fX1q0R0cmEAJKdiDoCBQKBqsuDujeimiU/skaYOny52u5T4GXW/BsBln9W52ZZ9hWKYllzSNd2Ty58F7zRvlTq5asqehjxapU6WW/vMkkc/XiT/HLdK3p68QUYs2CGZa/Nkdc4R2VtQ3HjXgCaiRokBkJyKOQDO3XygKizsKyhOwNvbHatzjohhWnJ56uTGEwoGXa8BcFNmnZt9Nk/D7yNDFyWpsOgMmb2tRrC7sPMkue6t6dLug3ny9MhlkjpxrQyatVXGr9gtC7YelO0HjklRKadzIaLGhwGQnIopAAYCAblv0HwxTEtSJ65N0NvbHeUVlVWnDjfmFbpdTnz0bqYBMK/ua9yC8+19ODMxEy07VVEZkKU7DknW7nzZX1jSeAI6EVGUGADJqZgCYPCuyYu7pEtefuMZ/Qv685CFYpiWjFyY7XYpzpWXVE8Cfaz2G1vKKyql5WuTxTAtWZPDO2GJiLyMAZCciikAPjhYp+R4dXxWgt7a7uqTuVEM05IXx650uxTnDu/Q8Nf9bF0SrhbLsg+LYVpyxeuZUsGRNSIiT2MAJKeiDoCLtuno30VdJknukfqXFfOj2fbdzb/tPd3tUpzLXqABsN/ldW723rTNYpiWPDNqWZIKIyKiWDEAklNRB8BHhi4Sw7Sks0fWiU2EwuIyaWbfZbrX7ze4ZH2lAfCT2+vc7H57ouVRixrBaW8iokaOAZCciioALss+VHX35a5DRQl+e7vr9/aUI9Zqb6yHG7P5AzQAfvl4rZscKymXi7roZMjZB48lsTgiIooFAyA5FVUAfOyTxWKYlphfrU7wW9t93SZkiWFakvatz+9yzuisAXByl1o3mbFxnximJdf3ms51cImIfIABkJxqcABcsVNvEmjeeZLsPNi4R/9ERCas3O3JNXGj9kUHDYALBta6yRvfrTtpgj0RUWPAAEhONTgAdvxUR/9e/mJVEt7a7tt95HhV4D1W4uPJhD++TQNg1te1bnJ7v9limJZ8uyo3iYUREVGsGADJqQYFwODqGM06WbLjwMlzjVibN6eJYVoy32Pr4kalXysNgDsXRnx5f2FJ1coaB482jvWciYgaOwZAcqpBATC4QsRLjWFevCj8fcwKMUxL3pu22e1SYhMIiHT/Lw2AhyPf3Rs81X1H/zlJLo6IiGLFAEhO1RsAs3bnV43+bd1/NIlvb/cNm79DDNOSRz/25tq49Tp2oHoVkPLSGi9t3lsoqRPXSqtUXf2j56T1LhVJRETRYgAkp+oNgP83Qkf//vH5iiS+tb1hba6G35avTfbn6hh7Vmv4e/tCEREpLa+Uiatyq+b8Cz5uendmo53Um4ioMWIAJKfqDIDr9xSIYVpyQSdLNu8tTPLb230VlYGq9XHX5Ua3XJ4nbMwQSU2R0oHXSa+MDXLVG1OqQl+zTpY8OXypzN60Xyr9GG6JiE5iDIDkVJ0B8NlRy8UwLXl29PIkv7W949GPdeWT4Qt2uF1KVCoqA7Lh2/4iqSky7dUbq4Lfb3pOlb5TNsmefI74ERH5FQMgOVVrANy0t1AusJdD25Dnw9GvOOk3dZMYpiXPj/HHKfB9hcUyYPpmue6t6dK/aweR1BQZ1bWdPPrxIsnI2iNlFZVul0hERA4xAJJTtQbA4B2wT49c5sJb2zvmbTkghmnJdW9Nd7uUWgUCAZm/9YA8O2oADfDQAAAgAElEQVS5XNh5UtVo3zep94qkpsjh9DfcLpGIiOKIAZCcihgAt+w7WjX6tzY336W3tzccKymX5nao8tqNEvlFZfLx3O1y07sza9zU0f7D+fL18hypGP5HvQlk+Qi3SyUiojhiACSnIgbAFz7X0b+/DV/q0lvbW+56f44YpiUTPbBSRiAQkJW7jsjLX6ySS7qmV4W+y7plSJdv1tS8WeWDazUAbpnmXsFERBR3DIDk1AkBcNv+o9LMHv3L2n1yj/4FpU5cK4ZpyWsTslyt49tVuXLne3NqjPbd3m+2jFyYLUcjLVf31vkaAPdxjj8iosaEAZCcOiEA/nPcKjFMS574bImLb21v+W51rhimJXe+595qGfPtaxEN05KLu6bLS2NXyrLsQxII1DKFS2lR9STQx48kt1giIkooBkByqkYAzD54rOp6t1W7GBqC8vKLq+bOizjSlgSPf7ZEp+QZtVwOHSutf4eDWzX89ThHl4QjIqJGgwGQnKoRAP/9pY7+dfh0sctvbe+5vtd0MUxL5mzen/Rjbz9wrGpC7u0HjjVwpzkaAN9rndjiiIgo6RgAyamqALjrUFHVFCLLsg+7/d72nOCNMX2nbEr6sYPXID4ezWn51eM0AH52V+IKIyIiVzAAklNVAbDT12vEMC159ONFbr+vPWnEwmwxTEseHrowqcctKC6Ty7plRD/6OLefBsCvn0xccURE5AoGQHIqBYBs2LlXLuqio39Ldxxy+33tSRvydF3kFt0ypDyJq2kMnbNNDNOSW/vMqv2Gj0jSX9EAOOW1xBVHRESuYAAkp1IAyL9GLxDDtOTPQ5I7uuUnlZUBaZU6OanT41RUBuS3vfXaw9GLdka389hHNAAu+igxxRERkWsYAMmpFADS/OWvxDAtWbjtoNvvaU/7yyeLxTAt+XTe9qQcL3NtnhimJVe8ninHSyui23nIzRoA101MTHFEROQaBkByKgWAnP/iF/LARwvcfj973oDpm3UqltHLk3K8BwfryOxb6Rui37lPCw2AOVzNhYiosWEAJKeqAuD8LQfcfj973oKtB8UwLbmm57TorseLwfo9es1h886Tol+DuLJCJO1MDYD5uxNTIBERuYYBkJxKASD39JmS8EDTGBwvraiaKifncFFCjxWckzGm0cbCPA1/aT8RqXBn4moiIkocBkDvOh1AfwA7ARQDWADg6pDXTwGQBmCP/fosAC3D2jgTwEgABfZjJICfhG1zOYDZdhu5AF6z226oFACSsWKb2+9l37hn4DwxTEvGr0jcyNrBoyVycdd0e07GGO7K3r1cA+C7l8a/OCIich0DoHeNA7AOwA0ALoKGvQIATe3XTQCFANoDaAVgLDQMnh7SRgaALABt7EcWgO9CXk8BsBfA53Yb7e02X46izhQAkp+fnLtaG4Pu360Tw7Sk6/g1CTtG8FrDuwfMjW1kdv13GgAHt41/cURE5DoGQG/6IYAKAHeFPb8KQA/oCF0eNAQGNQGQD+Ap+/sW0I69JmSba+3nLrW/f8bep0nINp2gI4ENHQWssRQc1S99zR4xTEtu7zc7Ie2XllfK1T2mimFa8s2KnNgaWTxEA+DnD8e3OCIi8gQGQG86Hdopt4Q9vxB6qre5/XrrsNcnAhhuf/0ENNyFywfwuP31CHufUK3ttpvVUlsT6Jsl+GgKBsCo7CssrlqXN/94Wdzbn7BytximJb/uMVVKy2OccHpqmgZA6+X4FkdERJ7AAOhdC6Bh7zwA3wfwKIAAgE0AroN22nlh+wwBkGl/3QXA5gjtbgbQ2f56ir1PqPPsttvUUlea/XqNBwNgdG54e4YYpiUzN+6Le9vBawzfm7Y59ka+eUoD4Jx341cYERF5BgOgd10IvTlDoKeDlwAYBWA9qgPguWH7DAUw2f66CzQshtsCPc0LaAAcHPZ6U7vta2upiyOAcfDSuJVimJa8m7kxru0u33lYDNOSi7uky4GjJbE3NOxuDYArx8SvOCIi8gwGQO/7EaqD3jgAk+DuKeBwvAYwBqMX7RTDtOTBwfGdPPu50cvFMC15+YtVzhoa8GsNgNtmxacwIiLyFAZA/zgTGt7+D9U3gbwS8vppiHwTyG9CtrkGJ94EcsTeN8gEbwJJuM17C8UwLbn01XQpq4jxOr0we/KPS3N7jsG1uQ7vyu7ZVAPgAQenkYmIyLMYAL3rdgC/h47E/Q56B/BiAKfar5vQwNcOOoXLGESeBmY19HTutQDWoOY0MGdAp4EZY7fRDjrVTNTTwDAARqeyMiD/k5YphmnJql1H4tJm74wNYpiW8yX5igs0/KWmiJQcjUttRETkLQyA3vUAgG0ASqGjfQOhgS0oOBF0HoAS6PWCrcLaOAt63WCh/RiFyBNBz7HbyAOQihgmgmYAjN7jny0Rw7Rk6Bznk2gfL62QK1/XQJmRleessf0bNfy9+XPHdRERkTcxAJJTDIAx+mDmFjFMS54eucxxW2MW6zWF1/eaLhWVDpfk2zpDA+CAqx3XRURE3sQASE4xAMZo8fZDVfP1OVlHORAIyO/6zorbaKKsHK0BcPg9ztsiIiJPYgAkpxgAY1RcViEXddGbNnYeLIq5nXlbDohhWtKiW0Z8Jpae/Y4GwG+edt4WERF5EgMgOcUA6EC7D3TS5q+Wxbhkm4j8dZheS9htQlZ8irL+qQFwWvf4tEdERJ7DAEhOMQA60HPSejFMSzp9vSam/XccOCYXdLLEMC3Zuj9Od+yOeUgD4JKh8WmPiIg8hwGQnGIAdGDy2jwxTEt+1ze2CZdTJ64Vw7Skw6eL41fURzdoANwwKX5tEhGRpzAAklMMgA4cPFoihqkjeEeKSqPat7C4TFq+NlkM05LZm/bHr6h3LtYAmLsifm0SEZGnMACSUwyADt30zkwxTEumb9gb1X6fzN0uhmnJLX1mObqLuIaKMpHUMzQAFkZXDxER+QcDIDnFAOjQv75YJYZpSe+MDQ3ep6IyIDe8PUMM05KRC7PjV0x+joa/188SqYzPEnVEROQ9DIDkFAOgQ2OX6CTO9w9q+BJuU9btFcO05PLUyVJUWh6/YnYt0QDYt2X82iQiIs9hACSnGAAd2rr/qBimJZd0TZfS8oaNuv15yEIxTEveTF8f32LWjtcAOPTW+LZLRESewgBITjEAOhQIBKR19ylimJYs33m43u035BWIYVrSvPMk2X3keHyLWfihBsBxj8W3XSIi8hQGQHKKATAO/jpsqRimJYNnb613W/Or1WKYljwzyvkawifIfFUDYLoZ/7aJiMgzGADJKQbAOPho1lYxTEueHL60zu0OHSuVS7qmi2FasmTHofgX8tVfNQDO6x//tomIyDMYAMkpBsA4WJZ9SAzTkl91n1LnlC4DZ2wRw7TkD+/Pjd/UL6E+vVMD4Oov4t82ERF5BgMgOcUAGAcl5RVysT2yt62WJd3KKirlmp7TxDAt+Xp57GsH1+m9KzUA7pibmPaJiMgTGADJKQbAOLlv0HwxTEvGLd0V8fWJq3LFMC256o2pUlJeEf8CAgGRN36mAfDQtvi3T0REnsEASE4xAMbJW+kbxDAteeXL1RFfv3fgPDFMS/pN3ZSYAooOafhLTREpi/PdxURE5CkMgOQUA2CcTLUnd7753ZknvLZi52ExTEsu7pIu+wtLElPA3rUa/noZiWmfiIg8gwGQnGIAjJPDx0rFMC0xTEsOHSut8drzY1aIYVryz3GrElfA5qkaAD9ok7hjEBGRJzAAklMMgHF0S59ZYpiWTFm3t+q5vPxiubDzJDFMS7J25yfu4MuHawAc2T5xxyAiIk9gACSnGADjKDjJc+gSb29P3hD1WsExmdlLA+CE5xJ7HCIich0DIDnFABhHXy7LEcO0pP2H80VEpLisQq58PVMM05KMrD2JPfi3/9AAOOPNxB6HiIhcxwBITjEAxtGOA8eqbvYoLquQsUt2imFact1b06WiMgETP4cadZ8GwGWfJfY4RETkOgZAcooBMI4CgYBc9caUqqXebu83u8FrBDv24fUaADdlJv5YRETkKgZAcooBMM6eGrFMDNOSxz5ZLIZpyS9fzZD8orLEH7h3Mw2AeWsSfywiInIVAyA5xQAYZ0PnbKuaDsYwLek6PgmBrLykehLoYwcTfzwiInIVAyA5xQAYZ8FJn4OPLfsirw0cV4d3aPjrfrYuCUdERI0aAyA5xQAYZ6XllXJJ13QxTEv+8sni5Bw0e4EGwH6XJ+d4RETkKgZAcooBMAGeGrFMmnWyZP7WA8k5YNZXGgA/+X1yjkdERK5iACSnGAAT4FhJuWw/cCx5B5z/vgbALx9P3jGJiMg1DIDkFANgY5DRWQPg5C5uV0JEREnAAEhOMQA2Bl900AC4YKDblRARURIwAJJTDICNwce3aQDM+trtSoiIKAkYAMkpBsDGoF8rDYA7F7pdCRERJQEDIDnFAOh3lZUi3f9LA+CRnW5XQ0REScAASE4xAPrd0f3Vq4CUl7pdDRERJQEDIDnFAOh3e1Zp+Hv7QrcrISKiJGEAJKcYAP1uY4YGwEG/dbsSIiJKEgZAcooB0O+WfqIBcPQDbldCRERJwgBITjEA+t30HhoAv33B7UqIiChJGADJKQZAv5vwrAbAWb3droSIiJKEAdCb/gNADwA7ABQD2A7gNQDfC9nmFABpAPbY28wC0DKsnTMBjARQYD9GAvhJ2DaXA5htt5FrH+eUKGplAPS7Ee00AK4Y6XYlRESUJAyA3tQVwEEAdwG4AMB9AI4CeCFkGxNAIYD2AFoBGAsNg6eHbJMBIAtAG/uRBeC7kNdTAOwF8LndRnu7zZejqJUB0O8GXqMBcMs0tyshIqIkYQD0JgvAJ2HPfQ0dwQN0hC4PGgKDmgDIB/CU/X0LaMdeE7LNtfZzl9rfP2Pv0yRkm07QkcCGjgIyAPrdW+drANy33u1KiIgoSRgAvakTgGwAl9jfXwFgH4A/2983h3Za67D9JgIYbn/9BDTchcsH8Lj99Qh7n1Ct7bab1VJbE+ibJfhoCgZA/yotqp4E+vgRt6shIqIkYQD0plMAvAUgAKDc/m/nkNevg3baeWH7DQGQaX/dBcDmCG1vDmlrir1PqPPsttvUUlua/XqNBwOgTx3cquGvxzkigYDb1RARUZIwAHrTQwBy7P9eDuAxAIcAdLBfDwbAc8P2Gwpgsv11FwCbIrS9BTrCCGgAHBz2elO77WtrqY0jgI3J9jkaAN9r7XYlRESURAyA3pQD4Lmw514FsNH+2s1TwOF4DaCfrR6nAfCzu9yuhIiIkogB0JsOQW/QCNUZ1ad0gzeBvBLy+mmIfBPIb0K2uQYn3gRyxN43yARvAjl5zO2rAfDrJ92uhIiIkogB0JuGAdiN6mlg2gE4AKB3yDYmNPC1g07hMgaRp4FZDT2dey2ANag5DcwZ0GlgxthttIPOF8hpYE4Wk/6tAXDKa25XQkREScQA6E2nA+gPYCd0guZt0ImhQ0fqghNB5wEogU7m3CqsnbMAjILO7Vdofx1pIug5dht5AFLBiaBPHmMf0QC46CO3KyEioiRiACSnGAD9bMjNGgDXTXS7EiIiSiIGQHKKAdDP+rTQAJiz1O1KiIgoiRgAySkGQL+qrBBJO1MDYP5ut6shIqIkYgAkpxgA/aowT8Nf2k9EKsrdroaIiJKIAZCcYgD0q93LNAC+e6nblRARUZIxAJJTDIB+tf47DYCD27pdCRERJRkDIDnFAOhXi4doAPz8YbcrISKiJGMAJKcYAP1qapoGQOtltyshIqIkYwAkpxgA/eqbpzQAznnX7UqIiCjJGADJKQZAvxp2twbAVZ+7XQkRESUZAyA5xQDoV+9fpQFw2yy3KyEioiRjACSnGAD9qud5GgAPbHa7EiIiSjIGQHKKAdCPigs0/KWmiJQcdbsaIiJKMgZAcooB0I/2b9Tw9+bP3a6EiIhcwABITjEA+tHWGRoAB1ztdiVEROQCBkByigHQj1aO1gA4/B63KyEiIhcwAJJTDIB+NPttDYDjn3G7EiIicgEDIDnFAOhH372kAXBad7crISIiFzAAklMMgH405iENgEuGul0JERG5gAGQnGIA9KOPbtAAuGGS25UQEZELGADJKQZAP3rnYg2AuSvcroSIiFzAAEhOMQD6TUWZSOoZGgAL97pdDRERuYABkJxiAPSb/BwNf6+fJVJZ6XY1RETkAgZAcooB0G92LdYA2Lel25UQEZFLGADJKQZAv1k7XgPg0FvdroSIiFzCAEhOMQD6zcIPNQCOe8ztSoiIyCUMgOQUA6DfZL6qATDddLsSIiJyCQMgOcUA6Ddf/VUD4Lz+bldCREQuYQAkpxgA/ebTOzUArv7C7UqIiMglDIDkFAOg3/S/QgPgjnluV0JERC5hACSnGAD9JBAQeeO/NQAe2uZ2NURE5BIGQHKKAdBPig5p+EtNESk77nY1RETkEgZAcooB0E/2rtXw18twuxIiInIRAyA5xQDoJ5unagD8oI3blRARkYsYAMkpBkA/WT5cA+DI9m5XQkRELmIAJKcYAP1kZi8NgBP/7nYlRETkIgZAcooB0E8mPq8BcMabbldCREQuYgAkpxgA/WTUfRoAl33mdiVEROQiBkByigHQTz68XgPgpky3KyEiIhcxAJJTDIB+0ruZBsC8NW5XQkRELmIAJKcYAP2ivKR6EuhjB92uhoiIXMQASE4xAPrF4R0a/rqfrUvCERHRSYsB0JuyoZ0S/vjAfr0JgAEADgIoAvAtgJ+HtfELAN/Zrx8E8D6A08K2uRHAcgAlALYDeDqGWhkA/SJ7vgbA/v/jdiVEROQyBkBvOhvAOSGPW6Gd1NZ+fRCA3fbzrQHMALAKwPft178PIMt+vrW9XS40NAY1g4bD/gBaAPgbgDIAf4qyVgZAvyjIFVkyVGTpp25XQkRELmMA9If+ALYCOAXAGdCg9mDI6+cBqARwu/39Hfb354Vs8xB0pC/Y0b0BbAg7zkcAFkZZGwMgERGRzzAAet9p0FO4Xezvb4Z22Jlh260G8Lr9dXf7+1Bn2vvdZH8/B8B7Ydu0A1AO4NQo6mMAJCIi8hkGQO97AEAFqkfzHgZQGmG7KQAG218Psb8PVwrgz/bXm1EdKoOug74Zzq2jnibQN0vw0RQMgERERL7CAOh9mdCbOYJqC4BToadwAQ2AmRG2KYOeCgY0AHYOe/166JvhnDrqSUOEG1QYAImIiPyDAdDbDOi1fPeGPOf2KWCOABIREfkcA6C3pQHIA/AfIc8FbwJ5IOS5cxH5JpDQU7kP4sSbQNaHHW8QeBMIERFRo8cA6F3fA7ATQK8Irw0CkAPgFug0L9MReRqYafbrt9jbR5oGpi90GpgnwGlgiIiITgoMgN51G7RjLonw2g+gYe4QgOPQawTPD9vmFwAs+/VD9vZNwra5EcAK6DWFO8CJoImIiE4KDIDkFAMgERGRzzAAklMMgERERD7DAEhOMQASERH5DAMgOcUASERE5DMMgOQUAyAREZHPMACSUwyAREREPsMASE6lAJCcnBwpKCjggw8++OCDDz588MjJyWEAJEcuQIS1gfnggw8++OCDD188moIoBimofgOl8OH5R1P2l68e7C//PNhX/nqwv6r/P5wCohikQD9EKW4XQg3C/vIX9pd/sK/8hf1F5BA/RP7C/vIX9pd/sK/8hf1F5BA/RP7C/vIX9pd/sK/8hf1F5FATAGn2f8n72F/+wv7yD/aVv7C/iIiIiIiIiIiIiIiIiIiIiIiIiIjIdT8FsB+6Okdj9XcA37pdRJywv/yF/eUvJ0N/vQvgfbeLiIOToa/+AGAlgO+5XQg1Tu8C+CTk+ysAfA4gB0AxgA0AXoiw340AlgMoAbAdwNNhr98A4DsAe6C3zf+xnjoG29u9GF35+AGAYQCyAFQAmBBhmyYA8gD8Nsq2vcjN/hqGE5cDWhRl/Q2pl/0Vv89XC2g4KwBwFNpfv4ii/p8CmGwfp9SueyBqToPB/opPf9W25Na/Y/tRcBG0z/PDnv9v+/lmMbbrFW721c+gvw/3ADgO/YxcHMPP8J5dSymAVbVsswLAozG0TVSnHwI4AqBNyHNPQP86vBFAc+gb7zj0r/ygZgCKAPSH/gPzNwBlAP4Uss0dAHoAaI/6A+AfoW/+XEQfAH8EYBCAJ6EfwkgBEAD6ABgXZdte43Z/DQOQAeCckMdZUf4MDakXYH/Fo78uBHAIwNsAWtvHuwsaABrqTADPAPg1AAPALQA2AhgTth37y3l/nRP2eBxAwD5utE4FsBRAOk4MgADwNYDeMbTrFW721SkAFgKYA+BqAJdCBzB2Qv89isb7AJ4DMAK1B8DnASyOsl2ierUHcKAB230AYEbI972hf12F+gj6oYikrgDYFMBuAC0BZCP6ABhqGGoPgDdC/8r6oYP23eZ2fw1D7f9/nQivF2B/xaO/xgIY2YDjR+sf0FGWUOyvmmL9fRhqAoDpDdgukt7Qvu+IyAGwA4BdMbbtBW721SX28y1Dnvs+9I+tvzWgpkjSUHsANOzjxfKHAFGt+kNHdOozCsBXId/PgQ5dh2oHoBz6l2e42n7hfQ/64QwO02cjcQHwR9C/pm900L7b3O6vYdB/TPYD2AxgKKIbTapNeL0A+8tpf30PepqvG4BMaJ8tjrBdtM4DMMuuORT7q6ZYPl+hfmbv/3AD6gl3M/TUZgpqD4At7DqMGNr3Ajf76nL7+QvDns+D/o6MRRpqD4AAsA8a2oniZgJqXkMRSRvoEPnvQp7bDKBL2HbXQT8U50Zoo7ZfeJ0BTIEOqQOJDYAAcBj+/hC53V8PQk8htgJwN/QX1lo4mxU/Ur1B7K9q0fbXOfbzRQBeAnAlgE6IPaR9Dj2dJtBrCn8QYRv2V7VYPl+hXoH+/4z0/7kuP4WO7N1gf98RkQNgcEkzvwZ2N/vqVOi/VV9AL5E4DfrZEugfW7FIQ90BcAWA1BjbJoooEzpEXpuW0JGDV8Oe3wwNb6Guh34AzonQTqQP0VUA9kJHFIKykdgAmAu9nsmv3OyvSM6F/oJt34BtI6mt3iD2V7Vo++s8+/nwa/W+hYa5aJ0D4JcA7gWwDsCHEbZhf1Vz+vnaCGBAPdtE8g2AXiHfd0TkAHiqXccdMRzDC9zuq6uggU2gNx9Ohl5vmV5f4bVIQ90BcD78fc0medBonPgPRNBl0GHnnhFei8cw+ovQ0YiKkIcAqIQGwVgMQ90BsBjAfTG27QVu9ldttgAwG7htqLrqDWJ/VYu2v06ztw//B7A39B8TJ36LyCMm7K9qTj5f/2tvc0VdxdYiHzV/p1aiOqQ8EbLdz+znfx3DMbzAK311BoCz7a8Xo+5QWpc01B0ANwD4V4xtE0X0L0R+07WEfoDermW/3gDWhz03CNFdSPtT6KnE0Ecu9K/XS+srvBbDUHsAvBCRr9vwEzf7K5KfQqdS+EsDtg1VX70A+yse/bUAJ94EMh61/8PZUMGAckHIc+yvmpx8voYBWFbH63VpgZq/U7sCKLS/PjNku1ugo/d+vWnHK30VdDE0bN/WgG0jSUPtAfAH0L66Jca2iSK6HPqXT+gvhuDQ+SjUnJLg7JBtgrfS94X+wnkCJ95K/2PodUdXQj9EweuQ6pqDLBuxnQK+zG77WwAzQ44bqiOAbTG07SVu9tePofNutYH+w98WGjB2Azg9ip+hIfUC7K94fL7a2fs9CZ0T7u/QkaBo5uu7EzodSStov98Jve5zXth2HcH+isfvwxS7rfC56WLVEZFPAach9juMvcDtvrof+juwOfSyiGzo1DrRushu+yMAm0KOe1rINm2hN3T9ZwztE9VpIYCnQr5PQ+TJSLPD9rsRemFqKYAdOPEXVtta2hlWRy3ZODEAzqpnn+B+kY4VKhN6oa7fudVfP0T13aRl0DmvhgE4P6ydYdA+q01D62V/xefz9QT0NH0xdITh3rDXh6Hu/roJGvTz7TY2Q0fpfxK2HfsrPv31f9Cbbc6opb5ZEfapS0dEDoCbADwURTte5GZfBadCCv4ufAM1QxtQ/2cL9uuRjnVByDaDoQGRKO7uhA6Je3WpmWzoLzEnWkFPC9T2S9VPvN5fs6C/iJ1gfyXPLLC/Qnm9v7Lh/PfhXdCf8T+cFuMyr/fVLDj/bJ0NnV/Q76u2kIe9gBNHcrzgl9Al3px+wG8DcLvzcjzDq/11OvSv4h87bIf9lRzsr8i82l/x+n34AIBrnJfjCV7tq3h9tn4DnX6LiIiIiIiIiIiIiIiIiIiIiIiIiIiIiIiIiIiIiIiIiIiIiIiIiMhtbaErJoSvSEJEREREDn0f3ltp4VTELwCeAv+viEFERESN2F+gy0I1CXv+awAj7K/vBrAcQAmA7QBSUTPg/BO6mkQRdKWCD1FztYKO0LVj/wBdZqsCtS9DdSd0beBiADPtfUNDWRp0/eFQL6Lm2qxXA5gK4CCAAgCzAfwqbB+Brtc60a57OGpfp/UUAK/YP3sxgNUA7gtpq629/e0AlkHXcr2plp+PiIiIyHU/hIaz+0Oe+y/oovY3QUNNAYAOAJoD+B10sfvUkO1ftLdtBuBmABuhITCoIzQUzQdwHYBLAfwoQi3nQ0Nmf3ubRwDsRfQB8GYAjwJoYT8+tts5PWQbga41/IT9cxkA2tvPXwLgHFSvQ9wTwAb7/0Vz++cpAXCj/Xpbe7/V0P8/FwL4aYSfj4iIiMgzPgSQHvL9CwC2QUe+5gDoHLb9owD21NHe/dDRt6CO0IB0RT11vAkdITwl5LleiD4Ahvs+gELoCGSQAOgXtl1bnHgK+EfQUb82Ydt+DGBM2H731lEDERERkae0hp6WbWp/vwpAN/vrImgAOhbyKIYGnv+0t7kJeso1F8DRkNeDo3wdoSOKocEukvEAPg177l5EHwD/G8BH0FPJBXbNAQDPhmwj0BHGUG1xYgC82n7uWNijDMDisK91ZQQAAAIUSURBVP2agoiIiMhHlkNH+n4FoBJ6OhbQMPcKgIsiPL4HPXVaDB1NuxZ6+vQJ1AxSHaGnmeszAfUHwNegp1pD/Rs1A2A6gKXQ6wlb2rUegAbFIAHwx7B22uLEAHiN/dyNOPHnP7+O/YiIiIg87xnoiNlAAJkhz88H8Ekd+/0JQDlq3tX7KmILgMFTwKHeCmvrGei1e6GjiaNRMwAeBfBYyPfn223UFwCvs58PvX7vdOj1fo+hdm3BAEhEREQ+lAI93VsK4MGQ52+HBrw06GhaC/v1HvbrV0LDzwvQGyQeA7AbsQXAX9jH7wu9CeRhAHlhbbWAns41oTdbPAfgMGoGwJUAptjbXgO9jvE46g+ATe22OwA4G9V3MveAXtPYwT5ma/u4HezX24IBkIiIiHxqBCJPCXM7dCTwOPSausUAngx5/SXoTSHHAUyGhsCGBMC29nYXhDz3BwBboKNucwA8jhPD1dMAdkGvxRsOoAtqBsDW0FPAJdBRzfvs1+sLgIBe+5gHDYLD7OdOAfAP6N3NZQD22z/nDWE/BwMgERER+c5UAO8n8XgdoWHv1Dq2aQuGKyIiIqK4OwvAQ9CbPy5N4nHHoub8g5G0BQMgERERUdxlQ0/t/svlOiJpCwZAIiIiIiIiIiIiIiIiIiIiIiIiIiIiIiIiIiIiIiIiIiIiIiIiIiIiIiIiIiIiIiIiIiIiqtf/A7ca0IEtC9kpAAAAAElFTkSuQmCC\" width=\"640\">"
      ],
      "text/plain": [
       "<IPython.core.display.HTML object>"
      ]
     },
     "metadata": {},
     "output_type": "display_data"
    },
    {
     "data": {
      "text/plain": [
       "<matplotlib.axes._subplots.AxesSubplot at 0x1fb401e68d0>"
      ]
     },
     "execution_count": 485,
     "metadata": {},
     "output_type": "execute_result"
    }
   ],
   "source": [
    "housing_effect.set_index(['year','quarter']).plot()"
   ]
  },
  {
   "cell_type": "code",
   "execution_count": 492,
   "metadata": {},
   "outputs": [
    {
     "name": "stdout",
     "output_type": "stream",
     "text": [
      "The value for the Pearson correlation between these two time series is 0.95\n"
     ]
    }
   ],
   "source": [
    "print('The value for the Pearson correlation between these two time series is {:2.2f}'.format(np.corrcoef(housing_effect.dropna())[1,0]))"
   ]
  },
  {
   "cell_type": "markdown",
   "metadata": {},
   "source": [
    "The correlation coefficient above might indicate that both have a linar relationship between them, possibly influentiated by the external housing market. It is also really interesting to see how the number of active listings have really an spiky form, probably because Airbnb remove listings from the Web from time to time."
   ]
  },
  {
   "cell_type": "markdown",
   "metadata": {},
   "source": [
    "# 5. Conclusion"
   ]
  },
  {
   "cell_type": "markdown",
   "metadata": {},
   "source": [
    "Even though we could not prove that, at the overall level (meaning Barcelona as a whole), the increase in active listings in Airbnb has had a negative effect in the available long-term housing that does not mean that this effect might not be noticeable in specific neighborhoods. \n",
    "\n",
    "What we did see is that Airbnb's claim about promoting the 'sharing' economy by allowing people to rent spaces in the homes they live in, or sporadically the whole apartment/house in case of being outside due to holidays, it's not true at all. Not only that, but we saw that the percentange of active listings for entire apartments or **hotel rooms** is way greater than cero, with values as high as 60% in the biggest touristic districts, so this is not a marginal activity.\n",
    "\n",
    "Not only that, but we saw that the top 5% of the hosts by number of listings owned represent a 41.30% of the total active entire apt/hotel room listings. If this is not a business, I could not imagine what it is.\n",
    "\n",
    "For future ideas, we are thinking of analyzing neighborhood by neighborhood and also bringin the mean value for the rental contracts and the benefit generated by the Airbnb listings to their hosts (as calculated in the model suggested by Inside Airbnb), as to see if there is a relationship there. it might certainly be that landlords, knowing how much they could make if they fully rented their properties in Airbnb decided to go anyway with more conventional ways (rental contracts) but raising the price to compensate the lost opportunity."
   ]
  },
  {
   "cell_type": "markdown",
   "metadata": {},
   "source": [
    "# Other code, not used"
   ]
  },
  {
   "cell_type": "markdown",
   "metadata": {},
   "source": [
    "# 2. Which are the neighbourhoods that concentrate the hosts with the higher number of listings? This neighbourhoods can be an indicator of where airbnb is having a greater negative impact"
   ]
  },
  {
   "cell_type": "markdown",
   "metadata": {},
   "source": [
    "### by neighbourhood_group"
   ]
  },
  {
   "cell_type": "code",
   "execution_count": 89,
   "metadata": {},
   "outputs": [],
   "source": [
    "listings_per_neighbourhood_host = listings.groupby(['neighbourhood_group','host_id']).size()"
   ]
  },
  {
   "cell_type": "code",
   "execution_count": 90,
   "metadata": {},
   "outputs": [
    {
     "data": {
      "text/plain": [
       "neighbourhood_group  host_id  \n",
       "Ciutat Vella         10704         9\n",
       "                     71615         2\n",
       "                     73163         2\n",
       "                     136853       10\n",
       "                     224605        2\n",
       "                                  ..\n",
       "Sarrià-Sant Gervasi  280042827     2\n",
       "                     283385188     2\n",
       "                     298575589     3\n",
       "                     299589921     3\n",
       "                     301501550     4\n",
       "Length: 3167, dtype: int64"
      ]
     },
     "execution_count": 90,
     "metadata": {},
     "output_type": "execute_result"
    }
   ],
   "source": [
    "# Only interested on those hosts with more than one listing\n",
    "spl = (listings_per_neighbourhood_host > 1)\n",
    "listings_per_neighbourhood_host = listings_per_neighbourhood_host[spl]\n",
    "listings_per_neighbourhood_host"
   ]
  },
  {
   "cell_type": "code",
   "execution_count": 100,
   "metadata": {},
   "outputs": [
    {
     "data": {
      "text/plain": [
       "neighbourhood_group\n",
       "Ciutat Vella           3008\n",
       "Eixample               4622\n",
       "Gràcia                  976\n",
       "Horta-Guinardó          306\n",
       "Les Corts               195\n",
       "Nou Barris               98\n",
       "Sant Andreu             151\n",
       "Sant Martí             1218\n",
       "Sants-Montjuïc         1341\n",
       "Sarrià-Sant Gervasi     437\n",
       "dtype: int64"
      ]
     },
     "execution_count": 100,
     "metadata": {},
     "output_type": "execute_result"
    }
   ],
   "source": [
    "listings_per_neighbourhood_illegal = listings_per_neighbourhood_host.groupby('neighbourhood_group').sum()\n",
    "listings_per_neighbourhood_illegal"
   ]
  },
  {
   "cell_type": "code",
   "execution_count": 101,
   "metadata": {},
   "outputs": [
    {
     "data": {
      "text/plain": [
       "neighbourhood_group\n",
       "Ciutat Vella           4943\n",
       "Eixample               6719\n",
       "Gràcia                 1771\n",
       "Horta-Guinardó          674\n",
       "Les Corts               421\n",
       "Nou Barris              252\n",
       "Sant Andreu             354\n",
       "Sant Martí             2174\n",
       "Sants-Montjuïc         2363\n",
       "Sarrià-Sant Gervasi     757\n",
       "dtype: int64"
      ]
     },
     "execution_count": 101,
     "metadata": {},
     "output_type": "execute_result"
    }
   ],
   "source": [
    "listings_per_neighbourhood = listings.groupby('neighbourhood_group').size()\n",
    "listings_per_neighbourhood"
   ]
  },
  {
   "cell_type": "code",
   "execution_count": 104,
   "metadata": {},
   "outputs": [
    {
     "data": {
      "text/plain": [
       "neighbourhood_group\n",
       "Eixample               0.687900\n",
       "Ciutat Vella           0.608537\n",
       "Sarrià-Sant Gervasi    0.577279\n",
       "Sants-Montjuïc         0.567499\n",
       "Sant Martí             0.560258\n",
       "Gràcia                 0.551101\n",
       "Les Corts              0.463183\n",
       "Horta-Guinardó         0.454006\n",
       "Sant Andreu            0.426554\n",
       "Nou Barris             0.388889\n",
       "dtype: float64"
      ]
     },
     "execution_count": 104,
     "metadata": {},
     "output_type": "execute_result"
    }
   ],
   "source": [
    "(listings_per_neighbourhood_illegal/listings_per_neighbourhood).sort_values(ascending=False)"
   ]
  },
  {
   "cell_type": "markdown",
   "metadata": {},
   "source": [
    "Unfortunately the clustering in neighbourhood_groups is not granular enough as to allow us to really see the differences in different parts of Barcelona. We will repeat the analysis by individual neighbourhood"
   ]
  },
  {
   "cell_type": "markdown",
   "metadata": {},
   "source": [
    "### by neighbourhood"
   ]
  },
  {
   "cell_type": "code",
   "execution_count": 105,
   "metadata": {},
   "outputs": [],
   "source": [
    "listings_per_neighbourhood_host = listings.groupby(['neighbourhood','host_id']).size()"
   ]
  },
  {
   "cell_type": "code",
   "execution_count": 106,
   "metadata": {},
   "outputs": [
    {
     "data": {
      "text/plain": [
       "neighbourhood    host_id  \n",
       "Can Baró         5107063      3\n",
       "                 45260292     2\n",
       "                 54320669     2\n",
       "                 111554365    2\n",
       "                 148901099    2\n",
       "                             ..\n",
       "les Roquetes     78774930     2\n",
       "                 151668430    2\n",
       "les Tres Torres  4459553      4\n",
       "                 5843487      8\n",
       "                 106269512    3\n",
       "Length: 3222, dtype: int64"
      ]
     },
     "execution_count": 106,
     "metadata": {},
     "output_type": "execute_result"
    }
   ],
   "source": [
    "# Only interested on those hosts with more than one listing\n",
    "spl = (listings_per_neighbourhood_host > 1)\n",
    "listings_per_neighbourhood_host = listings_per_neighbourhood_host[spl]\n",
    "listings_per_neighbourhood_host"
   ]
  },
  {
   "cell_type": "code",
   "execution_count": 107,
   "metadata": {},
   "outputs": [
    {
     "data": {
      "text/plain": [
       "neighbourhood\n",
       "Can Baró                                         18\n",
       "Ciutat Meridiana                                  2\n",
       "Diagonal Mar i el Front Marítim del Poblenou    121\n",
       "Horta                                            12\n",
       "Hostafrancs                                     150\n",
       "                                               ... \n",
       "la Vila Olímpica del Poblenou                    88\n",
       "la Vila de Gràcia                               624\n",
       "les Corts                                        99\n",
       "les Roquetes                                     12\n",
       "les Tres Torres                                  15\n",
       "Length: 68, dtype: int64"
      ]
     },
     "execution_count": 107,
     "metadata": {},
     "output_type": "execute_result"
    }
   ],
   "source": [
    "listings_per_neighbourhood_illegal = listings_per_neighbourhood_host.groupby('neighbourhood').sum()\n",
    "listings_per_neighbourhood_illegal"
   ]
  },
  {
   "cell_type": "code",
   "execution_count": 108,
   "metadata": {},
   "outputs": [
    {
     "data": {
      "text/plain": [
       "neighbourhood\n",
       "Baró de Viver                       1\n",
       "Can Baró                           43\n",
       "Can Peguera                         2\n",
       "Canyelles                           4\n",
       "Ciutat Meridiana                    8\n",
       "                                 ... \n",
       "la Vila Olímpica del Poblenou     185\n",
       "la Vila de Gràcia                1122\n",
       "les Corts                         228\n",
       "les Roquetes                       30\n",
       "les Tres Torres                    33\n",
       "Length: 71, dtype: int64"
      ]
     },
     "execution_count": 108,
     "metadata": {},
     "output_type": "execute_result"
    }
   ],
   "source": [
    "listings_per_neighbourhood = listings.groupby('neighbourhood').size()\n",
    "listings_per_neighbourhood"
   ]
  },
  {
   "cell_type": "code",
   "execution_count": 112,
   "metadata": {},
   "outputs": [
    {
     "data": {
      "text/plain": [
       "neighbourhood\n",
       "la Dreta de l'Eixample                   0.743687\n",
       "la Marina del Prat Vermell               0.642857\n",
       "el Barri Gòtic                           0.635980\n",
       "Sant Gervasi - Galvany                   0.631579\n",
       "l'Antiga Esquerra de l'Eixample          0.630213\n",
       "                                           ...   \n",
       "la Guineueta                             0.142857\n",
       "Vallvidrera, el Tibidabo i les Planes    0.057143\n",
       "Baró de Viver                                 NaN\n",
       "Can Peguera                                   NaN\n",
       "Canyelles                                     NaN\n",
       "Length: 71, dtype: float64"
      ]
     },
     "execution_count": 112,
     "metadata": {},
     "output_type": "execute_result"
    }
   ],
   "source": [
    "(listings_per_neighbourhood_illegal/listings_per_neighbourhood).sort_values(ascending=False)"
   ]
  },
  {
   "cell_type": "code",
   "execution_count": 113,
   "metadata": {},
   "outputs": [
    {
     "data": {
      "text/plain": [
       "<matplotlib.axes._subplots.AxesSubplot at 0x1f202297e48>"
      ]
     },
     "execution_count": 113,
     "metadata": {},
     "output_type": "execute_result"
    },
    {
     "data": {
      "image/png": "[encoded data removed]",
      "text/plain": [
       "<matplotlib.figure.Figure at 0x1f201cb4a20>"
      ]
     },
     "metadata": {},
     "output_type": "display_data"
    }
   ],
   "source": [
    "(listings_per_neighbourhood_illegal/listings_per_neighbourhood).sort_values(ascending=False).hist()"
   ]
  },
  {
   "cell_type": "markdown",
   "metadata": {},
   "source": [
    "the histogram above tells a sad story. If everything went accordingly to what Airbnb says all the mass would be concentrated at 0, but as we can see, it is totally the opposite. Most of the neighbourhoods count with more than 20% of listings belonging to hosts that have more than one property listed on airbnb"
   ]
  },
  {
   "cell_type": "markdown",
   "metadata": {},
   "source": [
    "# 3. Has the trend (increase/decrease of listings) in airbnb affected the number of renting contracts signed in Barcelona?"
   ]
  },
  {
   "cell_type": "code",
   "execution_count": 138,
   "metadata": {},
   "outputs": [],
   "source": [
    "listings_2019 = pd.read_csv('./listings_summary_2019.csv')\n",
    "listings_2018 = pd.read_csv('./listings_summary_2018.csv')\n",
    "listings_2017 = pd.read_csv('./listings_summary_2017.csv')\n",
    "listings_2016 = pd.read_csv('./listings_summary_2016.csv')\n",
    "listings_2015 = pd.read_csv('./listings_summary_2015.csv')"
   ]
  },
  {
   "cell_type": "code",
   "execution_count": 190,
   "metadata": {},
   "outputs": [],
   "source": [
    "active_listings_2019 = listings_2019.groupby('neighbourhood').size().reset_index()\n",
    "active_listings_2019['year'] = 2019\n",
    "\n",
    "active_listings_2018 = listings_2018.groupby('neighbourhood').size().reset_index()\n",
    "active_listings_2018['year'] = 2018\n",
    "\n",
    "active_listings_2017 = listings_2017.groupby('neighbourhood').size().reset_index()\n",
    "active_listings_2017['year'] = 2017\n",
    "\n",
    "active_listings_2016 = listings_2016.groupby('neighbourhood').size().reset_index()\n",
    "active_listings_2016['year'] = 2016\n",
    "\n",
    "active_listings_2015 = listings_2015.groupby('neighbourhood').size().reset_index()\n",
    "active_listings_2015['year'] = 2015"
   ]
  },
  {
   "cell_type": "code",
   "execution_count": 192,
   "metadata": {},
   "outputs": [],
   "source": [
    "df_active_listings = pd.concat([active_listings_2015,\n",
    "                   active_listings_2016,\n",
    "                   active_listings_2017,\n",
    "                   active_listings_2018,\n",
    "                   active_listings_2019])\n",
    "df_active_listings = df_active_listings.rename(columns = {0:'active_listings'})"
   ]
  },
  {
   "cell_type": "code",
   "execution_count": 194,
   "metadata": {},
   "outputs": [],
   "source": [
    "df_open_bcn = housing_info_barcelona.groupby(['Any','Nom_Barri']).sum()['Nombre']\n",
    "df_open_bcn = pd.DataFrame(df_open_bcn).reset_index()\n",
    "df_open_bcn = df_open_bcn.rename(columns={'Nom_Barri':'neighbourhood', 'Any':'year', 'Nombre':'contract_count'})"
   ]
  },
  {
   "cell_type": "code",
   "execution_count": 196,
   "metadata": {},
   "outputs": [],
   "source": [
    "df_housing = df_open_bcn.merge(df_active_listings, left_on=['year','neighbourhood'], right_on=['year','neighbourhood'])"
   ]
  },
  {
   "cell_type": "markdown",
   "metadata": {},
   "source": [
    "### Examples of neighbourhoods with more listings that signed contracts"
   ]
  },
  {
   "cell_type": "code",
   "execution_count": 203,
   "metadata": {},
   "outputs": [],
   "source": [
    "spl = df_housing['active_listings'] > df_housing['contract_count']"
   ]
  },
  {
   "cell_type": "code",
   "execution_count": 204,
   "metadata": {},
   "outputs": [
    {
     "data": {
      "text/html": [
       "<div>\n",
       "<style scoped>\n",
       "    .dataframe tbody tr th:only-of-type {\n",
       "        vertical-align: middle;\n",
       "    }\n",
       "\n",
       "    .dataframe tbody tr th {\n",
       "        vertical-align: top;\n",
       "    }\n",
       "\n",
       "    .dataframe thead th {\n",
       "        text-align: right;\n",
       "    }\n",
       "</style>\n",
       "<table border=\"1\" class=\"dataframe\">\n",
       "  <thead>\n",
       "    <tr style=\"text-align: right;\">\n",
       "      <th></th>\n",
       "      <th>year</th>\n",
       "      <th>neighbourhood</th>\n",
       "      <th>contract_count</th>\n",
       "      <th>active_listings</th>\n",
       "    </tr>\n",
       "  </thead>\n",
       "  <tbody>\n",
       "    <tr>\n",
       "      <th>18</th>\n",
       "      <td>2015</td>\n",
       "      <td>Sant Pere, Santa Caterina i la Ribera</td>\n",
       "      <td>1014.0</td>\n",
       "      <td>1111</td>\n",
       "    </tr>\n",
       "    <tr>\n",
       "      <th>28</th>\n",
       "      <td>2015</td>\n",
       "      <td>el Barri Gòtic</td>\n",
       "      <td>684.0</td>\n",
       "      <td>1091</td>\n",
       "    </tr>\n",
       "    <tr>\n",
       "      <th>66</th>\n",
       "      <td>2015</td>\n",
       "      <td>la Vila Olímpica del Poblenou</td>\n",
       "      <td>165.0</td>\n",
       "      <td>166</td>\n",
       "    </tr>\n",
       "    <tr>\n",
       "      <th>100</th>\n",
       "      <td>2016</td>\n",
       "      <td>el Barri Gòtic</td>\n",
       "      <td>785.0</td>\n",
       "      <td>1188</td>\n",
       "    </tr>\n",
       "    <tr>\n",
       "      <th>172</th>\n",
       "      <td>2017</td>\n",
       "      <td>el Barri Gòtic</td>\n",
       "      <td>808.0</td>\n",
       "      <td>1074</td>\n",
       "    </tr>\n",
       "    <tr>\n",
       "      <th>197</th>\n",
       "      <td>2017</td>\n",
       "      <td>la Marina del Prat Vermell</td>\n",
       "      <td>4.0</td>\n",
       "      <td>13</td>\n",
       "    </tr>\n",
       "    <tr>\n",
       "      <th>244</th>\n",
       "      <td>2018</td>\n",
       "      <td>el Barri Gòtic</td>\n",
       "      <td>967.0</td>\n",
       "      <td>1194</td>\n",
       "    </tr>\n",
       "    <tr>\n",
       "      <th>262</th>\n",
       "      <td>2018</td>\n",
       "      <td>la Barceloneta</td>\n",
       "      <td>415.0</td>\n",
       "      <td>419</td>\n",
       "    </tr>\n",
       "    <tr>\n",
       "      <th>269</th>\n",
       "      <td>2018</td>\n",
       "      <td>la Marina del Prat Vermell</td>\n",
       "      <td>3.0</td>\n",
       "      <td>11</td>\n",
       "    </tr>\n",
       "  </tbody>\n",
       "</table>\n",
       "</div>"
      ],
      "text/plain": [
       "     year                          neighbourhood  contract_count  \\\n",
       "18   2015  Sant Pere, Santa Caterina i la Ribera          1014.0   \n",
       "28   2015                         el Barri Gòtic           684.0   \n",
       "66   2015          la Vila Olímpica del Poblenou           165.0   \n",
       "100  2016                         el Barri Gòtic           785.0   \n",
       "172  2017                         el Barri Gòtic           808.0   \n",
       "197  2017             la Marina del Prat Vermell             4.0   \n",
       "244  2018                         el Barri Gòtic           967.0   \n",
       "262  2018                         la Barceloneta           415.0   \n",
       "269  2018             la Marina del Prat Vermell             3.0   \n",
       "\n",
       "     active_listings  \n",
       "18              1111  \n",
       "28              1091  \n",
       "66               166  \n",
       "100             1188  \n",
       "172             1074  \n",
       "197               13  \n",
       "244             1194  \n",
       "262              419  \n",
       "269               11  "
      ]
     },
     "execution_count": 204,
     "metadata": {},
     "output_type": "execute_result"
    }
   ],
   "source": [
    "df_housing[spl]"
   ]
  },
  {
   "cell_type": "markdown",
   "metadata": {},
   "source": [
    "# Analyzing by quarter"
   ]
  },
  {
   "cell_type": "code",
   "execution_count": null,
   "metadata": {},
   "outputs": [],
   "source": [
    "listings = pd.DataFrame() # this list contains csv counting number of rented homes in Barcelona for the given period\n",
    "reviews = pd.DataFrame() # this list contains csv with the mean price of rented homes in Barcelona for the given period\n",
    "\n",
    "for i,file in enumerate(os.listdir('../data')):\n",
    "    if 'lloguer_cont' in file:\n",
    "        file = os.path.basename(file)\n",
    "        file = './' + file\n",
    "        cont = pd.concat([cont,pd.read_csv(file)])\n",
    "    elif 'lloguer_preu' in file:\n",
    "        file = os.path.basename(file)\n",
    "        file = './' + file\n",
    "        preu = pd.concat([preu,pd.read_csv(file)])\n",
    "        \n",
    "preu = preu.loc[preu['Lloguer_mitja']=='Lloguer mitjà mensual (Euros/mes)'].drop(columns=['Lloguer_mitja'])\n",
    "cont = cont.drop(columns=['Contractes'])\n",
    "\n",
    "cols_to_join = preu.columns[preu.columns != 'Preu'].tolist()\n",
    "\n",
    "housing_info_barcelona = preu.merge(cont, left_on=cols_to_join, right_on=cols_to_join)"
   ]
  },
  {
   "cell_type": "code",
   "execution_count": 6,
   "metadata": {},
   "outputs": [
    {
     "name": "stdout",
     "output_type": "stream",
     "text": [
      "2014_lloguer_cont_trim.csv\n",
      "2014_lloguer_preu_trim.csv\n",
      "2015_lloguer_cont_trim.csv\n",
      "2015_lloguer_preu_trim.csv\n",
      "2016_lloguer_cont_trim.csv\n",
      "2016_lloguer_preu_trim.csv\n",
      "2017_lloguer_cont_trim.csv\n",
      "2017_lloguer_preu_trim.csv\n",
      "2018_lloguer_cont_trim.csv\n",
      "2018_lloguer_preu_trim.csv\n",
      "listings_summary_2015_04.csv\n",
      "listings_summary_2015_07.csv\n",
      "listings_summary_2015_09.csv\n",
      "listings_summary_2016_01.csv\n",
      "listings_summary_2016_12.csv\n",
      "listings_summary_2017_03.csv\n",
      "listings_summary_2017_06.csv\n",
      "listings_summary_2017_09.csv\n",
      "listings_summary_2017_12.csv\n",
      "listings_summary_2018_04.csv\n",
      "listings_summary_2018_06.csv\n",
      "listings_summary_2018_09.csv\n",
      "listings_summary_2018_12.csv\n",
      "listings_summary_2019_03.csv\n",
      "listings_summary_2019_06.csv\n",
      "listings_summary_2019_09.csv\n",
      "listings_summary_2019_11.csv\n",
      "neighbourhoods.csv\n",
      "neighbourhoods.geojson\n",
      "reviews_2015_04.csv\n",
      "reviews_2015_07.csv\n",
      "reviews_2015_09.csv\n",
      "reviews_2016_01.csv\n",
      "reviews_2016_12.csv\n",
      "reviews_2017_03.csv\n",
      "reviews_2017_06.csv\n",
      "reviews_2017_09.csv\n",
      "reviews_2017_12.csv\n",
      "reviews_2018_04.csv\n",
      "reviews_2018_06.csv\n",
      "reviews_2018_09.csv\n",
      "reviews_2018_12.csv\n",
      "reviews_2019_03.csv\n",
      "reviews_2019_06.csv\n",
      "reviews_2019_09.csv\n",
      "reviews_2019_11.csv\n"
     ]
    }
   ],
   "source": [
    "for i,file in enumerate(os.listdir('../data')):\n",
    "    print(file)"
   ]
  },
  {
   "cell_type": "code",
   "execution_count": 7,
   "metadata": {},
   "outputs": [
    {
     "ename": "NameError",
     "evalue": "name 'listing' is not defined",
     "output_type": "error",
     "traceback": [
      "\u001b[1;31m---------------------------------------------------------------------------\u001b[0m",
      "\u001b[1;31mNameError\u001b[0m                                 Traceback (most recent call last)",
      "\u001b[1;32m<ipython-input-7-afce217b513f>\u001b[0m in \u001b[0;36m<module>\u001b[1;34m()\u001b[0m\n\u001b[1;32m----> 1\u001b[1;33m \u001b[0mlisting\u001b[0m\u001b[1;33m.\u001b[0m\u001b[0mhead\u001b[0m\u001b[1;33m(\u001b[0m\u001b[1;33m)\u001b[0m\u001b[1;33m\u001b[0m\u001b[0m\n\u001b[0m",
      "\u001b[1;31mNameError\u001b[0m: name 'listing' is not defined"
     ]
    }
   ],
   "source": [
    "listing.head()"
   ]
  },
  {
   "cell_type": "markdown",
   "metadata": {},
   "source": [
    "# 5. Results"
   ]
  },
  {
   "cell_type": "code",
   "execution_count": null,
   "metadata": {},
   "outputs": [],
   "source": []
  },
  {
   "cell_type": "markdown",
   "metadata": {},
   "source": [
    "# Others"
   ]
  },
  {
   "cell_type": "code",
   "execution_count": null,
   "metadata": {},
   "outputs": [],
   "source": []
  }
 ],
 "metadata": {
  "kernelspec": {
   "display_name": "Python 3",
   "language": "python",
   "name": "python3"
  },
  "language_info": {
   "codemirror_mode": {
    "name": "ipython",
    "version": 3
   },
   "file_extension": ".py",
   "mimetype": "text/x-python",
   "name": "python",
   "nbconvert_exporter": "python",
   "pygments_lexer": "ipython3",
   "version": "3.6.4"
  }
 },
 "nbformat": 4,
 "nbformat_minor": 2
}
